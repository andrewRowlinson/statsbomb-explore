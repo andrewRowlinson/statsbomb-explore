{
 "cells": [
  {
   "cell_type": "code",
   "execution_count": 1,
   "metadata": {},
   "outputs": [],
   "source": [
    "import pandas as pd\n",
    "import numpy as np\n",
    "import glob\n",
    "import os"
   ]
  },
  {
   "cell_type": "markdown",
   "metadata": {},
   "source": [
    "This notebook takes the StatsBomb json files and turns them into feather files. These are extremely fast to load so good for this prototyping kind of analysis. See: https://medium.com/@steven.p.dye/feather-files-faster-than-the-speed-of-light-d4666ce24387.\n",
    "\n",
    "They are not really meant for long term storage though. The event files are then combined from all the matches."
   ]
  },
  {
   "cell_type": "markdown",
   "metadata": {},
   "source": [
    "# Change these paths/ parameters\n",
    "You will need to change these paths/ parameters depending on where the StatsBomb open-data is located, how and where you want to save the resulting data, and if you only want the new files to be processed."
   ]
  },
  {
   "cell_type": "code",
   "execution_count": 2,
   "metadata": {},
   "outputs": [],
   "source": [
    "# open data folder is one folder down in the directory. To change if run elsewhere\n",
    "STATSBOMB_DATA = os.path.join('..','open-data','data')\n",
    "# save files in folder in current directory. To change if want to save elsewhere\n",
    "DATA_PATH = os.path.join(os.getcwd(),'data')\n",
    "# if true, only processes files that don't already have a event file\n",
    "process_new_only = True"
   ]
  },
  {
   "cell_type": "markdown",
   "metadata": {},
   "source": [
    "# Delete event data included in error"
   ]
  },
  {
   "cell_type": "markdown",
   "metadata": {},
   "source": [
    "One event file seems to be added to the statsbomb data in error. See: https://github.com/statsbomb/open-data/issues/13. Deleting it here for consistency."
   ]
  },
  {
   "cell_type": "code",
   "execution_count": 3,
   "metadata": {},
   "outputs": [],
   "source": [
    "ERROR_FILES = [os.path.join(STATSBOMB_DATA,'events','7298.json'),\n",
    "               os.path.join(STATSBOMB_DATA,'lineups','7298.json')]\n",
    "for file in ERROR_FILES:\n",
    "    if os.path.isfile(file):\n",
    "        os.remove(file)\n",
    "        print(file,'removed')"
   ]
  },
  {
   "cell_type": "markdown",
   "metadata": {},
   "source": [
    "# Setup folders"
   ]
  },
  {
   "cell_type": "markdown",
   "metadata": {},
   "source": [
    "I set up the following folders in a new data directory folder (location set above). These are the places we will save the processed json files, in feather-format. <br>\n",
    "├── data <br>\n",
    "│   ├── events_raw            <- Data from the event file <br>\n",
    "│   ├── related_events_raw    <- Data with the info on how events are connected. <br>\n",
    "│   ├── shot_freeze_raw       <- DAta with the individual shot freeze frames <br>\n",
    "│   └── tactics_raw           <- Data with the lineup tactics. <br>"
   ]
  },
  {
   "cell_type": "code",
   "execution_count": 4,
   "metadata": {},
   "outputs": [],
   "source": [
    "def make_dir(PATH):\n",
    "    if os.path.isdir(PATH)==False: os.mkdir(PATH)"
   ]
  },
  {
   "cell_type": "code",
   "execution_count": 5,
   "metadata": {},
   "outputs": [],
   "source": [
    "# locations of new folders\n",
    "RAW_EVENT_PATH = os.path.join(DATA_PATH,'events_raw')\n",
    "RAW_RELATED_PATH = os.path.join(DATA_PATH,'related_events_raw')\n",
    "RAW_SHOT_PATH = os.path.join(DATA_PATH,'shot_freeze_raw')\n",
    "RAW_TACTICS_PATH = os.path.join(DATA_PATH,'tactics_raw')"
   ]
  },
  {
   "cell_type": "code",
   "execution_count": 6,
   "metadata": {},
   "outputs": [],
   "source": [
    "# making directories\n",
    "make_dir(DATA_PATH)\n",
    "make_dir(RAW_EVENT_PATH)\n",
    "make_dir(RAW_RELATED_PATH)\n",
    "make_dir(RAW_SHOT_PATH)\n",
    "make_dir(RAW_TACTICS_PATH)"
   ]
  },
  {
   "cell_type": "markdown",
   "metadata": {},
   "source": [
    "# Get file paths"
   ]
  },
  {
   "cell_type": "markdown",
   "metadata": {},
   "source": [
    "Retrieve a list of json file paths from which we will extract the infomation."
   ]
  },
  {
   "cell_type": "code",
   "execution_count": 7,
   "metadata": {},
   "outputs": [],
   "source": [
    "MATCH_PATH = glob.glob(os.path.join(STATSBOMB_DATA,'matches','**','*.json'),recursive=True)\n",
    "LINEUP_PATH = glob.glob(os.path.join(STATSBOMB_DATA,'lineups','**','*.json'),recursive=True)\n",
    "EVENT_PATH = glob.glob(os.path.join(STATSBOMB_DATA,'events','**','*.json'),recursive=True)\n",
    "COMPETITION_PATH = os.path.join(STATSBOMB_DATA,'competitions.json')"
   ]
  },
  {
   "cell_type": "markdown",
   "metadata": {},
   "source": [
    "# Format competition data"
   ]
  },
  {
   "cell_type": "markdown",
   "metadata": {},
   "source": [
    "Get the competition data and save in feather format."
   ]
  },
  {
   "cell_type": "code",
   "execution_count": 8,
   "metadata": {},
   "outputs": [
    {
     "name": "stdout",
     "output_type": "stream",
     "text": [
      "Number of competitions in data: 20\n"
     ]
    }
   ],
   "source": [
    "df_competition = pd.read_json(COMPETITION_PATH,convert_dates=['match_updated','match_available'])\n",
    "df_competition.sort_values(['competition_id','season_id'],inplace=True)\n",
    "df_competition.reset_index(drop=True,inplace=True)\n",
    "print('Number of competitions in data:',len(df_competition))"
   ]
  },
  {
   "cell_type": "code",
   "execution_count": 9,
   "metadata": {},
   "outputs": [
    {
     "name": "stdout",
     "output_type": "stream",
     "text": [
      "<class 'pandas.core.frame.DataFrame'>\n",
      "RangeIndex: 20 entries, 0 to 19\n",
      "Data columns (total 8 columns):\n",
      "competition_id        20 non-null int64\n",
      "season_id             20 non-null int64\n",
      "country_name          20 non-null object\n",
      "competition_name      20 non-null object\n",
      "competition_gender    20 non-null object\n",
      "season_name           20 non-null object\n",
      "match_updated         20 non-null datetime64[ns]\n",
      "match_available       20 non-null datetime64[ns]\n",
      "dtypes: datetime64[ns](2), int64(2), object(4)\n",
      "memory usage: 1.4+ KB\n"
     ]
    }
   ],
   "source": [
    "# save to feather-format and show info\n",
    "df_competition.to_feather(os.path.join(DATA_PATH,'competition'))\n",
    "df_competition.info()"
   ]
  },
  {
   "cell_type": "markdown",
   "metadata": {},
   "source": [
    "# Format match data"
   ]
  },
  {
   "cell_type": "markdown",
   "metadata": {},
   "source": [
    "Get the match data and save in feather format."
   ]
  },
  {
   "cell_type": "code",
   "execution_count": 10,
   "metadata": {},
   "outputs": [
    {
     "name": "stdout",
     "output_type": "stream",
     "text": [
      "Number of match files in data: 20\n",
      "Number of matches in data: 767\n"
     ]
    }
   ],
   "source": [
    "print('Number of match files in data:',len(MATCH_PATH))\n",
    "match_list_dfs = [pd.read_json(file,convert_dates=['match_date','last_updated']) for file in MATCH_PATH]\n",
    "df_match = pd.concat(match_list_dfs,sort=False)\n",
    "print('Number of matches in data:',len(df_match))"
   ]
  },
  {
   "cell_type": "code",
   "execution_count": 11,
   "metadata": {},
   "outputs": [],
   "source": [
    "def split_dict_col(df,col):\n",
    "    '''function to split a dictionary column to seperate columns'''\n",
    "    # handle missings by filling with an empty dictionary\n",
    "    df[col] = df[col].apply(lambda x: {} if pd.isna(x) else x)\n",
    "    # split the non missings and change column names\n",
    "    df_temp_cols = pd.io.json.json_normalize(df[col]).set_index(df.index)\n",
    "    col_names = df_temp_cols.columns\n",
    "    col_names = [(col+'_'+c).replace('.','_') for c in col_names]\n",
    "    df[col_names] = df_temp_cols\n",
    "    # drop old column\n",
    "    df.drop(col,axis=1,inplace=True)\n",
    "    return df"
   ]
  },
  {
   "cell_type": "code",
   "execution_count": 12,
   "metadata": {},
   "outputs": [],
   "source": [
    "# loop through the columns that are still dictionary columns and add them as seperate cols to the dataframe\n",
    "dictionary_columns = ['competition','season','home_team','away_team','metadata','competition_stage',\n",
    "                      'stadium','referee']\n",
    "for col in dictionary_columns:\n",
    "    df_match = split_dict_col(df_match,col)\n",
    "df_match['kick_off'] = pd.to_datetime(df_match.match_date.astype(str) +' '+ df_match.kick_off)\n",
    "# rename some of the id columns with repeated names, as we added the column name infront of the new cols\n",
    "df_match.rename({'season_season_id':'season_id',\n",
    "                 'season_season_name':'season_name',\n",
    "                 'competition_competition_id':'competition_id',\n",
    "                 'home_team_home_team_id':'home_team_id',\n",
    "                 'away_team_away_team_id':'away_team_id',\n",
    "                 'competition_competition_name':'competition_name',           \n",
    "                 'home_team_home_team_name':'home_team_name',\n",
    "                 'home_team_home_team_gender':'home_team_gender',\n",
    "                 'home_team_home_team_group':'home_team_group',\n",
    "                 'away_team_away_team_name':'away_team_name',\n",
    "                 'away_team_away_team_gender':'away_team_gender',\n",
    "                 'away_team_away_team_group':'away_team_group'},axis=1,inplace=True)\n",
    "# drop one gender column as always equal to the other\n",
    "# drop match status as always available\n",
    "df_match.drop(['away_team_gender','match_status'],axis=1,inplace=True)\n",
    "df_match.rename({'home_team_gender':'competition_gender'},axis=1,inplace=True)\n",
    "# manager is a list (len=1) containing a dictionary so lets split into columns\n",
    "df_match['home_team_managers'] = df_match.home_team_managers.str[0]\n",
    "df_match = split_dict_col(df_match,'home_team_managers')\n",
    "df_match['away_team_managers'] = df_match.away_team_managers.str[0]\n",
    "df_match = split_dict_col(df_match,'away_team_managers')\n",
    "df_match['home_team_managers_dob'] = pd.to_datetime(df_match['home_team_managers_dob'])\n",
    "df_match['away_team_managers_dob'] = pd.to_datetime(df_match['away_team_managers_dob'])\n",
    "for col in ['competition_id','season_id','home_team_id','competition_stage_id']:\n",
    "    df_match[col] = df_match[col].astype(np.int64)\n",
    "# sort and reset index: ready for exporting to feather\n",
    "df_match.sort_values('kick_off',inplace=True)\n",
    "df_match.reset_index(inplace=True,drop=True)"
   ]
  },
  {
   "cell_type": "code",
   "execution_count": 13,
   "metadata": {},
   "outputs": [
    {
     "name": "stdout",
     "output_type": "stream",
     "text": [
      "<class 'pandas.core.frame.DataFrame'>\n",
      "RangeIndex: 767 entries, 0 to 766\n",
      "Data columns (total 48 columns):\n",
      "match_id                           767 non-null int64\n",
      "match_date                         767 non-null datetime64[ns]\n",
      "kick_off                           767 non-null datetime64[ns]\n",
      "home_score                         767 non-null int64\n",
      "away_score                         767 non-null int64\n",
      "last_updated                       767 non-null datetime64[ns]\n",
      "match_week                         767 non-null int64\n",
      "competition_id                     767 non-null int64\n",
      "competition_country_name           767 non-null object\n",
      "competition_name                   767 non-null object\n",
      "season_id                          767 non-null int64\n",
      "season_name                        767 non-null object\n",
      "home_team_id                       767 non-null int64\n",
      "home_team_name                     767 non-null object\n",
      "competition_gender                 767 non-null object\n",
      "home_team_group                    100 non-null object\n",
      "home_team_country_id               766 non-null float64\n",
      "home_team_country_name             766 non-null object\n",
      "away_team_id                       767 non-null int64\n",
      "away_team_name                     767 non-null object\n",
      "away_team_group                    100 non-null object\n",
      "away_team_country_id               765 non-null float64\n",
      "away_team_country_name             765 non-null object\n",
      "metadata_data_version              767 non-null object\n",
      "metadata_shot_fidelity_version     580 non-null object\n",
      "metadata_xy_fidelity_version       490 non-null object\n",
      "competition_stage_id               767 non-null int64\n",
      "competition_stage_name             767 non-null object\n",
      "stadium_id                         671 non-null float64\n",
      "stadium_name                       671 non-null object\n",
      "stadium_country_id                 543 non-null float64\n",
      "stadium_country_name               543 non-null object\n",
      "referee_id                         723 non-null float64\n",
      "referee_name                       723 non-null object\n",
      "referee_country_id                 324 non-null float64\n",
      "referee_country_name               324 non-null object\n",
      "home_team_managers_id              512 non-null float64\n",
      "home_team_managers_name            512 non-null object\n",
      "home_team_managers_nickname        173 non-null object\n",
      "home_team_managers_dob             433 non-null datetime64[ns]\n",
      "home_team_managers_country_id      512 non-null float64\n",
      "home_team_managers_country_name    512 non-null object\n",
      "away_team_managers_id              512 non-null float64\n",
      "away_team_managers_name            512 non-null object\n",
      "away_team_managers_nickname        163 non-null object\n",
      "away_team_managers_dob             434 non-null datetime64[ns]\n",
      "away_team_managers_country_id      512 non-null float64\n",
      "away_team_managers_country_name    512 non-null object\n",
      "dtypes: datetime64[ns](5), float64(10), int64(9), object(24)\n",
      "memory usage: 287.8+ KB\n"
     ]
    }
   ],
   "source": [
    "# save to feather-format and show info\n",
    "df_match.to_feather(os.path.join(DATA_PATH,'match'))\n",
    "df_match.info()"
   ]
  },
  {
   "cell_type": "markdown",
   "metadata": {},
   "source": [
    "# Format lineup data"
   ]
  },
  {
   "cell_type": "markdown",
   "metadata": {},
   "source": [
    "Get the lineup data and save in feather format."
   ]
  },
  {
   "cell_type": "code",
   "execution_count": 14,
   "metadata": {},
   "outputs": [
    {
     "name": "stdout",
     "output_type": "stream",
     "text": [
      "Number of lineup files in data: 767\n"
     ]
    }
   ],
   "source": [
    "print('Number of lineup files in data:',len(LINEUP_PATH))\n",
    "# read as dataframe can't use list comprehension to read files as need to create the match_id from the file name\n",
    "lineup_list_dfs = []\n",
    "for file in LINEUP_PATH:\n",
    "    df_temp = pd.read_json(file)\n",
    "    df_temp['match_id'] = os.path.basename(file[:-5])\n",
    "    lineup_list_dfs.append(df_temp)\n",
    "df_lineup = pd.concat(lineup_list_dfs,sort=False)\n",
    "df_lineup.reset_index(inplace=True,drop=True)\n",
    "# each line has a column named player that contains a list of dictionaries\n",
    "# we split into seperate columns and then create a new row for each player using melt\n",
    "df_lineup_players = df_lineup.lineup.apply(pd.Series)\n",
    "df_lineup = df_lineup.merge(df_lineup_players,left_index=True,right_index=True)\n",
    "df_lineup.drop('lineup',axis=1,inplace=True)\n",
    "df_lineup = df_lineup.melt(id_vars = ['team_id','team_name','match_id'], value_name = 'player')\n",
    "df_lineup.drop('variable',axis=1,inplace=True)\n",
    "df_lineup = df_lineup[df_lineup.player.notnull()].copy()\n",
    "df_lineup = split_dict_col(df_lineup,'player')\n",
    "# rename columns with repeated words\n",
    "cols = df_lineup.columns\n",
    "cols = [col[7:] if col[:6]=='player' else col for col in cols]\n",
    "df_lineup.columns = cols\n",
    "# turn ids to integers if no missings\n",
    "df_lineup['match_id'] = df_lineup.match_id.astype(np.int64)\n",
    "df_lineup['player_id'] = df_lineup.player_id.astype(np.int64)\n",
    "# sort and reset index: ready for exporting to feather\n",
    "df_lineup.sort_values('player_id',inplace=True)\n",
    "df_lineup.reset_index(inplace=True,drop=True)"
   ]
  },
  {
   "cell_type": "code",
   "execution_count": 15,
   "metadata": {},
   "outputs": [
    {
     "name": "stdout",
     "output_type": "stream",
     "text": [
      "<class 'pandas.core.frame.DataFrame'>\n",
      "RangeIndex: 21120 entries, 0 to 21119\n",
      "Data columns (total 9 columns):\n",
      "team_id            21120 non-null int64\n",
      "team_name          21120 non-null object\n",
      "match_id           21120 non-null int64\n",
      "player_id          21120 non-null int64\n",
      "player_name        21120 non-null object\n",
      "player_nickname    12138 non-null object\n",
      "jersey_number      21113 non-null float64\n",
      "country_id         21032 non-null float64\n",
      "country_name       21032 non-null object\n",
      "dtypes: float64(2), int64(3), object(4)\n",
      "memory usage: 1.5+ MB\n"
     ]
    }
   ],
   "source": [
    "# save to feather-format and show info\n",
    "df_lineup.to_feather(os.path.join(DATA_PATH,'lineup'))\n",
    "df_lineup.info()"
   ]
  },
  {
   "cell_type": "markdown",
   "metadata": {},
   "source": [
    "# Format event data"
   ]
  },
  {
   "cell_type": "markdown",
   "metadata": {},
   "source": [
    "Get the event data and save in feather format:\n",
    "    - an events dataframe\n",
    "    - a related events dataframe\n",
    "    - a shot freeze frame dataframe\n",
    "    - a tactics lineup dataframe\n",
    "    \n",
    "Each match is stored in a seperate dataframe"
   ]
  },
  {
   "cell_type": "code",
   "execution_count": 16,
   "metadata": {},
   "outputs": [],
   "source": [
    "def list_dictionary_to_df(df,col,value_name,var_name):\n",
    "    '''Some columns are a list of dictionaries. This turns them into a new dataframe of rows'''\n",
    "    df = df.loc[df[col].notnull(),['id',col]]\n",
    "    df.set_index('id',inplace=True)\n",
    "    df = df[col].apply(pd.Series).copy()\n",
    "    df.reset_index(inplace=True)\n",
    "    df = df.melt(id_vars='id',value_name=value_name,var_name=var_name)\n",
    "    df[var_name] = df[var_name] + 1\n",
    "    df = df[df[value_name].notnull()].copy()\n",
    "    df.reset_index(inplace=True,drop=True)\n",
    "    return df"
   ]
  },
  {
   "cell_type": "code",
   "execution_count": 17,
   "metadata": {},
   "outputs": [
    {
     "name": "stdout",
     "output_type": "stream",
     "text": [
      "Number of event files in data: 767\n"
     ]
    }
   ],
   "source": [
    "print('Number of event files in data:',len(EVENT_PATH))"
   ]
  },
  {
   "cell_type": "code",
   "execution_count": 18,
   "metadata": {},
   "outputs": [
    {
     "name": "stdout",
     "output_type": "stream",
     "text": [
      "Matches with no event file: []\n",
      "Events with no match file: []\n"
     ]
    }
   ],
   "source": [
    "EVENT_FILE_NAMES = np.array([os.path.basename(file)[:-5] for file in EVENT_PATH]).astype(int)\n",
    "# quick check that all events have matches and vice versa.\n",
    "print('Matches with no event file:',list(set(df_match.match_id) - set(EVENT_FILE_NAMES)))\n",
    "print('Events with no match file:',list(set(EVENT_FILE_NAMES) - set(df_match.match_id)))"
   ]
  },
  {
   "cell_type": "code",
   "execution_count": 19,
   "metadata": {},
   "outputs": [
    {
     "name": "stdout",
     "output_type": "stream",
     "text": [
      "Event files to process: 767\n"
     ]
    }
   ],
   "source": [
    "# if you set process_new_only to True then we will not process event jsons which already have feather files\n",
    "if process_new_only:\n",
    "    event_set = set([os.path.basename(file) for file in glob.glob(os.path.join(RAW_EVENT_PATH,'*'))])\n",
    "    related_set = set([os.path.basename(file) for file in glob.glob(os.path.join(RAW_RELATED_PATH,'*'))])\n",
    "    shot_set = set([os.path.basename(file) for file in glob.glob(os.path.join(RAW_SHOT_PATH,'*'))])\n",
    "    tactics_set = set([os.path.basename(file) for file in glob.glob(os.path.join(RAW_TACTICS_PATH,'*'))])\n",
    "    to_delete = set.intersection(event_set,related_set,shot_set,tactics_set)\n",
    "    mask_delete = [False if file in to_delete else True for file in (EVENT_FILE_NAMES).astype(str)]\n",
    "    EVENT_PATH = np.array(EVENT_PATH)[mask_delete].tolist()\n",
    "    print('Event files to process:',np.array(mask_delete).sum())"
   ]
  },
  {
   "cell_type": "code",
   "execution_count": 20,
   "metadata": {},
   "outputs": [],
   "source": [
    "def create_event_feather_files(PATH):\n",
    "    df = pd.read_json(PATH,encoding='utf-8')\n",
    "    \n",
    "    # remove the date from the timestamp (it defaults to todays date)\n",
    "    # set as string as can't save time to feather\n",
    "    df['timestamp'] = df['timestamp'].dt.time.astype(str)\n",
    "    \n",
    "    # get match id\n",
    "    match_id = os.path.basename(PATH)[:-5]\n",
    "    \n",
    "    # loop through the columns that are still dictionary columns and add them as seperate cols to the dataframe\n",
    "    # these are nested dataframes in the docs - although dribbled_past/ pressure isn't needed here?\n",
    "    # also some others are needed: type, possession_team, play_pattern, team, tactics, player, pposition\n",
    "    dictionary_columns = ['50_50','bad_behaviour','ball_receipt','ball_recovery','block','carry',\n",
    "                          'clearance','dribble','duel','foul_committed','foul_won','goalkeeper',\n",
    "                          'half_end','half_start','injury_stoppage','interception',\n",
    "                          'miscontrol','pass','play_pattern','player','player_off','position',\n",
    "                          'possession_team','shot','substitution','tactics','team','type',] \n",
    "    for col in dictionary_columns:\n",
    "        if col in df.columns:\n",
    "            df = split_dict_col(df,col)\n",
    "    \n",
    "    # sort and reset index: ready for exporting to feather\n",
    "    df.sort_values(['minute','second','timestamp','possession'],inplace=True)\n",
    "    df.reset_index(inplace=True,drop=True)\n",
    "    \n",
    "    # split location info to x, y, z and drop old columns\n",
    "    df[['x','y']] = df.location.apply(pd.Series)\n",
    "    df[['pass_end_x','pass_end_y']] = df.pass_end_location.apply(pd.Series)\n",
    "    if 'carry_end_location' in df.columns:\n",
    "        df[['carry_end_x','carry_end_y']] = df.carry_end_location.apply(pd.Series)\n",
    "    if 'shot_end_location' in df.columns:\n",
    "        df[['shot_end_x','shot_end_y','shot_end_z']] = df.shot_end_location.apply(pd.Series)\n",
    "    if 'goalkeeper_end_location' in df.columns:\n",
    "        df[['goalkeeper_end_x','goalkeeper_end_y']] = df.goalkeeper_end_location.apply(pd.Series)\n",
    "        \n",
    "    cols_to_drop = ['location','pass_end_location','carry_end_location',\n",
    "                    'shot_end_location','goalkeeper_end_location']\n",
    "    cols_to_drop = set(cols_to_drop).intersection(set(df.columns))\n",
    "    df.drop(cols_to_drop,axis=1,inplace=True)\n",
    "    \n",
    "    # replace weird * character in the type_name for ball receipt\n",
    "    df['type_name'] = df['type_name'].replace({'Ball Receipt*':'Ball Receipt'})\n",
    "    \n",
    "    # create a related events dataframe\n",
    "    df_related_events = list_dictionary_to_df(df,col='related_events',\n",
    "                                              value_name='related_event',var_name='event_related_id')\n",
    "    # add on the type_names for easier lookups of how the events are related\n",
    "    df_event_type = df[['id','type_name']].copy()\n",
    "    df_related_events = df_related_events.merge(df_event_type,on='id',how='left',validate='m:1')\n",
    "    df_event_type.rename({'id':'related_event'},axis=1,inplace=True)\n",
    "    df_related_events = df_related_events.merge(df_event_type,on='related_event',\n",
    "                                                how='left',validate='m:1',suffixes=['','_related'])\n",
    "    \n",
    "    # create a shot freeze frame dataframe - also splits dictionary of player details into columns\n",
    "    df_shot_freeze = list_dictionary_to_df(df,col='shot_freeze_frame',\n",
    "                                           value_name='player',var_name='event_freeze_id')\n",
    "    df_shot_freeze = split_dict_col(df_shot_freeze,'player')\n",
    "    df_shot_freeze[['x','y']] = df_shot_freeze.player_location.apply(pd.Series)\n",
    "    df_shot_freeze.drop('player_location',axis=1,inplace=True)\n",
    "    to_rename = {'player_player_id':'player_id','player_player_name':'player_name'}\n",
    "    df_shot_freeze.rename(to_rename,axis=1,inplace=True)\n",
    "\n",
    "    # create a tactics lineup frame dataframe - also splits dictionary of player details into columns\n",
    "    df_tactics_lineup = list_dictionary_to_df(df,col='tactics_lineup',\n",
    "                                           value_name='player',var_name='event_tactics_id')\n",
    "    df_tactics_lineup = split_dict_col(df_tactics_lineup,'player')\n",
    "    df_tactics_lineup.rename(to_rename,axis=1,inplace=True)\n",
    "    \n",
    "    # drop columns stored as a seperate table \n",
    "    df.drop(['related_events','shot_freeze_frame','tactics_lineup'],axis=1,inplace=True)\n",
    "    \n",
    "    # add match id to dataframes\n",
    "    df['match_id'] = match_id\n",
    "    df_related_events['match_id'] = match_id\n",
    "    df_shot_freeze['match_id'] = match_id    \n",
    "    df_tactics_lineup['match_id'] = match_id\n",
    "    \n",
    "    # save as feather files\n",
    "    df.to_feather(os.path.join(RAW_EVENT_PATH,match_id))\n",
    "    df_related_events.to_feather(os.path.join(RAW_RELATED_PATH,match_id))\n",
    "    df_shot_freeze.to_feather(os.path.join(RAW_SHOT_PATH,match_id))\n",
    "    df_tactics_lineup.to_feather(os.path.join(RAW_TACTICS_PATH,match_id))"
   ]
  },
  {
   "cell_type": "code",
   "execution_count": 21,
   "metadata": {},
   "outputs": [
    {
     "name": "stdout",
     "output_type": "stream",
     "text": [
      "0 9860.json\n",
      "10 69325.json\n",
      "20 19716.json\n",
      "30 19763.json\n",
      "40 267670.json\n",
      "50 22942.json\n",
      "60 69142.json\n",
      "70 19739.json\n",
      "80 69304.json\n",
      "90 69144.json\n",
      "100 7581.json\n",
      "110 16248.json\n",
      "120 2275096.json\n",
      "130 266952.json\n",
      "140 9581.json\n",
      "150 266236.json\n",
      "160 266440.json\n",
      "170 69336.json\n",
      "180 22973.json\n",
      "190 265896.json\n",
      "200 19753.json\n",
      "210 69332.json\n",
      "220 69166.json\n",
      "230 9811.json\n",
      "240 267422.json\n",
      "250 69264.json\n",
      "260 19784.json\n",
      "270 69282.json\n",
      "280 68352.json\n",
      "290 69223.json\n",
      "300 69251.json\n",
      "310 2275034.json\n",
      "320 267197.json\n",
      "330 16131.json\n",
      "340 69147.json\n",
      "350 19789.json\n",
      "360 19766.json\n",
      "370 68343.json\n",
      "380 7478.json\n",
      "390 19728.json\n",
      "400 7520.json\n",
      "410 19777.json\n",
      "420 266254.json\n",
      "430 70221.json\n",
      "440 70262.json\n",
      "450 19754.json\n",
      "460 7475.json\n",
      "470 69329.json\n",
      "480 2275120.json\n",
      "490 266741.json\n",
      "500 266320.json\n",
      "510 16086.json\n",
      "520 69324.json\n",
      "530 266885.json\n",
      "540 267301.json\n",
      "550 267373.json\n",
      "560 70294.json\n",
      "570 7562.json\n",
      "580 22926.json\n",
      "590 266967.json\n",
      "600 69139.json\n",
      "610 9948.json\n",
      "620 9754.json\n",
      "630 19771.json\n",
      "640 16120.json\n",
      "650 7568.json\n",
      "660 19797.json\n",
      "670 69337.json\n",
      "680 22966.json\n",
      "690 7540.json\n",
      "700 2275108.json\n",
      "710 22921.json\n",
      "720 266045.json\n",
      "730 7577.json\n",
      "740 22943.json\n",
      "750 70301.json\n",
      "760 69257.json\n"
     ]
    }
   ],
   "source": [
    "# loop through and save all the event jsons as 4 seperate feather-files\n",
    "for i, file in enumerate(EVENT_PATH):\n",
    "    create_event_feather_files(file)\n",
    "    if i%10 == 0:\n",
    "        print(i,os.path.basename(file))"
   ]
  },
  {
   "cell_type": "markdown",
   "metadata": {},
   "source": [
    "# Combine the raw dataframes and save as a single dataframe"
   ]
  },
  {
   "cell_type": "markdown",
   "metadata": {},
   "source": [
    "Combine the event dataframes into a single dataframe for each type:\n",
    "- events\n",
    "- related_events\n",
    "- shot freeze frame\n",
    "- tactics\n",
    "\n",
    "Note that the resulting feather file will be large (3gb+)"
   ]
  },
  {
   "cell_type": "code",
   "execution_count": 22,
   "metadata": {},
   "outputs": [],
   "source": [
    "def combine_single_file(PATH,SAVE_PATH):\n",
    "    files = glob.glob(os.path.join(PATH,'*'))\n",
    "    dfs = [pd.read_feather(file) for file in files]\n",
    "    df = pd.concat(dfs,sort=False)\n",
    "    df.reset_index(drop=True,inplace=True)\n",
    "    print(df.info(verbose=True,null_counts=True))\n",
    "    df.to_feather(SAVE_PATH)"
   ]
  },
  {
   "cell_type": "code",
   "execution_count": 23,
   "metadata": {},
   "outputs": [
    {
     "name": "stderr",
     "output_type": "stream",
     "text": [
      "/home/andy/anaconda3/envs/statsbomb/lib/python3.7/site-packages/pyarrow/pandas_compat.py:752: FutureWarning: .labels was deprecated in version 0.24.0. Use .codes instead.\n",
      "  labels, = index.labels\n"
     ]
    },
    {
     "name": "stdout",
     "output_type": "stream",
     "text": [
      "<class 'pandas.core.frame.DataFrame'>\n",
      "RangeIndex: 2760426 entries, 0 to 2760425\n",
      "Data columns (total 153 columns):\n",
      "id                                  2760426 non-null object\n",
      "index                               2760426 non-null int64\n",
      "period                              2760426 non-null int64\n",
      "timestamp                           2760426 non-null object\n",
      "minute                              2760426 non-null int64\n",
      "second                              2760426 non-null int64\n",
      "possession                          2760426 non-null int64\n",
      "duration                            2018930 non-null float64\n",
      "off_camera                          26917 non-null float64\n",
      "out                                 15979 non-null float64\n",
      "under_pressure                      596198 non-null float64\n",
      "counterpress                        85641 non-null float64\n",
      "ball_receipt_outcome_id             108377 non-null float64\n",
      "ball_receipt_outcome_name           108377 non-null object\n",
      "ball_recovery_offensive             294 non-null object\n",
      "ball_recovery_recovery_failure      6201 non-null object\n",
      "block_save_block                    171 non-null object\n",
      "block_offensive                     415 non-null object\n",
      "clearance_right_foot                7804 non-null object\n",
      "clearance_body_part_id              25915 non-null float64\n",
      "clearance_body_part_name            25915 non-null object\n",
      "clearance_left_foot                 4614 non-null object\n",
      "clearance_head                      13361 non-null object\n",
      "clearance_aerial_won                4789 non-null object\n",
      "dribble_outcome_id                  32212 non-null float64\n",
      "dribble_outcome_name                32212 non-null object\n",
      "dribble_overrun                     1926 non-null object\n",
      "duel_type_id                        47698 non-null float64\n",
      "duel_type_name                      47698 non-null object\n",
      "duel_outcome_id                     29975 non-null float64\n",
      "duel_outcome_name                   29975 non-null object\n",
      "foul_committed_offensive            908 non-null object\n",
      "foul_committed_type_id              1377 non-null float64\n",
      "foul_committed_type_name            1377 non-null object\n",
      "foul_committed_card_id              2470 non-null float64\n",
      "foul_committed_card_name            2470 non-null object\n",
      "foul_committed_penalty              227 non-null object\n",
      "foul_won_defensive                  5372 non-null object\n",
      "foul_won_penalty                    190 non-null object\n",
      "goalkeeper_type_id                  23209 non-null float64\n",
      "goalkeeper_type_name                23209 non-null object\n",
      "goalkeeper_position_id              19609 non-null float64\n",
      "goalkeeper_position_name            19609 non-null object\n",
      "goalkeeper_outcome_id               11033 non-null float64\n",
      "goalkeeper_outcome_name             11033 non-null object\n",
      "goalkeeper_body_part_id             5638 non-null float64\n",
      "goalkeeper_body_part_name           5638 non-null object\n",
      "goalkeeper_technique_id             7582 non-null float64\n",
      "goalkeeper_technique_name           7582 non-null object\n",
      "half_start_late_video_start         32 non-null object\n",
      "interception_outcome_id             14994 non-null float64\n",
      "interception_outcome_name           14994 non-null object\n",
      "miscontrol_aerial_won               713 non-null object\n",
      "pass_length                         759317 non-null float64\n",
      "pass_angle                          759317 non-null float64\n",
      "pass_recipient_id                   706675 non-null float64\n",
      "pass_recipient_name                 706675 non-null object\n",
      "pass_height_id                      759317 non-null float64\n",
      "pass_height_name                    759317 non-null object\n",
      "pass_type_id                        148693 non-null float64\n",
      "pass_type_name                      148693 non-null object\n",
      "pass_body_part_id                   714726 non-null float64\n",
      "pass_body_part_name                 714726 non-null object\n",
      "pass_outcome_id                     161019 non-null float64\n",
      "pass_outcome_name                   161019 non-null object\n",
      "pass_cross                          16294 non-null object\n",
      "pass_assisted_shot_id               13786 non-null object\n",
      "pass_shot_assist                    12159 non-null object\n",
      "pass_switch                         20665 non-null object\n",
      "pass_aerial_won                     11027 non-null object\n",
      "pass_goal_assist                    1627 non-null object\n",
      "pass_no_touch                       500 non-null object\n",
      "pass_inswinging                     1811 non-null object\n",
      "pass_technique_id                   8857 non-null float64\n",
      "pass_technique_name                 8857 non-null object\n",
      "pass_cut_back                       1414 non-null object\n",
      "pass_straight                       515 non-null object\n",
      "pass_through_ball                   4950 non-null object\n",
      "pass_outswinging                    1581 non-null object\n",
      "play_pattern_id                     2760426 non-null int64\n",
      "play_pattern_name                   2760426 non-null object\n",
      "player_id                           2745312 non-null float64\n",
      "player_name                         2745312 non-null object\n",
      "position_id                         2745312 non-null float64\n",
      "position_name                       2745312 non-null object\n",
      "possession_team_id                  2760426 non-null int64\n",
      "possession_team_name                2760426 non-null object\n",
      "shot_statsbomb_xg                   19639 non-null float64\n",
      "shot_key_pass_id                    13786 non-null object\n",
      "shot_aerial_won                     1194 non-null object\n",
      "shot_type_id                        19639 non-null float64\n",
      "shot_type_name                      19639 non-null object\n",
      "shot_body_part_id                   19639 non-null float64\n",
      "shot_body_part_name                 19639 non-null object\n",
      "shot_technique_id                   19639 non-null float64\n",
      "shot_technique_name                 19639 non-null object\n",
      "shot_outcome_id                     19639 non-null float64\n",
      "shot_outcome_name                   19639 non-null object\n",
      "shot_first_time                     5167 non-null object\n",
      "shot_one_on_one                     1221 non-null object\n",
      "substitution_outcome_id             4235 non-null float64\n",
      "substitution_outcome_name           4235 non-null object\n",
      "substitution_replacement_id         4240 non-null float64\n",
      "substitution_replacement_name       4240 non-null object\n",
      "tactics_formation                   2891 non-null float64\n",
      "team_id                             2760426 non-null int64\n",
      "team_name                           2760426 non-null object\n",
      "type_id                             2760426 non-null int64\n",
      "type_name                           2760426 non-null object\n",
      "x                                   2738171 non-null float64\n",
      "y                                   2738171 non-null float64\n",
      "pass_end_x                          759317 non-null float64\n",
      "pass_end_y                          759317 non-null float64\n",
      "carry_end_x                         630046 non-null float64\n",
      "carry_end_y                         630046 non-null float64\n",
      "shot_end_x                          19639 non-null float64\n",
      "shot_end_y                          19639 non-null float64\n",
      "shot_end_z                          14199 non-null float64\n",
      "goalkeeper_end_x                    12125 non-null float64\n",
      "goalkeeper_end_y                    12125 non-null float64\n",
      "match_id                            2760426 non-null object\n",
      "50_50_outcome_id                    1214 non-null float64\n",
      "50_50_outcome_name                  1214 non-null object\n",
      "bad_behaviour_card_id               537 non-null float64\n",
      "bad_behaviour_card_name             537 non-null object\n",
      "dribble_nutmeg                      1057 non-null object\n",
      "foul_committed_advantage            2928 non-null object\n",
      "foul_won_advantage                  3022 non-null object\n",
      "goalkeeper_success_in_play          14 non-null object\n",
      "injury_stoppage_in_chain            293 non-null object\n",
      "pass_miscommunication               466 non-null object\n",
      "pass_backheel                       978 non-null object\n",
      "block_deflection                    835 non-null object\n",
      "dribble_no_touch                    83 non-null object\n",
      "pass_deflected                      864 non-null object\n",
      "shot_deflected                      189 non-null object\n",
      "clearance_other                     136 non-null object\n",
      "shot_open_goal                      235 non-null object\n",
      "goalkeeper_punched_out              88 non-null object\n",
      "shot_redirect                       62 non-null object\n",
      "goalkeeper_lost_in_play             20 non-null object\n",
      "goalkeeper_shot_saved_off_target    72 non-null object\n",
      "shot_saved_off_target               72 non-null object\n",
      "goalkeeper_shot_saved_to_post       52 non-null object\n",
      "shot_saved_to_post                  47 non-null object\n",
      "goalkeeper_lost_out                 10 non-null object\n",
      "half_end_early_video_end            8 non-null object\n",
      "shot_follows_dribble                16 non-null object\n",
      "goalkeeper_saved_to_post            2 non-null object\n",
      "goalkeeper_success_out              8 non-null object\n",
      "player_off_permanent                7 non-null object\n",
      "goalkeeper_penalty_saved_to_post    1 non-null object\n",
      "shot_kick_off                       1 non-null object\n",
      "dtypes: float64(49), int64(9), object(95)\n",
      "memory usage: 3.1+ GB\n",
      "None\n"
     ]
    }
   ],
   "source": [
    "combine_single_file(RAW_EVENT_PATH,SAVE_PATH=os.path.join(DATA_PATH,'events'))"
   ]
  },
  {
   "cell_type": "code",
   "execution_count": 24,
   "metadata": {},
   "outputs": [
    {
     "name": "stdout",
     "output_type": "stream",
     "text": [
      "<class 'pandas.core.frame.DataFrame'>\n",
      "RangeIndex: 4118550 entries, 0 to 4118549\n",
      "Data columns (total 6 columns):\n",
      "id                   4118550 non-null object\n",
      "event_related_id     4118550 non-null int64\n",
      "related_event        4118550 non-null object\n",
      "type_name            4118550 non-null object\n",
      "type_name_related    4118550 non-null object\n",
      "match_id             4118550 non-null object\n",
      "dtypes: int64(1), object(5)\n",
      "memory usage: 188.5+ MB\n",
      "None\n"
     ]
    }
   ],
   "source": [
    "combine_single_file(RAW_RELATED_PATH,SAVE_PATH=os.path.join(DATA_PATH,'related_events'))"
   ]
  },
  {
   "cell_type": "code",
   "execution_count": 25,
   "metadata": {},
   "outputs": [
    {
     "name": "stdout",
     "output_type": "stream",
     "text": [
      "<class 'pandas.core.frame.DataFrame'>\n",
      "RangeIndex: 240941 entries, 0 to 240940\n",
      "Data columns (total 10 columns):\n",
      "id                      240941 non-null object\n",
      "event_freeze_id         240941 non-null int64\n",
      "player_teammate         240941 non-null bool\n",
      "player_id               240941 non-null int64\n",
      "player_name             240941 non-null object\n",
      "player_position_id      240941 non-null int64\n",
      "player_position_name    240941 non-null object\n",
      "x                       240941 non-null float64\n",
      "y                       240941 non-null float64\n",
      "match_id                240941 non-null object\n",
      "dtypes: bool(1), float64(2), int64(3), object(4)\n",
      "memory usage: 16.8+ MB\n",
      "None\n"
     ]
    }
   ],
   "source": [
    "combine_single_file(RAW_SHOT_PATH,SAVE_PATH=os.path.join(DATA_PATH,'shot_freeze_frame'))"
   ]
  },
  {
   "cell_type": "code",
   "execution_count": 26,
   "metadata": {},
   "outputs": [
    {
     "name": "stdout",
     "output_type": "stream",
     "text": [
      "<class 'pandas.core.frame.DataFrame'>\n",
      "RangeIndex: 31793 entries, 0 to 31792\n",
      "Data columns (total 8 columns):\n",
      "id                      31793 non-null object\n",
      "event_tactics_id        31793 non-null int64\n",
      "player_jersey_number    31786 non-null float64\n",
      "player_id               31793 non-null int64\n",
      "player_name             31793 non-null object\n",
      "player_position_id      31793 non-null int64\n",
      "player_position_name    31793 non-null object\n",
      "match_id                31793 non-null object\n",
      "dtypes: float64(1), int64(3), object(4)\n",
      "memory usage: 1.9+ MB\n",
      "None\n"
     ]
    }
   ],
   "source": [
    "combine_single_file(RAW_TACTICS_PATH,SAVE_PATH=os.path.join(DATA_PATH,'tactics'))"
   ]
  }
 ],
 "metadata": {
  "kernelspec": {
   "display_name": "Python 3",
   "language": "python",
   "name": "python3"
  },
  "language_info": {
   "codemirror_mode": {
    "name": "ipython",
    "version": 3
   },
   "file_extension": ".py",
   "mimetype": "text/x-python",
   "name": "python",
   "nbconvert_exporter": "python",
   "pygments_lexer": "ipython3",
   "version": "3.7.5"
  }
 },
 "nbformat": 4,
 "nbformat_minor": 2
}
