{
 "cells": [
  {
   "cell_type": "code",
   "execution_count": 1,
   "metadata": {},
   "outputs": [],
   "source": [
    "import pandas as pd\n",
    "import numpy as np\n",
    "import os"
   ]
  },
  {
   "cell_type": "markdown",
   "metadata": {},
   "source": [
    "# Load dataframes"
   ]
  },
  {
   "cell_type": "code",
   "execution_count": 2,
   "metadata": {},
   "outputs": [],
   "source": [
    "DATA_PATH = os.path.join(os.getcwd(),'data')\n",
    "SHOT_PATH = os.path.join(DATA_PATH,'freeze.parquet')\n",
    "df_shots = pd.read_parquet(SHOT_PATH)"
   ]
  },
  {
   "cell_type": "code",
   "execution_count": 3,
   "metadata": {},
   "outputs": [],
   "source": [
    "MATCH_PATH = os.path.join(DATA_PATH,'match.parquet')\n",
    "df_match = pd.read_parquet(MATCH_PATH)"
   ]
  },
  {
   "cell_type": "code",
   "execution_count": 4,
   "metadata": {},
   "outputs": [],
   "source": [
    "EVENTS_PATH = os.path.join(DATA_PATH,'event.parquet')\n",
    "df_events = pd.read_parquet(EVENTS_PATH)"
   ]
  },
  {
   "cell_type": "code",
   "execution_count": 5,
   "metadata": {},
   "outputs": [],
   "source": [
    "RELATED_PATH = os.path.join(DATA_PATH,'related.parquet')\n",
    "df_related_events = pd.read_parquet(RELATED_PATH)"
   ]
  },
  {
   "cell_type": "code",
   "execution_count": 6,
   "metadata": {},
   "outputs": [],
   "source": [
    "RELATED_PATH = os.path.join(DATA_PATH,'lineup.parquet')\n",
    "df_lineup = pd.read_parquet(RELATED_PATH)"
   ]
  },
  {
   "cell_type": "code",
   "execution_count": 7,
   "metadata": {},
   "outputs": [],
   "source": [
    "RELATED_PATH = os.path.join(DATA_PATH,'tactic.parquet')\n",
    "df_tactics = pd.read_parquet(RELATED_PATH)"
   ]
  },
  {
   "cell_type": "markdown",
   "metadata": {},
   "source": [
    "# Check that all events have matches and vice versa"
   ]
  },
  {
   "cell_type": "markdown",
   "metadata": {},
   "source": [
    "Some event files don't haev match info"
   ]
  },
  {
   "cell_type": "code",
   "execution_count": 8,
   "metadata": {
    "scrolled": true
   },
   "outputs": [
    {
     "data": {
      "text/plain": [
       "{22536, 265905, 266234, 266466, 266574, 266933, 267161, 267405, 267609, 267679}"
      ]
     },
     "execution_count": 8,
     "metadata": {},
     "output_type": "execute_result"
    }
   ],
   "source": [
    "set(df_events.match_id.unique()).symmetric_difference(set(df_match.match_id.unique()))"
   ]
  },
  {
   "cell_type": "markdown",
   "metadata": {},
   "source": [
    "# Check all shots have freeze frames"
   ]
  },
  {
   "cell_type": "markdown",
   "metadata": {},
   "source": [
    "All non-penalties have freeze frames. Some penalties have the goal keeper location."
   ]
  },
  {
   "cell_type": "code",
   "execution_count": 9,
   "metadata": {},
   "outputs": [],
   "source": [
    "set_shots = set(df_events.loc[df_events.type_name=='Shot','id'].unique())\n",
    "set_freeze = set(df_shots.id.unique())"
   ]
  },
  {
   "cell_type": "code",
   "execution_count": 10,
   "metadata": {},
   "outputs": [
    {
     "data": {
      "text/plain": [
       "set()"
      ]
     },
     "execution_count": 10,
     "metadata": {},
     "output_type": "execute_result"
    }
   ],
   "source": [
    "# all freeze frames have shots\n",
    "set_freeze - set_shots"
   ]
  },
  {
   "cell_type": "code",
   "execution_count": 11,
   "metadata": {},
   "outputs": [
    {
     "name": "stdout",
     "output_type": "stream",
     "text": [
<<<<<<< HEAD
      "Number of shots without freeze frame: 259\n"
=======
      "Number of shots without freeze frame: 254\n"
>>>>>>> 6d5a52dc8abbb526b8433831ca108d0786cbc715
     ]
    },
    {
     "data": {
      "text/plain": [
<<<<<<< HEAD
       "Penalty    259\n",
=======
       "Penalty    254\n",
>>>>>>> 6d5a52dc8abbb526b8433831ca108d0786cbc715
       "Name: shot_type_name, dtype: int64"
      ]
     },
     "execution_count": 11,
     "metadata": {},
     "output_type": "execute_result"
    }
   ],
   "source": [
    "# the shots without freeze frames are penalties\n",
    "print('Number of shots without freeze frame:',len(set_shots)-len(set_freeze))\n",
    "df_events[df_events.id.isin(set_shots - set_freeze)].shot_type_name.value_counts()"
   ]
  },
  {
   "cell_type": "code",
   "execution_count": 12,
   "metadata": {},
   "outputs": [
    {
     "data": {
      "text/plain": [
       "Goalkeeper       36\n",
       "Left Midfield     1\n",
       "Name: player_position_name, dtype: int64"
      ]
     },
     "execution_count": 12,
     "metadata": {},
     "output_type": "execute_result"
    }
   ],
   "source": [
    "# some penalties have the location of the goalkeeper, one has the location of the left midfield\n",
    "penalty_ids = df_events[df_events.shot_type_name=='Penalty'].id\n",
    "df_shots[df_shots.id.isin(penalty_ids)].player_position_name.value_counts()"
   ]
  },
  {
   "cell_type": "markdown",
   "metadata": {},
   "source": [
    "# Check related events"
   ]
  },
  {
   "cell_type": "markdown",
   "metadata": {},
   "source": [
    "Note I made a change to the preprocessing to link all events both ways.\n",
    "\n",
    "In the docs it said that related_event was a comma separated list of the Ids of related events. For example, a shot might be related to the Goalkeeper event, and a Block Event. The corresponding events will have the Id of the shot in their related_events column.\n",
    "\n",
    "When I explored the data, often carries didn't have the corresponding event.\n",
    "\n",
    "Now this is fixed."
   ]
  },
  {
   "cell_type": "code",
   "execution_count": 13,
   "metadata": {},
   "outputs": [
    {
     "data": {
      "text/plain": [
       "set()"
      ]
     },
     "execution_count": 13,
     "metadata": {},
     "output_type": "execute_result"
    }
   ],
   "source": [
    "set1 = set(df_related_events.id.unique())\n",
    "set2 = set(df_related_events.id_related.unique())\n",
    "set(set1).symmetric_difference(set2)"
   ]
  },
  {
   "cell_type": "markdown",
   "metadata": {},
   "source": [
    "# Are team names consistent between events and match"
   ]
  },
  {
   "cell_type": "markdown",
   "metadata": {},
   "source": [
    "Yes!"
   ]
  },
  {
   "cell_type": "code",
   "execution_count": 14,
   "metadata": {},
   "outputs": [
    {
     "name": "stdout",
     "output_type": "stream",
     "text": [
      "True\n"
     ]
    }
   ],
   "source": [
    "away_teams = (df_match[['away_team_id', 'away_team_name']]\n",
    "              .drop_duplicates()\n",
    "              .rename({'away_team_id':'team_id','away_team_name':'team_name'},axis=1))\n",
    "home_teams = (df_match[['home_team_id', 'home_team_name']]\n",
    "              .drop_duplicates()\n",
    "              .rename({'home_team_id':'team_id','home_team_name':'team_name'},axis=1))\n",
    "teams = pd.concat([away_teams,home_teams]).drop_duplicates()\n",
    "print(teams.team_id.nunique()==len(teams))"
   ]
  },
  {
   "cell_type": "code",
   "execution_count": 15,
   "metadata": {},
   "outputs": [
    {
     "name": "stdout",
     "output_type": "stream",
     "text": [
      "Number of differences: 0\n"
     ]
    }
   ],
   "source": [
    "teams_from_events = df_events[['team_id','team_name']].drop_duplicates()\n",
    "teams_from_events = teams_from_events.merge(teams,on='team_id',how='outer')\n",
    "print('Number of differences:',(teams_from_events.team_name_x != teams_from_events.team_name_y).sum())"
   ]
  },
  {
   "cell_type": "code",
   "execution_count": 16,
   "metadata": {},
   "outputs": [
    {
     "data": {
      "text/html": [
       "<div>\n",
       "<style scoped>\n",
       "    .dataframe tbody tr th:only-of-type {\n",
       "        vertical-align: middle;\n",
       "    }\n",
       "\n",
       "    .dataframe tbody tr th {\n",
       "        vertical-align: top;\n",
       "    }\n",
       "\n",
       "    .dataframe thead th {\n",
       "        text-align: right;\n",
       "    }\n",
       "</style>\n",
       "<table border=\"1\" class=\"dataframe\">\n",
       "  <thead>\n",
       "    <tr style=\"text-align: right;\">\n",
       "      <th></th>\n",
       "      <th>team_id</th>\n",
       "      <th>team_name_x</th>\n",
       "      <th>team_name_y</th>\n",
       "    </tr>\n",
       "  </thead>\n",
       "  <tbody>\n",
       "  </tbody>\n",
       "</table>\n",
       "</div>"
      ],
      "text/plain": [
       "Empty DataFrame\n",
       "Columns: [team_id, team_name_x, team_name_y]\n",
       "Index: []"
      ]
     },
     "execution_count": 16,
     "metadata": {},
     "output_type": "execute_result"
    }
   ],
   "source": [
    "teams_from_events[(teams_from_events.team_name_x != teams_from_events.team_name_y)]"
   ]
  },
  {
   "cell_type": "markdown",
   "metadata": {},
   "source": [
    "# Are player names consistent?"
   ]
  },
  {
   "cell_type": "markdown",
   "metadata": {},
   "source": [
    "Yes!"
   ]
  },
  {
   "cell_type": "code",
   "execution_count": 17,
   "metadata": {},
   "outputs": [],
   "source": [
    "player1 = df_shots.loc[df_shots.player_id.notnull(),['player_id','player_name']].drop_duplicates()\n",
    "player2 = df_lineup.loc[df_lineup.player_id.notnull(),['player_id','player_name']].drop_duplicates()\n",
    "player3 = df_tactics.loc[df_tactics.player_id.notnull(),['player_id','player_name']].drop_duplicates()\n",
    "player4 = df_events.loc[df_events.player_id.notnull(),['player_id','player_name']].drop_duplicates()"
   ]
  },
  {
   "cell_type": "code",
   "execution_count": 18,
   "metadata": {},
   "outputs": [],
   "source": [
    "players = (player1.merge(player2,how='outer',on='player_id',suffixes=['_shot','_lineup'])\n",
    "           .merge(player3,how='outer',on='player_id')\n",
    "           .merge(player4,how='outer',on='player_id',suffixes=['_tactics','_events']))"
   ]
  },
  {
   "cell_type": "code",
   "execution_count": 19,
   "metadata": {},
   "outputs": [
    {
     "data": {
      "text/plain": [
       "0"
      ]
     },
     "execution_count": 19,
     "metadata": {},
     "output_type": "execute_result"
    }
   ],
   "source": [
    "# check player names in shots matches events\n",
    "len(players[((players.player_name_events != players.player_name_shot) &\n",
    "             (players.player_name_shot.notnull())&\n",
    "             (players.player_name_events.notnull()))])"
   ]
  },
  {
   "cell_type": "code",
   "execution_count": 20,
   "metadata": {},
   "outputs": [
    {
     "data": {
      "text/plain": [
       "0"
      ]
     },
     "execution_count": 20,
     "metadata": {},
     "output_type": "execute_result"
    }
   ],
   "source": [
    "# check player names in lineups matches events\n",
    "len(players[((players.player_name_events != players.player_name_lineup) &\n",
    "             (players.player_name_lineup.notnull())&\n",
    "             (players.player_name_events.notnull()))])"
   ]
  },
  {
   "cell_type": "code",
   "execution_count": 21,
   "metadata": {},
   "outputs": [
    {
     "data": {
      "text/html": [
       "<div>\n",
       "<style scoped>\n",
       "    .dataframe tbody tr th:only-of-type {\n",
       "        vertical-align: middle;\n",
       "    }\n",
       "\n",
       "    .dataframe tbody tr th {\n",
       "        vertical-align: top;\n",
       "    }\n",
       "\n",
       "    .dataframe thead th {\n",
       "        text-align: right;\n",
       "    }\n",
       "</style>\n",
       "<table border=\"1\" class=\"dataframe\">\n",
       "  <thead>\n",
       "    <tr style=\"text-align: right;\">\n",
       "      <th></th>\n",
       "      <th>player_id</th>\n",
       "      <th>player_name_shot</th>\n",
       "      <th>player_name_lineup</th>\n",
       "      <th>player_name_tactics</th>\n",
       "      <th>player_name_events</th>\n",
       "    </tr>\n",
       "  </thead>\n",
       "  <tbody>\n",
       "  </tbody>\n",
       "</table>\n",
       "</div>"
      ],
      "text/plain": [
       "Empty DataFrame\n",
       "Columns: [player_id, player_name_shot, player_name_lineup, player_name_tactics, player_name_events]\n",
       "Index: []"
      ]
     },
     "execution_count": 21,
     "metadata": {},
     "output_type": "execute_result"
    }
   ],
   "source": [
    "players[((players.player_name_events != players.player_name_lineup) &\n",
    "             (players.player_name_lineup.notnull())&\n",
    "             (players.player_name_events.notnull()))]"
   ]
  },
  {
   "cell_type": "code",
   "execution_count": 22,
   "metadata": {},
   "outputs": [
    {
     "data": {
      "text/plain": [
       "0"
      ]
     },
     "execution_count": 22,
     "metadata": {},
     "output_type": "execute_result"
    }
   ],
   "source": [
    "# check player names in tactics matches events\n",
    "len(players[((players.player_name_events != players.player_name_tactics) &\n",
    "             (players.player_name_tactics.notnull())&\n",
    "             (players.player_name_events.notnull()))])"
   ]
  },
  {
   "cell_type": "markdown",
   "metadata": {},
   "source": [
    "# Are scorelines correct (exclude shoot outs)"
   ]
  },
  {
   "cell_type": "markdown",
   "metadata": {},
   "source": [
    "Yes!"
   ]
  },
  {
   "cell_type": "code",
   "execution_count": 23,
   "metadata": {},
   "outputs": [],
   "source": [
    "team_goals_from_events = df_events[((df_events.outcome_name=='Goal')|\n",
    "                                    (df_events.type_name=='Own Goal For'))&(df_events.period!=5)]\n",
    "team_goals_from_events = pd.DataFrame(team_goals_from_events.groupby(['match_id','team_name'])\n",
    "                                      .id.nunique()).reset_index()\n",
    "team_goals_from_events.rename({'id':'number_goals_events'},axis=1,inplace=True)\n",
    "teams_home_away = df_match[['match_id','away_team_name','home_team_name']]\n",
    "team_goals_from_events = team_goals_from_events.merge(teams_home_away,on='match_id',validate='m:1')\n",
    "mask_home = team_goals_from_events.team_name == team_goals_from_events.home_team_name\n",
    "team_goals_from_events.loc[mask_home,'team_status'] = 'home_score_events' \n",
    "team_goals_from_events.loc[~mask_home,'team_status'] = 'away_score_events'\n",
    "team_goals_from_events = team_goals_from_events[['match_id','team_status','number_goals_events']]\n",
    "team_goals_from_events = (team_goals_from_events.pivot(index='match_id',\n",
    "                                                       columns='team_status',\n",
    "                                                       values='number_goals_events')\n",
    "                          .reset_index())\n",
    "team_goals_from_events.replace({np.nan:0},inplace=True)\n",
    "df_match = df_match.merge(team_goals_from_events,on='match_id',how='outer')\n",
    "df_match.away_score_events.replace({np.nan:0},inplace=True)\n",
    "df_match.home_score_events.replace({np.nan:0},inplace=True)"
   ]
  },
  {
   "cell_type": "code",
   "execution_count": 24,
   "metadata": {},
   "outputs": [
    {
     "data": {
      "text/html": [
       "<div>\n",
       "<style scoped>\n",
       "    .dataframe tbody tr th:only-of-type {\n",
       "        vertical-align: middle;\n",
       "    }\n",
       "\n",
       "    .dataframe tbody tr th {\n",
       "        vertical-align: top;\n",
       "    }\n",
       "\n",
       "    .dataframe thead th {\n",
       "        text-align: right;\n",
       "    }\n",
       "</style>\n",
       "<table border=\"1\" class=\"dataframe\">\n",
       "  <thead>\n",
       "    <tr style=\"text-align: right;\">\n",
       "      <th></th>\n",
       "      <th>match_id</th>\n",
       "      <th>match_date</th>\n",
       "      <th>kick_off</th>\n",
       "      <th>home_score</th>\n",
       "      <th>away_score</th>\n",
       "      <th>last_updated</th>\n",
       "      <th>match_week</th>\n",
       "      <th>competition_id</th>\n",
       "      <th>competition_country_name</th>\n",
       "      <th>competition_name</th>\n",
       "      <th>...</th>\n",
       "      <th>home_team_managers_country_name</th>\n",
       "      <th>away_team_managers_id</th>\n",
       "      <th>away_team_managers_name</th>\n",
       "      <th>away_team_managers_nickname</th>\n",
       "      <th>away_team_managers_dob</th>\n",
       "      <th>away_team_managers_country_id</th>\n",
       "      <th>away_team_managers_country_name</th>\n",
       "      <th>metadata_xy_fidelity_version</th>\n",
       "      <th>away_score_events</th>\n",
       "      <th>home_score_events</th>\n",
       "    </tr>\n",
       "  </thead>\n",
       "  <tbody>\n",
       "  </tbody>\n",
       "</table>\n",
       "<p>0 rows × 50 columns</p>\n",
       "</div>"
      ],
      "text/plain": [
       "Empty DataFrame\n",
       "Columns: [match_id, match_date, kick_off, home_score, away_score, last_updated, match_week, competition_id, competition_country_name, competition_name, season_id, season_name, home_team_id, home_team_name, competition_gender, home_team_group, home_team_country_id, home_team_country_name, away_team_id, away_team_name, away_team_group, away_team_country_id, away_team_country_name, metadata_data_version, metadata_shot_fidelity_version, competition_stage_id, competition_stage_name, stadium_id, stadium_name, stadium_country_id, stadium_country_name, referee_id, referee_name, referee_country_id, referee_country_name, home_team_managers_id, home_team_managers_name, home_team_managers_nickname, home_team_managers_dob, home_team_managers_country_id, home_team_managers_country_name, away_team_managers_id, away_team_managers_name, away_team_managers_nickname, away_team_managers_dob, away_team_managers_country_id, away_team_managers_country_name, metadata_xy_fidelity_version, away_score_events, home_score_events]\n",
       "Index: []\n",
       "\n",
       "[0 rows x 50 columns]"
      ]
     },
     "execution_count": 24,
     "metadata": {},
     "output_type": "execute_result"
    }
   ],
   "source": [
    "df_match[df_match.home_score != df_match.home_score_events]"
   ]
  },
  {
   "cell_type": "code",
   "execution_count": 25,
   "metadata": {},
   "outputs": [
    {
     "data": {
      "text/html": [
       "<div>\n",
       "<style scoped>\n",
       "    .dataframe tbody tr th:only-of-type {\n",
       "        vertical-align: middle;\n",
       "    }\n",
       "\n",
       "    .dataframe tbody tr th {\n",
       "        vertical-align: top;\n",
       "    }\n",
       "\n",
       "    .dataframe thead th {\n",
       "        text-align: right;\n",
       "    }\n",
       "</style>\n",
       "<table border=\"1\" class=\"dataframe\">\n",
       "  <thead>\n",
       "    <tr style=\"text-align: right;\">\n",
       "      <th></th>\n",
       "      <th>match_id</th>\n",
       "      <th>match_date</th>\n",
       "      <th>kick_off</th>\n",
       "      <th>home_score</th>\n",
       "      <th>away_score</th>\n",
       "      <th>last_updated</th>\n",
       "      <th>match_week</th>\n",
       "      <th>competition_id</th>\n",
       "      <th>competition_country_name</th>\n",
       "      <th>competition_name</th>\n",
       "      <th>...</th>\n",
       "      <th>home_team_managers_country_name</th>\n",
       "      <th>away_team_managers_id</th>\n",
       "      <th>away_team_managers_name</th>\n",
       "      <th>away_team_managers_nickname</th>\n",
       "      <th>away_team_managers_dob</th>\n",
       "      <th>away_team_managers_country_id</th>\n",
       "      <th>away_team_managers_country_name</th>\n",
       "      <th>metadata_xy_fidelity_version</th>\n",
       "      <th>away_score_events</th>\n",
       "      <th>home_score_events</th>\n",
       "    </tr>\n",
       "  </thead>\n",
       "  <tbody>\n",
       "  </tbody>\n",
       "</table>\n",
       "<p>0 rows × 50 columns</p>\n",
       "</div>"
      ],
      "text/plain": [
       "Empty DataFrame\n",
       "Columns: [match_id, match_date, kick_off, home_score, away_score, last_updated, match_week, competition_id, competition_country_name, competition_name, season_id, season_name, home_team_id, home_team_name, competition_gender, home_team_group, home_team_country_id, home_team_country_name, away_team_id, away_team_name, away_team_group, away_team_country_id, away_team_country_name, metadata_data_version, metadata_shot_fidelity_version, competition_stage_id, competition_stage_name, stadium_id, stadium_name, stadium_country_id, stadium_country_name, referee_id, referee_name, referee_country_id, referee_country_name, home_team_managers_id, home_team_managers_name, home_team_managers_nickname, home_team_managers_dob, home_team_managers_country_id, home_team_managers_country_name, away_team_managers_id, away_team_managers_name, away_team_managers_nickname, away_team_managers_dob, away_team_managers_country_id, away_team_managers_country_name, metadata_xy_fidelity_version, away_score_events, home_score_events]\n",
       "Index: []\n",
       "\n",
       "[0 rows x 50 columns]"
      ]
     },
     "execution_count": 25,
     "metadata": {},
     "output_type": "execute_result"
    }
   ],
   "source": [
    "df_match[df_match.away_score != df_match.away_score_events]"
   ]
  },
  {
   "cell_type": "markdown",
   "metadata": {},
   "source": [
    "# Number of events in each file"
   ]
  },
  {
   "cell_type": "code",
   "execution_count": 26,
   "metadata": {},
   "outputs": [
    {
     "data": {
      "text/plain": [
<<<<<<< HEAD
       "count     808.000000\n",
       "mean     3585.856436\n",
       "std       400.381267\n",
       "min      2173.000000\n",
       "25%      3330.000000\n",
       "50%      3588.000000\n",
       "75%      3855.500000\n",
=======
       "count     778.000000\n",
       "mean     3595.831620\n",
       "std       399.092479\n",
       "min      2173.000000\n",
       "25%      3337.250000\n",
       "50%      3603.000000\n",
       "75%      3866.500000\n",
>>>>>>> 6d5a52dc8abbb526b8433831ca108d0786cbc715
       "max      5026.000000\n",
       "Name: id, dtype: float64"
      ]
     },
     "execution_count": 26,
     "metadata": {},
     "output_type": "execute_result"
    }
   ],
   "source": [
    "df_events.groupby('match_id')['id'].nunique().describe()"
   ]
  }
 ],
 "metadata": {
  "kernelspec": {
   "display_name": "Python 3",
   "language": "python",
   "name": "python3"
  },
  "language_info": {
   "codemirror_mode": {
    "name": "ipython",
    "version": 3
   },
   "file_extension": ".py",
   "mimetype": "text/x-python",
   "name": "python",
   "nbconvert_exporter": "python",
   "pygments_lexer": "ipython3",
   "version": "3.8.3"
  }
 },
 "nbformat": 4,
 "nbformat_minor": 2
}
