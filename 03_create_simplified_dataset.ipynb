{
 "cells": [
  {
   "cell_type": "code",
   "execution_count": 1,
   "metadata": {},
   "outputs": [],
   "source": [
    "import pandas as pd\n",
    "import numpy as np\n",
    "import os"
   ]
  },
  {
   "cell_type": "code",
   "execution_count": 2,
   "metadata": {},
   "outputs": [],
   "source": [
    "pd.set_option('display.max_columns', 500)"
   ]
  },
  {
   "cell_type": "markdown",
   "metadata": {},
   "source": [
    "# Load dataset"
   ]
  },
  {
   "cell_type": "code",
   "execution_count": 3,
   "metadata": {},
   "outputs": [
    {
     "name": "stderr",
     "output_type": "stream",
     "text": [
      "/home/andy/anaconda3/envs/statsbomb-explore/lib/python3.7/site-packages/pyarrow/pandas_compat.py:752: FutureWarning: .labels was deprecated in version 0.24.0. Use .codes instead.\n",
      "  labels, = index.labels\n"
     ]
    }
   ],
   "source": [
    "DATA_PATH = os.path.join(os.getcwd(),'data')\n",
    "EVENTS_PATH = os.path.join(DATA_PATH,'events')\n",
    "df_events = pd.read_feather(EVENTS_PATH)"
   ]
  },
  {
   "cell_type": "code",
   "execution_count": 4,
   "metadata": {},
   "outputs": [],
   "source": [
    "RELATED_PATH = os.path.join(DATA_PATH,'related_events')\n",
    "df_related_events = pd.read_feather(RELATED_PATH)"
   ]
  },
  {
   "cell_type": "code",
   "execution_count": 5,
   "metadata": {},
   "outputs": [],
   "source": [
    "MATCH_PATH = os.path.join(DATA_PATH,'match')\n",
    "df_match = pd.read_feather(MATCH_PATH)"
   ]
  },
  {
   "cell_type": "code",
   "execution_count": 6,
   "metadata": {},
   "outputs": [],
   "source": [
    "df_events[df_events.match_id==7430].to_csv('looky.csv')"
   ]
  },
  {
   "cell_type": "markdown",
   "metadata": {},
   "source": [
    "# Create definition of on ball event types and seperate the data"
   ]
  },
  {
   "cell_type": "code",
   "execution_count": 7,
   "metadata": {},
   "outputs": [],
   "source": [
    "n_events = len(df_events)"
   ]
  },
  {
   "cell_type": "code",
   "execution_count": 8,
   "metadata": {},
   "outputs": [
    {
     "name": "stdout",
     "output_type": "stream",
     "text": [
      "Check only 50/50 left out: {'50/50'}\n"
     ]
    }
   ],
   "source": [
    "# Passive/ defensive event types\n",
    "off_ball = ['Ball Receipt','Carry','Duel','Pressure','Foul Committed','Dribbled Past',\n",
    "            'Bad Behaviour','Player Off','Player On',\n",
    "            'Offside','Own Goal For','Substitution',\n",
    "            'Camera On','Half Start','Half End','Injury Stoppage','Starting XI','Tactical Shift',\n",
    "            'Camera off',]\n",
    "# note Referee Ball-Drop/ Shield added in temporarily so we can easily set a flag on the next event\n",
    "on_ball = ['Ball Recovery','Block','Clearance','Dispossessed','Dribble','Referee Ball-Drop','Shield',\n",
    "           'Error','Foul Won','Goal Keeper','Interception','Miscontrol','Own Goal Against','Pass','Shot']\n",
    "print('Check only 50/50 left out:',\n",
    "      set(df_events.type_name.unique()) - set(off_ball) - set(on_ball))"
   ]
  },
  {
   "cell_type": "code",
   "execution_count": 9,
   "metadata": {},
   "outputs": [],
   "source": [
    "# won 50/50s\n",
    "mask_50_50_success = ((df_events.type_name=='50/50')&\n",
    "                      (df_events['50_50_outcome_name'].isin(['Won','Success To Team','Success To Opposition'])))\n",
    "# lost 50/50s\n",
    "mask_50_50_lost = (df_events.type_name=='50/50')&(df_events['50_50_outcome_name']=='Lost')\n",
    "# off ball\n",
    "mask_goalkeeper_off_ball = df_events.goalkeeper_type_name.isin(['Shot Faced','Goal Conceded',\n",
    "                                                                'Penalty Conceded','Smother'])\n",
    "#mask_off_ball_all = (df_events.type_name.isin(off_ball))|(mask_goalkeeper_off_ball)|(mask_50_50_success)\n",
    "mask_off_ball_all = (df_events.type_name.isin(off_ball))|(mask_goalkeeper_off_ball)|(mask_50_50_lost)\n",
    "# on ball\n",
    "#mask_on_ball = ((df_events.type_name.isin(on_ball))&(~mask_goalkeeper_off_ball))|(mask_50_50_lost)\n",
    "mask_on_ball = ((df_events.type_name.isin(on_ball))&(~mask_goalkeeper_off_ball))|(mask_50_50_success)"
   ]
  },
  {
   "cell_type": "code",
   "execution_count": 10,
   "metadata": {},
   "outputs": [],
   "source": [
    "# seperate off_ball events and remove null columns\n",
    "df_events_other = df_events[mask_off_ball_all].copy()\n",
    "df_events_other.dropna(how='all',axis=1,inplace=True)\n",
    "# seperate on_ball events and remove null columns\n",
    "df_events = df_events[mask_on_ball].copy()\n",
    "df_events.dropna(how='all',axis=1,inplace=True)"
   ]
  },
  {
   "cell_type": "code",
   "execution_count": 11,
   "metadata": {},
   "outputs": [
    {
     "data": {
      "text/plain": [
       "True"
      ]
     },
     "execution_count": 11,
     "metadata": {},
     "output_type": "execute_result"
    }
   ],
   "source": [
    "n_events == (len(df_events_other)+len(df_events))"
   ]
  },
  {
   "cell_type": "markdown",
   "metadata": {},
   "source": [
    "# Function to shift columns easily"
   ]
  },
  {
   "cell_type": "code",
   "execution_count": 12,
   "metadata": {},
   "outputs": [],
   "source": [
    "def shift_cols(df_events,cols_next=None,cols_previous=None):\n",
    "    if cols_next is not None:\n",
    "        for col in cols_next:\n",
    "            df_events[col+'_next'] = df_events.groupby(['match_id','period'])[col].shift(-1)\n",
    "    if cols_previous is not None:\n",
    "        for col in cols_previous:\n",
    "            df_events[col+'_previous'] = df_events.groupby(['match_id','period'])[col].shift(1)"
   ]
  },
  {
   "cell_type": "markdown",
   "metadata": {},
   "source": [
    "# Function fo fill na easily"
   ]
  },
  {
   "cell_type": "code",
   "execution_count": 13,
   "metadata": {},
   "outputs": [],
   "source": [
    "def fill_na(col1,col2,to_remove):\n",
    "    df_events[col1] = df_events[col1].fillna(df_events[col2])\n",
    "    to_remove.extend([col2])"
   ]
  },
  {
   "cell_type": "markdown",
   "metadata": {},
   "source": [
    "# Simplify outcome columns"
   ]
  },
  {
   "cell_type": "code",
   "execution_count": 14,
   "metadata": {},
   "outputs": [],
   "source": [
    "df_events['outcome_id'] = np.nan\n",
    "df_events['outcome_id'] = (df_events['pass_outcome_id']\n",
    "                             .fillna(df_events['dribble_outcome_id'])\n",
    "                             .fillna(df_events['shot_outcome_id'])\n",
    "                             .fillna(df_events['interception_outcome_id'])\n",
    "                             .fillna(df_events['50_50_outcome_id'])\n",
    "                             .fillna(df_events['goalkeeper_outcome_id']))\n",
    "df_events['outcome_name'] = None\n",
    "df_events['outcome_name'] = (df_events['pass_outcome_name']\n",
    "                             .fillna(df_events['dribble_outcome_name'])\n",
    "                             .fillna(df_events['shot_outcome_name'])\n",
    "                             .fillna(df_events['interception_outcome_name'])\n",
    "                             .fillna(df_events['50_50_outcome_name'])\n",
    "                             .fillna(df_events['goalkeeper_outcome_name']))\n",
    "cols = ['pass_outcome_id','dribble_outcome_id','shot_outcome_id',\n",
    "        'interception_outcome_id','50_50_outcome_id','goalkeeper_outcome_id',\n",
    "        'pass_outcome_name','dribble_outcome_name',\n",
    "        'shot_outcome_name','interception_outcome_name','50_50_outcome_name','goalkeeper_outcome_name']\n",
    "df_events.drop(cols,axis=1,inplace=True)"
   ]
  },
  {
   "cell_type": "markdown",
   "metadata": {},
   "source": [
    "# Simplify body part columns"
   ]
  },
  {
   "cell_type": "code",
   "execution_count": 15,
   "metadata": {},
   "outputs": [],
   "source": [
    "df_events['body_part_id'] = np.nan\n",
    "df_events['body_part_id'] = (df_events['body_part_id']\n",
    "                             .fillna(df_events['clearance_body_part_id'])\n",
    "                             .fillna(df_events['goalkeeper_body_part_id'])\n",
    "                             .fillna(df_events['pass_body_part_id'])\n",
    "                             .fillna(df_events['shot_body_part_id']))\n",
    "df_events['body_part_name'] = None\n",
    "df_events['body_part_name'] = (df_events['body_part_name']\n",
    "                             .fillna(df_events['clearance_body_part_name'])\n",
    "                             .fillna(df_events['goalkeeper_body_part_name'])\n",
    "                             .fillna(df_events['pass_body_part_name'])\n",
    "                             .fillna(df_events['shot_body_part_name']))\n",
    "cols = ['clearance_right_foot','clearance_body_part_id','clearance_body_part_name','clearance_left_foot',\n",
    "       'clearance_head','goalkeeper_body_part_id','goalkeeper_body_part_name','pass_body_part_id',\n",
    "       'pass_body_part_name','shot_body_part_id','shot_body_part_name']\n",
    "df_events.drop(cols,axis=1,inplace=True)"
   ]
  },
  {
   "cell_type": "markdown",
   "metadata": {},
   "source": [
    "# Simplify aerial won columns"
   ]
  },
  {
   "cell_type": "code",
   "execution_count": 16,
   "metadata": {},
   "outputs": [],
   "source": [
    "df_events['aerial_won'] = np.nan\n",
    "df_events['aerial_won'] = (df_events['aerial_won']\n",
    "                           .fillna(df_events['clearance_aerial_won'])\n",
    "                           .fillna(df_events['miscontrol_aerial_won'])\n",
    "                           .fillna(df_events['pass_aerial_won'])\n",
    "                           .fillna(df_events['shot_aerial_won']))\n",
    "cols = ['clearance_aerial_won','miscontrol_aerial_won','pass_aerial_won','shot_aerial_won']\n",
    "df_events.drop(cols,axis=1,inplace=True)"
   ]
  },
  {
   "cell_type": "markdown",
   "metadata": {},
   "source": [
    "# Add shielded ball"
   ]
  },
  {
   "cell_type": "markdown",
   "metadata": {},
   "source": [
    "First remove shielded events that do not lead to the ball going out"
   ]
  },
  {
   "cell_type": "code",
   "execution_count": 17,
   "metadata": {},
   "outputs": [],
   "source": [
    "# remove shield events that do not lead to the ball going outn - i.e. unsuccesful shields?\n",
    "df_events.loc[df_events.pass_type_name.isin(['Throw-in','Corner','Goal Kick']),'set_piece_out'] = True\n",
    "cols_next = ['type_name','set_piece_out']\n",
    "shift_cols(df_events,cols_next=cols_next)\n",
    "mask_shield_remove = ((df_events.type_name=='Shield')&\n",
    "                      (df_events.set_piece_out_next.isnull())&(df_events.type_name_next.notnull()))\n",
    "cols_to_remove = ['type_name_next','set_piece_out_next','set_piece_out']\n",
    "df_events.drop(cols_to_remove,axis=1,inplace=True)\n",
    "df_shield = df_events[mask_shield_remove].copy()\n",
    "df_events = df_events[~mask_shield_remove].copy()\n",
    "df_events_other = pd.concat([df_events_other,df_shield],axis=0,sort=False)"
   ]
  },
  {
   "cell_type": "markdown",
   "metadata": {},
   "source": [
    "Then shift up the shield event to the previous event and delete the seperate shield event"
   ]
  },
  {
   "cell_type": "code",
   "execution_count": 18,
   "metadata": {},
   "outputs": [],
   "source": [
    "# shift the columns so we can see if the next event is a shield event\n",
    "cols_next = ['timestamp','index','id','type_name','player_id','player_name','team_id','team_name']\n",
    "shift_cols(df_events,cols_next=cols_next)\n",
    "# set the shifted columns to null if the next event isn't a shield event\n",
    "mask_shield = df_events.type_name_next == 'Shield'\n",
    "to_change = [col+'_next' for col in cols_next]\n",
    "df_events.loc[~mask_shield,to_change] = np.nan\n",
    "# rename the shifted columns to shield_...\n",
    "rename_dict = dict(zip(to_change,['shield_'+col for col in cols_next]))\n",
    "df_events.rename(rename_dict,axis=1,inplace=True)\n",
    "df_events.loc[mask_shield,'shield'] = True\n",
    "df_events.drop('shield_type_name',axis=1,inplace=True)\n",
    "# remove shielded events, as now they are next to the previous event\n",
    "df_events = df_events[~(df_events.type_name=='Shield')].copy()"
   ]
  },
  {
   "cell_type": "markdown",
   "metadata": {},
   "source": [
    "# Add ball recovery flag, either when a player attempts a ball recovery or from a recovery pass"
   ]
  },
  {
   "cell_type": "code",
   "execution_count": 19,
   "metadata": {},
   "outputs": [],
   "source": [
    "mask_recovery = (df_events.pass_type_name=='Recovery')|(df_events.type_name=='Ball Recovery')\n",
    "df_events.loc[mask_recovery,'recovery'] = mask_recovery"
   ]
  },
  {
   "cell_type": "markdown",
   "metadata": {},
   "source": [
    "# Add ball drop info to previous event"
   ]
  },
  {
   "cell_type": "code",
   "execution_count": 20,
   "metadata": {},
   "outputs": [],
   "source": [
    "df_events.loc[df_events.type_name=='Referee Ball-Drop','ball_drop'] = True\n",
    "df_events['ball_drop'] = df_events.groupby(['match_id','period']).ball_drop.shift(1)\n",
    "df_events = df_events[df_events.type_name!='Referee Ball-Drop'].copy()"
   ]
  },
  {
   "cell_type": "markdown",
   "metadata": {},
   "source": [
    "# Add player 2 information"
   ]
  },
  {
   "cell_type": "code",
   "execution_count": 21,
   "metadata": {},
   "outputs": [],
   "source": [
    "# get events from the df_events_other_dataframe\n",
    "mask_player_2_events = ((df_events_other.type_name.isin(['Dribbled Past','50/50',\n",
    "                                                       'Foul Committed','Duel']))|\n",
    "                        (df_events_other.goalkeeper_type_name=='Smother')|\n",
    "                        (df_events_other.duel_type_name=='Aerial Lost'))\n",
    "to_drop = ['match_id','period','play_pattern_id','play_pattern_name',\n",
    "           'possession','possession_team_id','possession_team_name',\n",
    "           'goalkeeper_success_in_play','goalkeeper_lost_in_play',\n",
    "           'goalkeeper_lost_out','goalkeeper_success_out']\n",
    "df_player_2_events = (df_events_other[mask_player_2_events]\n",
    "                      .dropna(axis=1,how='all')\n",
    "                      .drop(to_drop,axis=1)\n",
    "                      .rename({'id':'id_related'},axis=1)\n",
    "                      .copy())"
   ]
  },
  {
   "cell_type": "code",
   "execution_count": 22,
   "metadata": {},
   "outputs": [],
   "source": [
    "# add the corresponding id in the df_event dataframe\n",
    "mask_dribble = ((df_related_events.type_name_related.isin(['Dribbled Past']))&\n",
    "                (df_related_events.type_name=='Dribble'))\n",
    "mask_50_50 = ((df_related_events.type_name_related=='50/50')&\n",
    "              (df_related_events.type_name=='50/50'))\n",
    "mask_foul = ((df_related_events.type_name_related=='Foul Committed')&\n",
    "             (df_related_events.type_name=='Foul Won'))\n",
    "mask_duel = ((df_related_events.type_name_related.isin(['Duel','Goal Keeper']))&\n",
    "              (df_related_events.type_name=='Dispossessed'))\n",
    "mask_duel2 = ((df_related_events.type_name_related=='Duel')&\n",
    "              (df_related_events.type_name=='Dribble'))\n",
    "mask_smother = ((df_related_events.type_name.isin(['Dribble','Dispossessed'])) & \n",
    "                (df_related_events.type_name_related=='Goal Keeper'))\n",
    "aerial_id = df_events_other.loc[df_events_other.duel_type_name=='Aerial Lost','id']\n",
    "mask_aerial = (df_related_events.id_related.isin(aerial_id)&\n",
    "               (~df_related_events.type_name.isin(['Carry','Pressure','Ball Receipt'])))\n",
    "mask_player_2_related = (mask_dribble | mask_50_50| mask_aerial |\n",
    "                         mask_foul | mask_duel | mask_duel2 | mask_smother)\n",
    "df_player_2_events_related = df_related_events.loc[mask_player_2_related,['id','id_related']]\n",
    "df_player_2_events = df_player_2_events.merge(df_player_2_events_related,on='id_related',validate='1:1')"
   ]
  },
  {
   "cell_type": "code",
   "execution_count": 23,
   "metadata": {},
   "outputs": [],
   "source": [
    "# merge on the player 2 information\n",
    "df_events = df_events.merge(df_player_2_events,on='id',how='left',validate='1:1',suffixes=['','_defence'])\n",
    "# rename columns\n",
    "rename_dict = {'id_related':'id_defence',\n",
    "               'duel_outcome_id':'defence_outcome_id',\n",
    "               'duel_outcome_name':'defence_outcome_name',\n",
    "               'player_id_defence':'defence_player_id',\n",
    "               'player_name_defence':'defence_player_name',\n",
    "               'position_id_defence':'defence_player_position_id',\n",
    "               'position_name_defence':'defence_player_position_name',\n",
    "               'team_id_defence':'defence_team_id',\n",
    "               'team_name_defence':'defence_team_name',\n",
    "               'type_id_defence':'defence_type_id',\n",
    "               'type_name_defence':'defence_type_name',\n",
    "               'under_pressure_defence':'defence_under_pressure',\n",
    "               'x_defence':'defence_x',\n",
    "               'y_defence':'defence_y'}\n",
    "df_events.rename(rename_dict,axis=1,inplace=True)\n",
    "# and simplify into fewer columns\n",
    "to_remove = []\n",
    "fill_na('off_camera','off_camera_defence',to_remove)\n",
    "#fill_na('out','out_2',to_remove)\n",
    "fill_na('counterpress','counterpress_defence',to_remove)\n",
    "fill_na('defence_outcome_id','50_50_outcome_id',to_remove)\n",
    "fill_na('defence_outcome_name','50_50_outcome_name',to_remove)\n",
    "fill_na('goalkeeper_type_id','goalkeeper_type_id_defence',to_remove)\n",
    "fill_na('goalkeeper_type_name','goalkeeper_type_name_defence',to_remove)\n",
    "fill_na('defence_outcome_id','goalkeeper_outcome_id',to_remove)\n",
    "fill_na('defence_outcome_name','goalkeeper_outcome_name',to_remove)\n",
    "df_events.drop(to_remove,axis=1,inplace=True)\n",
    "# set type column to duel type\n",
    "mask_duel = df_events.duel_type_name.notnull()\n",
    "df_events.loc[mask_duel,'defence_type_id'] = df_events.loc[mask_duel,'duel_type_id']\n",
    "df_events.loc[mask_duel,'defence_type_name'] = df_events.loc[mask_duel,'duel_type_name']\n",
    "df_events.drop(['duel_type_id','duel_type_name'],axis=1,inplace=True)\n",
    "# set outcome name for aerial duels to lost if applicable\n",
    "mask_lost = (df_events.defence_type_name=='50/50') & (df_events.defence_outcome_name=='Lost')\n",
    "df_events.loc[mask_lost,'defence_type_name'] = '50/50 Lost'"
   ]
  },
  {
   "cell_type": "markdown",
   "metadata": {},
   "source": [
    "# Add goalkeeper type name to type name columns"
   ]
  },
  {
   "cell_type": "code",
   "execution_count": 24,
   "metadata": {},
   "outputs": [],
   "source": [
    "mask_goalkeeper = df_events.type_name == 'Goal Keeper'\n",
    "df_events.loc[mask_goalkeeper,'type_name'] = df_events.loc[mask_goalkeeper,'goalkeeper_type_name']\n",
    "mask_goalkeeper = df_events.defence_type_name == 'Goal Keeper'\n",
    "df_events.loc[mask_goalkeeper,'defence_type_name'] = df_events.loc[mask_goalkeeper,'goalkeeper_type_name']"
   ]
  },
  {
   "cell_type": "markdown",
   "metadata": {},
   "source": [
    "# Add on ball-receipt"
   ]
  },
  {
   "cell_type": "code",
   "execution_count": 25,
   "metadata": {},
   "outputs": [],
   "source": [
    "# drop pass_recipient_id/ pass_recipient_name as we will get it from the ball receipt, with additional info\n",
    "df_events.drop(['pass_recipient_id','pass_recipient_name'],axis=1,inplace=True)"
   ]
  },
  {
   "cell_type": "code",
   "execution_count": 26,
   "metadata": {},
   "outputs": [],
   "source": [
    "# get events from the df_events_other_dataframe\n",
    "mask_ball_receipt = df_events_other.type_name=='Ball Receipt'\n",
    "to_drop = ['match_id','period','play_pattern_id','play_pattern_name',\n",
    "           'possession','possession_team_id','possession_team_name',\n",
    "           'ball_receipt_outcome_id','ball_receipt_outcome_name',\n",
    "           'type_id','type_name']\n",
    "df_ball_receipt = (df_events_other[mask_ball_receipt]\n",
    "                   .drop(to_drop,axis=1)\n",
    "                   .dropna(axis=1,how='all')\n",
    "                   .rename({'id':'id_related'},axis=1)\n",
    "                   .copy())"
   ]
  },
  {
   "cell_type": "code",
   "execution_count": 27,
   "metadata": {},
   "outputs": [],
   "source": [
    "# add the corresponding id in the df_event dataframe\n",
    "mask_ball_receipt_related = ((df_related_events.type_name_related.isin(['Ball Receipt']))&\n",
    "                             (df_related_events.type_name=='Pass'))\n",
    "df_ball_receipt_related = df_related_events.loc[mask_ball_receipt_related,['id','id_related']]\n",
    "df_ball_receipt = df_ball_receipt.merge(df_ball_receipt_related,on='id_related',validate='1:1')"
   ]
  },
  {
   "cell_type": "code",
   "execution_count": 28,
   "metadata": {},
   "outputs": [],
   "source": [
    "# merge on the player 2 information\n",
    "df_events = df_events.merge(df_ball_receipt,on='id',how='left',validate='1:1',suffixes=['','_pass_recipient'])"
   ]
  },
  {
   "cell_type": "code",
   "execution_count": 29,
   "metadata": {},
   "outputs": [],
   "source": [
    "# rename columns\n",
    "rename_dict = {'id_related':'id_recipient',\n",
    "               'under_pressure_pass_recipient':'pass_recipient_under_pressure',\n",
    "               'player_id_pass_recipient':'pass_recipient_id',\n",
    "               'player_name_pass_recipient':'pass_recipient_name',\n",
    "               'position_id_pass_recipient':'pass_recipient_position_id',\n",
    "               'position_name_pass_recipient':'pass_recipient_position_name',\n",
    "               'team_id_pass_recipient':'pass_recipient_team_id',\n",
    "               'team_name_pass_recipient':'pass_recipient_team_name',\n",
    "               'x_pass_recipient':'pass_recipient_x',\n",
    "               'y_pass_recipient':'pass_recipient_y'}\n",
    "df_events.rename(rename_dict,axis=1,inplace=True)"
   ]
  },
  {
   "cell_type": "code",
   "execution_count": 30,
   "metadata": {},
   "outputs": [
    {
     "name": "stdout",
     "output_type": "stream",
     "text": [
      "<class 'pandas.core.frame.DataFrame'>\n",
      "Int64Index: 1054469 entries, 0 to 1054468\n",
      "Data columns (total 147 columns):\n",
      "id                                  1054469 non-null object\n",
      "index                               1054469 non-null int64\n",
      "period                              1054469 non-null int64\n",
      "timestamp                           1054469 non-null object\n",
      "minute                              1054469 non-null int64\n",
      "second                              1054469 non-null int64\n",
      "possession                          1054469 non-null int64\n",
      "duration                            1032616 non-null float64\n",
      "off_camera                          26790 non-null float64\n",
      "out                                 16363 non-null float64\n",
      "under_pressure                      244349 non-null float64\n",
      "counterpress                        35025 non-null float64\n",
      "ball_recovery_offensive             298 non-null object\n",
      "ball_recovery_recovery_failure      6325 non-null object\n",
      "block_save_block                    176 non-null object\n",
      "block_offensive                     423 non-null object\n",
      "dribble_overrun                     1948 non-null object\n",
      "foul_won_defensive                  5429 non-null object\n",
      "foul_won_penalty                    192 non-null object\n",
      "goalkeeper_type_id                  8735 non-null float64\n",
      "goalkeeper_type_name                8735 non-null object\n",
      "goalkeeper_position_id              5160 non-null float64\n",
      "goalkeeper_position_name            5160 non-null object\n",
      "goalkeeper_technique_id             5160 non-null float64\n",
      "goalkeeper_technique_name           5160 non-null object\n",
      "pass_length                         769576 non-null float64\n",
      "pass_angle                          769576 non-null float64\n",
      "pass_height_id                      769576 non-null float64\n",
      "pass_height_name                    769576 non-null object\n",
      "pass_type_id                        151071 non-null float64\n",
      "pass_type_name                      151071 non-null object\n",
      "pass_cross                          16541 non-null object\n",
      "pass_assisted_shot_id               13984 non-null object\n",
      "pass_shot_assist                    12333 non-null object\n",
      "pass_switch                         20890 non-null object\n",
      "pass_goal_assist                    1651 non-null object\n",
      "pass_no_touch                       507 non-null object\n",
      "pass_inswinging                     1871 non-null object\n",
      "pass_technique_id                   8987 non-null float64\n",
      "pass_technique_name                 8987 non-null object\n",
      "pass_cut_back                       1444 non-null object\n",
      "pass_straight                       520 non-null object\n",
      "pass_through_ball                   5002 non-null object\n",
      "pass_outswinging                    1594 non-null object\n",
      "play_pattern_id                     1054469 non-null int64\n",
      "play_pattern_name                   1054469 non-null object\n",
      "player_id                           1054469 non-null float64\n",
      "player_name                         1054469 non-null object\n",
      "position_id                         1054469 non-null float64\n",
      "position_name                       1054469 non-null object\n",
      "possession_team_id                  1054469 non-null int64\n",
      "possession_team_name                1054469 non-null object\n",
      "shot_statsbomb_xg                   19934 non-null float64\n",
      "shot_key_pass_id                    13984 non-null object\n",
      "shot_type_id                        19934 non-null float64\n",
      "shot_type_name                      19934 non-null object\n",
      "shot_technique_id                   19934 non-null float64\n",
      "shot_technique_name                 19934 non-null object\n",
      "shot_first_time                     5275 non-null object\n",
      "shot_one_on_one                     1239 non-null object\n",
      "team_id                             1054469 non-null int64\n",
      "team_name                           1054469 non-null object\n",
      "type_id                             1054469 non-null int64\n",
      "type_name                           1054469 non-null object\n",
      "x                                   1054404 non-null float64\n",
      "y                                   1054404 non-null float64\n",
      "pass_end_x                          769576 non-null float64\n",
      "pass_end_y                          769576 non-null float64\n",
      "shot_end_x                          19934 non-null float64\n",
      "shot_end_y                          19934 non-null float64\n",
      "shot_end_z                          14422 non-null float64\n",
      "match_id                            1054469 non-null int64\n",
      "dribble_nutmeg                      1064 non-null object\n",
      "foul_won_advantage                  3034 non-null object\n",
      "pass_miscommunication               478 non-null object\n",
      "pass_backheel                       978 non-null object\n",
      "block_deflection                    849 non-null object\n",
      "dribble_no_touch                    84 non-null object\n",
      "pass_deflected                      875 non-null object\n",
      "shot_deflected                      195 non-null object\n",
      "clearance_other                     141 non-null object\n",
      "shot_open_goal                      236 non-null object\n",
      "goalkeeper_punched_out              90 non-null object\n",
      "shot_redirect                       63 non-null object\n",
      "goalkeeper_shot_saved_off_target    72 non-null object\n",
      "shot_saved_off_target               72 non-null object\n",
      "shot_follows_dribble                17 non-null object\n",
      "goalkeeper_shot_saved_to_post       54 non-null object\n",
      "shot_saved_to_post                  49 non-null object\n",
      "goalkeeper_saved_to_post            2 non-null object\n",
      "goalkeeper_penalty_saved_to_post    1 non-null object\n",
      "shot_kick_off                       1 non-null object\n",
      "outcome_id                          240685 non-null float64\n",
      "outcome_name                        240685 non-null object\n",
      "body_part_id                        776083 non-null float64\n",
      "body_part_name                      776083 non-null object\n",
      "aerial_won                          18052 non-null object\n",
      "shield_timestamp                    700 non-null object\n",
      "shield_index                        700 non-null float64\n",
      "shield_id                           700 non-null object\n",
      "shield_player_id                    700 non-null float64\n",
      "shield_player_name                  700 non-null object\n",
      "shield_team_id                      700 non-null float64\n",
      "shield_team_name                    700 non-null object\n",
      "shield                              700 non-null object\n",
      "recovery                            153011 non-null object\n",
      "ball_drop                           441 non-null object\n",
      "id_defence                          92199 non-null object\n",
      "index_defence                       92199 non-null float64\n",
      "timestamp_defence                   92199 non-null object\n",
      "minute_defence                      92199 non-null float64\n",
      "second_defence                      92199 non-null float64\n",
      "duration_defence                    84824 non-null float64\n",
      "defence_under_pressure              49113 non-null float64\n",
      "defence_outcome_id                  31138 non-null float64\n",
      "defence_outcome_name                31138 non-null object\n",
      "foul_committed_offensive            546 non-null object\n",
      "foul_committed_type_id              290 non-null float64\n",
      "foul_committed_type_name            290 non-null object\n",
      "foul_committed_card_id              2320 non-null float64\n",
      "foul_committed_card_name            2320 non-null object\n",
      "foul_committed_penalty              190 non-null object\n",
      "defence_player_id                   92199 non-null float64\n",
      "defence_player_name                 92199 non-null object\n",
      "defence_player_position_id          92199 non-null float64\n",
      "defence_player_position_name        92199 non-null object\n",
      "defence_team_id                     92199 non-null float64\n",
      "defence_team_name                   92199 non-null object\n",
      "defence_type_id                     92199 non-null float64\n",
      "defence_type_name                   92199 non-null object\n",
      "defence_x                           92199 non-null float64\n",
      "defence_y                           92199 non-null float64\n",
      "foul_committed_advantage            2894 non-null object\n",
      "id_recipient                        716166 non-null object\n",
      "index_pass_recipient                716166 non-null float64\n",
      "timestamp_pass_recipient            716166 non-null object\n",
      "minute_pass_recipient               716166 non-null float64\n",
      "second_pass_recipient               716166 non-null float64\n",
      "pass_recipient_under_pressure       74260 non-null float64\n",
      "pass_recipient_id                   716166 non-null float64\n",
      "pass_recipient_name                 716166 non-null object\n",
      "pass_recipient_position_id          716166 non-null float64\n",
      "pass_recipient_position_name        716166 non-null object\n",
      "pass_recipient_team_id              716166 non-null float64\n",
      "pass_recipient_team_name            716166 non-null object\n",
      "pass_recipient_x                    716166 non-null float64\n",
      "pass_recipient_y                    716166 non-null float64\n",
      "dtypes: float64(53), int64(10), object(84)\n",
      "memory usage: 1.2+ GB\n"
     ]
    }
   ],
   "source": [
    "df_events.info(verbose=True,null_counts=True)"
   ]
  },
  {
   "cell_type": "markdown",
   "metadata": {},
   "source": [
    "# Some problem with foul won/ committed not all have related events (e.g. handballs)"
   ]
  },
  {
   "cell_type": "markdown",
   "metadata": {},
   "source": [
    "# Some problem with foul won/ committed not all have related events (e.g. handballs)"
   ]
  },
  {
   "cell_type": "markdown",
   "metadata": {},
   "source": [
    "# Some problem with foul won/ committed not all have related events (e.g. handballs)"
   ]
  },
  {
   "cell_type": "markdown",
   "metadata": {},
   "source": [
    "# !!! Some problem with foul won/ committed not all have related events (e.g. handballs)"
   ]
  },
  {
   "cell_type": "markdown",
   "metadata": {},
   "source": [
    "# Add on carries"
   ]
  },
  {
   "cell_type": "code",
   "execution_count": 33,
   "metadata": {},
   "outputs": [
    {
     "name": "stdout",
     "output_type": "stream",
     "text": [
      "360\n"
     ]
    }
   ],
   "source": [
    "to_check = df_related_events[(df_related_events.type_name_related=='Carry')&\n",
    "                             (df_related_events.type_name!='Pressure')&\n",
    "                             (~((df_related_events.id.isin(df_events.id))|\n",
    "                                (df_related_events.id.isin(df_events.id_defence))|\n",
    "                                (df_related_events.id.isin(df_events.id_recipient))))].id\n",
    "print(len(to_check))"
   ]
  },
  {
   "cell_type": "code",
   "execution_count": 38,
   "metadata": {},
   "outputs": [
    {
     "data": {
      "text/html": [
       "<div>\n",
       "<style scoped>\n",
       "    .dataframe tbody tr th:only-of-type {\n",
       "        vertical-align: middle;\n",
       "    }\n",
       "\n",
       "    .dataframe tbody tr th {\n",
       "        vertical-align: top;\n",
       "    }\n",
       "\n",
       "    .dataframe thead th {\n",
       "        text-align: right;\n",
       "    }\n",
       "</style>\n",
       "<table border=\"1\" class=\"dataframe\">\n",
       "  <thead>\n",
       "    <tr style=\"text-align: right;\">\n",
       "      <th></th>\n",
       "      <th>id</th>\n",
       "      <th>index</th>\n",
       "      <th>period</th>\n",
       "      <th>timestamp</th>\n",
       "      <th>minute</th>\n",
       "      <th>second</th>\n",
       "      <th>possession</th>\n",
       "      <th>duration</th>\n",
       "      <th>under_pressure</th>\n",
       "      <th>counterpress</th>\n",
       "      <th>foul_committed_offensive</th>\n",
       "      <th>foul_committed_type_id</th>\n",
       "      <th>foul_committed_type_name</th>\n",
       "      <th>foul_committed_card_id</th>\n",
       "      <th>foul_committed_card_name</th>\n",
       "      <th>foul_committed_penalty</th>\n",
       "      <th>play_pattern_id</th>\n",
       "      <th>play_pattern_name</th>\n",
       "      <th>player_id</th>\n",
       "      <th>player_name</th>\n",
       "      <th>position_id</th>\n",
       "      <th>position_name</th>\n",
       "      <th>possession_team_id</th>\n",
       "      <th>possession_team_name</th>\n",
       "      <th>team_id</th>\n",
       "      <th>team_name</th>\n",
       "      <th>type_id</th>\n",
       "      <th>type_name</th>\n",
       "      <th>x</th>\n",
       "      <th>y</th>\n",
       "      <th>match_id</th>\n",
       "      <th>foul_committed_advantage</th>\n",
       "      <th>injury_stoppage_in_chain</th>\n",
       "    </tr>\n",
       "  </thead>\n",
       "  <tbody>\n",
       "    <tr>\n",
       "      <th>13196</th>\n",
       "      <td>3c19c4ed-e6d3-4e68-98c3-169e8dd11566</td>\n",
       "      <td>679</td>\n",
       "      <td>1</td>\n",
       "      <td>00:20:45.747000</td>\n",
       "      <td>20</td>\n",
       "      <td>45</td>\n",
       "      <td>49</td>\n",
       "      <td>NaN</td>\n",
       "      <td>NaN</td>\n",
       "      <td>NaN</td>\n",
       "      <td>True</td>\n",
       "      <td>24.0</td>\n",
       "      <td>Handball</td>\n",
       "      <td>NaN</td>\n",
       "      <td>None</td>\n",
       "      <td>None</td>\n",
       "      <td>3</td>\n",
       "      <td>From Free Kick</td>\n",
       "      <td>5022.0</td>\n",
       "      <td>Francisca Ordega</td>\n",
       "      <td>21.0</td>\n",
       "      <td>Left Wing</td>\n",
       "      <td>759</td>\n",
       "      <td>Washington Spirit</td>\n",
       "      <td>759</td>\n",
       "      <td>Washington Spirit</td>\n",
       "      <td>22</td>\n",
       "      <td>Foul Committed</td>\n",
       "      <td>111.0</td>\n",
       "      <td>18.0</td>\n",
       "      <td>7451</td>\n",
       "      <td>None</td>\n",
       "      <td>None</td>\n",
       "    </tr>\n",
       "    <tr>\n",
       "      <th>23645</th>\n",
       "      <td>d9441ce1-e27c-4088-a093-db6b774c378d</td>\n",
       "      <td>2262</td>\n",
       "      <td>2</td>\n",
       "      <td>00:16:19.982000</td>\n",
       "      <td>61</td>\n",
       "      <td>19</td>\n",
       "      <td>140</td>\n",
       "      <td>0.0</td>\n",
       "      <td>NaN</td>\n",
       "      <td>NaN</td>\n",
       "      <td>True</td>\n",
       "      <td>24.0</td>\n",
       "      <td>Handball</td>\n",
       "      <td>NaN</td>\n",
       "      <td>None</td>\n",
       "      <td>None</td>\n",
       "      <td>1</td>\n",
       "      <td>Regular Play</td>\n",
       "      <td>5084.0</td>\n",
       "      <td>Denise O\"Sullivan</td>\n",
       "      <td>13.0</td>\n",
       "      <td>Right Center Midfield</td>\n",
       "      <td>766</td>\n",
       "      <td>North Carolina Courage</td>\n",
       "      <td>766</td>\n",
       "      <td>North Carolina Courage</td>\n",
       "      <td>22</td>\n",
       "      <td>Foul Committed</td>\n",
       "      <td>68.0</td>\n",
       "      <td>60.0</td>\n",
       "      <td>7471</td>\n",
       "      <td>None</td>\n",
       "      <td>None</td>\n",
       "    </tr>\n",
       "    <tr>\n",
       "      <th>26626</th>\n",
       "      <td>dcf300c1-8897-403a-91e1-a6d63ab372f5</td>\n",
       "      <td>1765</td>\n",
       "      <td>2</td>\n",
       "      <td>00:08:38.723000</td>\n",
       "      <td>53</td>\n",
       "      <td>38</td>\n",
       "      <td>126</td>\n",
       "      <td>0.0</td>\n",
       "      <td>NaN</td>\n",
       "      <td>NaN</td>\n",
       "      <td>True</td>\n",
       "      <td>24.0</td>\n",
       "      <td>Handball</td>\n",
       "      <td>NaN</td>\n",
       "      <td>None</td>\n",
       "      <td>None</td>\n",
       "      <td>4</td>\n",
       "      <td>From Throw In</td>\n",
       "      <td>5075.0</td>\n",
       "      <td>Elizabeth Addo</td>\n",
       "      <td>17.0</td>\n",
       "      <td>Right Wing</td>\n",
       "      <td>760</td>\n",
       "      <td>Seattle Reign</td>\n",
       "      <td>760</td>\n",
       "      <td>Seattle Reign</td>\n",
       "      <td>22</td>\n",
       "      <td>Foul Committed</td>\n",
       "      <td>49.0</td>\n",
       "      <td>19.0</td>\n",
       "      <td>7472</td>\n",
       "      <td>None</td>\n",
       "      <td>None</td>\n",
       "    </tr>\n",
       "    <tr>\n",
       "      <th>35850</th>\n",
       "      <td>9692d445-9a2d-4f5d-8ccd-475d30f803fa</td>\n",
       "      <td>1380</td>\n",
       "      <td>1</td>\n",
       "      <td>00:40:02.640000</td>\n",
       "      <td>40</td>\n",
       "      <td>2</td>\n",
       "      <td>94</td>\n",
       "      <td>0.0</td>\n",
       "      <td>1.0</td>\n",
       "      <td>NaN</td>\n",
       "      <td>True</td>\n",
       "      <td>24.0</td>\n",
       "      <td>Handball</td>\n",
       "      <td>NaN</td>\n",
       "      <td>None</td>\n",
       "      <td>None</td>\n",
       "      <td>4</td>\n",
       "      <td>From Throw In</td>\n",
       "      <td>5055.0</td>\n",
       "      <td>Lynn Williams</td>\n",
       "      <td>22.0</td>\n",
       "      <td>Right Center Forward</td>\n",
       "      <td>766</td>\n",
       "      <td>North Carolina Courage</td>\n",
       "      <td>766</td>\n",
       "      <td>North Carolina Courage</td>\n",
       "      <td>22</td>\n",
       "      <td>Foul Committed</td>\n",
       "      <td>89.0</td>\n",
       "      <td>11.0</td>\n",
       "      <td>7475</td>\n",
       "      <td>None</td>\n",
       "      <td>None</td>\n",
       "    </tr>\n",
       "    <tr>\n",
       "      <th>41015</th>\n",
       "      <td>97b4cbbb-5c3f-4725-a569-0bac7c8fd4ee</td>\n",
       "      <td>243</td>\n",
       "      <td>1</td>\n",
       "      <td>00:07:23.986000</td>\n",
       "      <td>7</td>\n",
       "      <td>23</td>\n",
       "      <td>19</td>\n",
       "      <td>0.0</td>\n",
       "      <td>NaN</td>\n",
       "      <td>NaN</td>\n",
       "      <td>True</td>\n",
       "      <td>24.0</td>\n",
       "      <td>Handball</td>\n",
       "      <td>NaN</td>\n",
       "      <td>None</td>\n",
       "      <td>None</td>\n",
       "      <td>1</td>\n",
       "      <td>Regular Play</td>\n",
       "      <td>4971.0</td>\n",
       "      <td>Rebecca Moros</td>\n",
       "      <td>6.0</td>\n",
       "      <td>Left Back</td>\n",
       "      <td>767</td>\n",
       "      <td>Utah Royals</td>\n",
       "      <td>767</td>\n",
       "      <td>Utah Royals</td>\n",
       "      <td>22</td>\n",
       "      <td>Foul Committed</td>\n",
       "      <td>65.0</td>\n",
       "      <td>8.0</td>\n",
       "      <td>7477</td>\n",
       "      <td>None</td>\n",
       "      <td>None</td>\n",
       "    </tr>\n",
       "    <tr>\n",
       "      <th>...</th>\n",
       "      <td>...</td>\n",
       "      <td>...</td>\n",
       "      <td>...</td>\n",
       "      <td>...</td>\n",
       "      <td>...</td>\n",
       "      <td>...</td>\n",
       "      <td>...</td>\n",
       "      <td>...</td>\n",
       "      <td>...</td>\n",
       "      <td>...</td>\n",
       "      <td>...</td>\n",
       "      <td>...</td>\n",
       "      <td>...</td>\n",
       "      <td>...</td>\n",
       "      <td>...</td>\n",
       "      <td>...</td>\n",
       "      <td>...</td>\n",
       "      <td>...</td>\n",
       "      <td>...</td>\n",
       "      <td>...</td>\n",
       "      <td>...</td>\n",
       "      <td>...</td>\n",
       "      <td>...</td>\n",
       "      <td>...</td>\n",
       "      <td>...</td>\n",
       "      <td>...</td>\n",
       "      <td>...</td>\n",
       "      <td>...</td>\n",
       "      <td>...</td>\n",
       "      <td>...</td>\n",
       "      <td>...</td>\n",
       "      <td>...</td>\n",
       "      <td>...</td>\n",
       "    </tr>\n",
       "    <tr>\n",
       "      <th>2776183</th>\n",
       "      <td>35661572-a291-45bb-a357-1d0d01992a1a</td>\n",
       "      <td>509</td>\n",
       "      <td>1</td>\n",
       "      <td>00:14:30.301000</td>\n",
       "      <td>14</td>\n",
       "      <td>30</td>\n",
       "      <td>31</td>\n",
       "      <td>0.0</td>\n",
       "      <td>NaN</td>\n",
       "      <td>NaN</td>\n",
       "      <td>True</td>\n",
       "      <td>24.0</td>\n",
       "      <td>Handball</td>\n",
       "      <td>NaN</td>\n",
       "      <td>None</td>\n",
       "      <td>None</td>\n",
       "      <td>4</td>\n",
       "      <td>From Throw In</td>\n",
       "      <td>31533.0</td>\n",
       "      <td>Amy Turner</td>\n",
       "      <td>2.0</td>\n",
       "      <td>Right Back</td>\n",
       "      <td>1475</td>\n",
       "      <td>Manchester United</td>\n",
       "      <td>1475</td>\n",
       "      <td>Manchester United</td>\n",
       "      <td>22</td>\n",
       "      <td>Foul Committed</td>\n",
       "      <td>46.1</td>\n",
       "      <td>75.2</td>\n",
       "      <td>2275140</td>\n",
       "      <td>None</td>\n",
       "      <td>None</td>\n",
       "    </tr>\n",
       "    <tr>\n",
       "      <th>2778183</th>\n",
       "      <td>aff1e16f-fb88-4a56-be5c-fd85a69ba54a</td>\n",
       "      <td>2509</td>\n",
       "      <td>2</td>\n",
       "      <td>00:23:00.644000</td>\n",
       "      <td>68</td>\n",
       "      <td>0</td>\n",
       "      <td>158</td>\n",
       "      <td>0.0</td>\n",
       "      <td>1.0</td>\n",
       "      <td>NaN</td>\n",
       "      <td>True</td>\n",
       "      <td>24.0</td>\n",
       "      <td>Handball</td>\n",
       "      <td>NaN</td>\n",
       "      <td>None</td>\n",
       "      <td>None</td>\n",
       "      <td>4</td>\n",
       "      <td>From Throw In</td>\n",
       "      <td>4653.0</td>\n",
       "      <td>Jane Ross</td>\n",
       "      <td>23.0</td>\n",
       "      <td>Center Forward</td>\n",
       "      <td>1475</td>\n",
       "      <td>Manchester United</td>\n",
       "      <td>1475</td>\n",
       "      <td>Manchester United</td>\n",
       "      <td>22</td>\n",
       "      <td>Foul Committed</td>\n",
       "      <td>68.6</td>\n",
       "      <td>7.6</td>\n",
       "      <td>2275140</td>\n",
       "      <td>None</td>\n",
       "      <td>None</td>\n",
       "    </tr>\n",
       "    <tr>\n",
       "      <th>2783380</th>\n",
       "      <td>2c4b2a1d-3bd4-46c1-88ed-0577bed54348</td>\n",
       "      <td>1032</td>\n",
       "      <td>1</td>\n",
       "      <td>00:31:00.480000</td>\n",
       "      <td>31</td>\n",
       "      <td>0</td>\n",
       "      <td>55</td>\n",
       "      <td>0.0</td>\n",
       "      <td>NaN</td>\n",
       "      <td>NaN</td>\n",
       "      <td>None</td>\n",
       "      <td>24.0</td>\n",
       "      <td>Handball</td>\n",
       "      <td>NaN</td>\n",
       "      <td>None</td>\n",
       "      <td>None</td>\n",
       "      <td>1</td>\n",
       "      <td>Regular Play</td>\n",
       "      <td>4649.0</td>\n",
       "      <td>Esme Beth Morgan</td>\n",
       "      <td>2.0</td>\n",
       "      <td>Right Back</td>\n",
       "      <td>1475</td>\n",
       "      <td>Manchester United</td>\n",
       "      <td>967</td>\n",
       "      <td>Everton LFC</td>\n",
       "      <td>22</td>\n",
       "      <td>Foul Committed</td>\n",
       "      <td>57.6</td>\n",
       "      <td>76.5</td>\n",
       "      <td>2275146</td>\n",
       "      <td>True</td>\n",
       "      <td>None</td>\n",
       "    </tr>\n",
       "    <tr>\n",
       "      <th>2787638</th>\n",
       "      <td>f66bd2a7-7ef6-4b66-99ef-a3a0e1d321d4</td>\n",
       "      <td>1841</td>\n",
       "      <td>2</td>\n",
       "      <td>00:21:07.282000</td>\n",
       "      <td>66</td>\n",
       "      <td>7</td>\n",
       "      <td>134</td>\n",
       "      <td>0.0</td>\n",
       "      <td>NaN</td>\n",
       "      <td>NaN</td>\n",
       "      <td>True</td>\n",
       "      <td>24.0</td>\n",
       "      <td>Handball</td>\n",
       "      <td>NaN</td>\n",
       "      <td>None</td>\n",
       "      <td>None</td>\n",
       "      <td>4</td>\n",
       "      <td>From Throw In</td>\n",
       "      <td>31531.0</td>\n",
       "      <td>Lauren James</td>\n",
       "      <td>23.0</td>\n",
       "      <td>Center Forward</td>\n",
       "      <td>1475</td>\n",
       "      <td>Manchester United</td>\n",
       "      <td>1475</td>\n",
       "      <td>Manchester United</td>\n",
       "      <td>22</td>\n",
       "      <td>Foul Committed</td>\n",
       "      <td>93.9</td>\n",
       "      <td>58.7</td>\n",
       "      <td>2275150</td>\n",
       "      <td>None</td>\n",
       "      <td>None</td>\n",
       "    </tr>\n",
       "    <tr>\n",
       "      <th>2795090</th>\n",
       "      <td>d36bebad-172f-4e9c-b22c-faeff2175312</td>\n",
       "      <td>270</td>\n",
       "      <td>1</td>\n",
       "      <td>00:13:47.127000</td>\n",
       "      <td>13</td>\n",
       "      <td>47</td>\n",
       "      <td>16</td>\n",
       "      <td>0.0</td>\n",
       "      <td>NaN</td>\n",
       "      <td>NaN</td>\n",
       "      <td>True</td>\n",
       "      <td>24.0</td>\n",
       "      <td>Handball</td>\n",
       "      <td>NaN</td>\n",
       "      <td>None</td>\n",
       "      <td>None</td>\n",
       "      <td>5</td>\n",
       "      <td>Other</td>\n",
       "      <td>10251.0</td>\n",
       "      <td>Fara Williams</td>\n",
       "      <td>19.0</td>\n",
       "      <td>Center Attacking Midfield</td>\n",
       "      <td>1475</td>\n",
       "      <td>Manchester United</td>\n",
       "      <td>974</td>\n",
       "      <td>Reading WFC</td>\n",
       "      <td>22</td>\n",
       "      <td>Foul Committed</td>\n",
       "      <td>66.7</td>\n",
       "      <td>28.7</td>\n",
       "      <td>2275157</td>\n",
       "      <td>None</td>\n",
       "      <td>None</td>\n",
       "    </tr>\n",
       "  </tbody>\n",
       "</table>\n",
       "<p>360 rows × 33 columns</p>\n",
       "</div>"
      ],
      "text/plain": [
       "                                           id  index  period        timestamp  \\\n",
       "13196    3c19c4ed-e6d3-4e68-98c3-169e8dd11566    679       1  00:20:45.747000   \n",
       "23645    d9441ce1-e27c-4088-a093-db6b774c378d   2262       2  00:16:19.982000   \n",
       "26626    dcf300c1-8897-403a-91e1-a6d63ab372f5   1765       2  00:08:38.723000   \n",
       "35850    9692d445-9a2d-4f5d-8ccd-475d30f803fa   1380       1  00:40:02.640000   \n",
       "41015    97b4cbbb-5c3f-4725-a569-0bac7c8fd4ee    243       1  00:07:23.986000   \n",
       "...                                       ...    ...     ...              ...   \n",
       "2776183  35661572-a291-45bb-a357-1d0d01992a1a    509       1  00:14:30.301000   \n",
       "2778183  aff1e16f-fb88-4a56-be5c-fd85a69ba54a   2509       2  00:23:00.644000   \n",
       "2783380  2c4b2a1d-3bd4-46c1-88ed-0577bed54348   1032       1  00:31:00.480000   \n",
       "2787638  f66bd2a7-7ef6-4b66-99ef-a3a0e1d321d4   1841       2  00:21:07.282000   \n",
       "2795090  d36bebad-172f-4e9c-b22c-faeff2175312    270       1  00:13:47.127000   \n",
       "\n",
       "         minute  second  possession  duration  under_pressure  counterpress  \\\n",
       "13196        20      45          49       NaN             NaN           NaN   \n",
       "23645        61      19         140       0.0             NaN           NaN   \n",
       "26626        53      38         126       0.0             NaN           NaN   \n",
       "35850        40       2          94       0.0             1.0           NaN   \n",
       "41015         7      23          19       0.0             NaN           NaN   \n",
       "...         ...     ...         ...       ...             ...           ...   \n",
       "2776183      14      30          31       0.0             NaN           NaN   \n",
       "2778183      68       0         158       0.0             1.0           NaN   \n",
       "2783380      31       0          55       0.0             NaN           NaN   \n",
       "2787638      66       7         134       0.0             NaN           NaN   \n",
       "2795090      13      47          16       0.0             NaN           NaN   \n",
       "\n",
       "        foul_committed_offensive  foul_committed_type_id  \\\n",
       "13196                       True                    24.0   \n",
       "23645                       True                    24.0   \n",
       "26626                       True                    24.0   \n",
       "35850                       True                    24.0   \n",
       "41015                       True                    24.0   \n",
       "...                          ...                     ...   \n",
       "2776183                     True                    24.0   \n",
       "2778183                     True                    24.0   \n",
       "2783380                     None                    24.0   \n",
       "2787638                     True                    24.0   \n",
       "2795090                     True                    24.0   \n",
       "\n",
       "        foul_committed_type_name  foul_committed_card_id  \\\n",
       "13196                   Handball                     NaN   \n",
       "23645                   Handball                     NaN   \n",
       "26626                   Handball                     NaN   \n",
       "35850                   Handball                     NaN   \n",
       "41015                   Handball                     NaN   \n",
       "...                          ...                     ...   \n",
       "2776183                 Handball                     NaN   \n",
       "2778183                 Handball                     NaN   \n",
       "2783380                 Handball                     NaN   \n",
       "2787638                 Handball                     NaN   \n",
       "2795090                 Handball                     NaN   \n",
       "\n",
       "        foul_committed_card_name foul_committed_penalty  play_pattern_id  \\\n",
       "13196                       None                   None                3   \n",
       "23645                       None                   None                1   \n",
       "26626                       None                   None                4   \n",
       "35850                       None                   None                4   \n",
       "41015                       None                   None                1   \n",
       "...                          ...                    ...              ...   \n",
       "2776183                     None                   None                4   \n",
       "2778183                     None                   None                4   \n",
       "2783380                     None                   None                1   \n",
       "2787638                     None                   None                4   \n",
       "2795090                     None                   None                5   \n",
       "\n",
       "        play_pattern_name  player_id        player_name  position_id  \\\n",
       "13196      From Free Kick     5022.0   Francisca Ordega         21.0   \n",
       "23645        Regular Play     5084.0  Denise O\"Sullivan         13.0   \n",
       "26626       From Throw In     5075.0     Elizabeth Addo         17.0   \n",
       "35850       From Throw In     5055.0      Lynn Williams         22.0   \n",
       "41015        Regular Play     4971.0      Rebecca Moros          6.0   \n",
       "...                   ...        ...                ...          ...   \n",
       "2776183     From Throw In    31533.0         Amy Turner          2.0   \n",
       "2778183     From Throw In     4653.0          Jane Ross         23.0   \n",
       "2783380      Regular Play     4649.0   Esme Beth Morgan          2.0   \n",
       "2787638     From Throw In    31531.0       Lauren James         23.0   \n",
       "2795090             Other    10251.0      Fara Williams         19.0   \n",
       "\n",
       "                     position_name  possession_team_id  \\\n",
       "13196                    Left Wing                 759   \n",
       "23645        Right Center Midfield                 766   \n",
       "26626                   Right Wing                 760   \n",
       "35850         Right Center Forward                 766   \n",
       "41015                    Left Back                 767   \n",
       "...                            ...                 ...   \n",
       "2776183                 Right Back                1475   \n",
       "2778183             Center Forward                1475   \n",
       "2783380                 Right Back                1475   \n",
       "2787638             Center Forward                1475   \n",
       "2795090  Center Attacking Midfield                1475   \n",
       "\n",
       "           possession_team_name  team_id               team_name  type_id  \\\n",
       "13196         Washington Spirit      759       Washington Spirit       22   \n",
       "23645    North Carolina Courage      766  North Carolina Courage       22   \n",
       "26626             Seattle Reign      760           Seattle Reign       22   \n",
       "35850    North Carolina Courage      766  North Carolina Courage       22   \n",
       "41015               Utah Royals      767             Utah Royals       22   \n",
       "...                         ...      ...                     ...      ...   \n",
       "2776183       Manchester United     1475       Manchester United       22   \n",
       "2778183       Manchester United     1475       Manchester United       22   \n",
       "2783380       Manchester United      967             Everton LFC       22   \n",
       "2787638       Manchester United     1475       Manchester United       22   \n",
       "2795090       Manchester United      974             Reading WFC       22   \n",
       "\n",
       "              type_name      x     y  match_id foul_committed_advantage  \\\n",
       "13196    Foul Committed  111.0  18.0      7451                     None   \n",
       "23645    Foul Committed   68.0  60.0      7471                     None   \n",
       "26626    Foul Committed   49.0  19.0      7472                     None   \n",
       "35850    Foul Committed   89.0  11.0      7475                     None   \n",
       "41015    Foul Committed   65.0   8.0      7477                     None   \n",
       "...                 ...    ...   ...       ...                      ...   \n",
       "2776183  Foul Committed   46.1  75.2   2275140                     None   \n",
       "2778183  Foul Committed   68.6   7.6   2275140                     None   \n",
       "2783380  Foul Committed   57.6  76.5   2275146                     True   \n",
       "2787638  Foul Committed   93.9  58.7   2275150                     None   \n",
       "2795090  Foul Committed   66.7  28.7   2275157                     None   \n",
       "\n",
       "        injury_stoppage_in_chain  \n",
       "13196                       None  \n",
       "23645                       None  \n",
       "26626                       None  \n",
       "35850                       None  \n",
       "41015                       None  \n",
       "...                          ...  \n",
       "2776183                     None  \n",
       "2778183                     None  \n",
       "2783380                     None  \n",
       "2787638                     None  \n",
       "2795090                     None  \n",
       "\n",
       "[360 rows x 33 columns]"
      ]
     },
     "execution_count": 38,
     "metadata": {},
     "output_type": "execute_result"
    }
   ],
   "source": [
    "df_events_other[df_events_other.id.isin(to_check)].dropna(axis=1,how='all')"
   ]
  },
  {
   "cell_type": "code",
   "execution_count": 37,
   "metadata": {},
   "outputs": [
    {
     "data": {
      "text/plain": [
       "Foul Committed     359\n",
       "Injury Stoppage      1\n",
       "Name: type_name, dtype: int64"
      ]
     },
     "execution_count": 37,
     "metadata": {},
     "output_type": "execute_result"
    }
   ],
   "source": [
    "df_events_other[df_events_other.id.isin(to_check)].type_name.value_counts()"
   ]
  },
  {
   "cell_type": "code",
   "execution_count": 41,
   "metadata": {},
   "outputs": [
    {
     "data": {
      "text/plain": [
       "Handball         327\n",
       "Dive              25\n",
       "Backpass Pick      7\n",
       "Name: foul_committed_type_name, dtype: int64"
      ]
     },
     "execution_count": 41,
     "metadata": {},
     "output_type": "execute_result"
    }
   ],
   "source": [
    "df_events_other[df_events_other.id.isin(to_check)].foul_committed_type_name.value_counts()"
   ]
  },
  {
   "cell_type": "code",
   "execution_count": 43,
   "metadata": {},
   "outputs": [
    {
     "data": {
      "text/plain": [
       "Pass                     769576\n",
       "Ball Recovery             83523\n",
       "Clearance                 34463\n",
       "Dribble                   32587\n",
       "Block                     27378\n",
       "Foul Won                  21217\n",
       "Miscontrol                21029\n",
       "Shot                      19934\n",
       "Dispossessed              19757\n",
       "Interception              15212\n",
       "Shot Saved                 4925\n",
       "Collected                  1732\n",
       "Keeper Sweeper              891\n",
       "Punch                       853\n",
       "50/50                       613\n",
       "Error                       463\n",
       "Own Goal Against             87\n",
       "Shot Saved Off Target        72\n",
       "Penalty Saved                55\n",
       "Shot Saved to Post           54\n",
       "Save                         45\n",
       "Saved to Post                 2\n",
       "Penalty Saved to Post         1\n",
       "Name: type_name, dtype: int64"
      ]
     },
     "execution_count": 43,
     "metadata": {},
     "output_type": "execute_result"
    }
   ],
   "source": [
    "df_events.type_name.value_counts()"
   ]
  },
  {
   "cell_type": "code",
   "execution_count": 42,
   "metadata": {},
   "outputs": [
    {
     "data": {
      "text/plain": [
       "Ball Receipt       716166\n",
       "Carry              637990\n",
       "Pressure           256470\n",
       "Duel                48472\n",
       "Foul Committed      22349\n",
       "Dribbled Past       21792\n",
       "Goal Keeper         14930\n",
       "Substitution         4294\n",
       "Camera On            3822\n",
       "Half Start           3154\n",
       "Half End             3154\n",
       "Injury Stoppage      2432\n",
       "Starting XI          1556\n",
       "Tactical Shift       1373\n",
       "Camera off           1027\n",
       "50/50                 619\n",
       "Bad Behaviour         545\n",
       "Player Off            535\n",
       "Player On             529\n",
       "Offside               298\n",
       "Own Goal For           87\n",
       "Shield                 55\n",
       "Name: type_name, dtype: int64"
      ]
     },
     "execution_count": 42,
     "metadata": {},
     "output_type": "execute_result"
    }
   ],
   "source": [
    "df_events_other.type_name.value_counts()"
   ]
  },
  {
   "cell_type": "code",
   "execution_count": 40,
   "metadata": {},
   "outputs": [
    {
     "data": {
      "text/plain": [
       "True    546\n",
       "Name: foul_committed_offensive, dtype: int64"
      ]
     },
     "execution_count": 40,
     "metadata": {},
     "output_type": "execute_result"
    }
   ],
   "source": [
    "df_events.foul_committed_offensive.value_counts()"
   ]
  },
  {
   "cell_type": "markdown",
   "metadata": {},
   "source": [
    "# Add on pressure (number and potentiall pressure_1, pressure_2, pressure_3 coordinates) depending on whether it works (could be problematic with carry and pass on same line"
   ]
  },
  {
   "cell_type": "code",
   "execution_count": null,
   "metadata": {},
   "outputs": [],
   "source": [
    "df_events.info(verbose=True,null_counts=True)"
   ]
  },
  {
   "cell_type": "code",
   "execution_count": null,
   "metadata": {},
   "outputs": [],
   "source": [
    "df_events.type_name.value_counts()"
   ]
  },
  {
   "cell_type": "code",
   "execution_count": null,
   "metadata": {},
   "outputs": [],
   "source": [
    "df_events.player_2_type_name.value_counts()"
   ]
  },
  {
   "cell_type": "markdown",
   "metadata": {},
   "source": [
    "# potential missing events"
   ]
  },
  {
   "cell_type": "code",
   "execution_count": null,
   "metadata": {},
   "outputs": [],
   "source": [
    "df_events[df_events.type_name=='Dribble'].player_2_type_name.isnull().sum()"
   ]
  },
  {
   "cell_type": "code",
   "execution_count": null,
   "metadata": {},
   "outputs": [],
   "source": [
    "id_dribble = df_events[(df_events.type_name=='Dribble')&(df_events.player_2_type_name.isnull())].id\n",
    "df_related_events[df_related_events.id.isin(id_dribble)]"
   ]
  },
  {
   "cell_type": "code",
   "execution_count": null,
   "metadata": {},
   "outputs": [],
   "source": [
    "df_events[df_events.type_name=='50/50'].player_2_type_name.isnull().sum()"
   ]
  },
  {
   "cell_type": "code",
   "execution_count": null,
   "metadata": {},
   "outputs": [],
   "source": [
    "id_dribble = df_events[(df_events.type_name=='50/50')&(df_events.player_2_type_name.isnull())].id\n",
    "df_related_events[df_related_events.id.isin(id_dribble)]"
   ]
  },
  {
   "cell_type": "code",
   "execution_count": null,
   "metadata": {},
   "outputs": [],
   "source": [
    "df_events[df_events.type_name=='Foul Won'].player_2_type_name.isnull().sum()"
   ]
  },
  {
   "cell_type": "code",
   "execution_count": null,
   "metadata": {},
   "outputs": [],
   "source": [
    "df_events[df_events.type_name=='Dispossessed'].player_2_type_name.isnull().sum()"
   ]
  },
  {
   "cell_type": "code",
   "execution_count": null,
   "metadata": {
    "scrolled": true
   },
   "outputs": [],
   "source": [
    "df_events[df_events.type_name=='Duel'].player_2_type_name.isnull().sum()"
   ]
  },
  {
   "cell_type": "markdown",
   "metadata": {},
   "source": [
    "# To do add other event outcomes to event dataframe"
   ]
  },
  {
   "cell_type": "markdown",
   "metadata": {},
   "source": [
    "- 6 50/50 missing? Appear to be linked to passes\n",
    "- re-add ball receipt. have to work out what to do when it clashes with aerial duels. Maybe have intended pass receipent and fill in player 2 if it completes?\n",
    "- add on carry/ pressure\n",
    "- goal keeper info for shots?\n",
    "- reorder the columns in sensible way\n",
    "- check out and next goal kick etc.\n",
    "- check goal and next kick-off\n",
    "- check pass complete and retains possession"
   ]
  },
  {
   "cell_type": "markdown",
   "metadata": {},
   "source": [
    "- <del> Ball Receipt         715516\n",
    "- Carry                637463\n",
    "- Pressure             256187\n",
    "- <del> Duel                  48365\n",
    "- <del> Foul Committed        22324\n",
    "- <del> Dribbled Past         21769\n",
    "- <del> Goal Keeper           14915\n",
    "- <del> Substitution           4289\n",
    "- <del> Half End               3150\n",
    "- <del> Half Start             3150\n",
    "- <del> Injury Stoppage        2430\n",
    "- <del> Shield\n",
    "- <del> Referee Ball-Drop       738\n",
    "- <del> 50/50                   613\n",
    "- <del> Camera On              3822\n",
    "- <del> Starting XI            1554\n",
    "- <del> Tactical Shift         1371\n",
    "- <del> Camera off             1027\n",
    "- <del> Bad Behaviour           543\n",
    "- <del> Player Off              535\n",
    "- <del> Player On               529\n",
    "- <del> Offside                 298   \n",
    "- <del> Own Goal Against         87"
   ]
  },
  {
   "cell_type": "code",
   "execution_count": null,
   "metadata": {},
   "outputs": [],
   "source": [
    "df_events.info(verbose=True,null_counts=True)"
   ]
  },
  {
   "cell_type": "code",
   "execution_count": null,
   "metadata": {},
   "outputs": [],
   "source": [
    "df_aerial = df_events_other[df_events_other.duel_type_name=='Aerial Lost'].dropna(how='all',axis=1).copy()"
   ]
  },
  {
   "cell_type": "code",
   "execution_count": null,
   "metadata": {},
   "outputs": [],
   "source": [
    "df_events.sort_values('index',inplace=True)\n",
    "df_aerial.sort_values('index',inplace=True)"
   ]
  },
  {
   "cell_type": "code",
   "execution_count": null,
   "metadata": {},
   "outputs": [],
   "source": [
    "df_events.rename({'index':'index_join'},axis=1,inplace=True)\n",
    "df_aerial.rename({'index':'index_join'},axis=1,inplace=True)"
   ]
  },
  {
   "cell_type": "code",
   "execution_count": null,
   "metadata": {},
   "outputs": [],
   "source": [
    "df_test = pd.merge_asof(df_aerial,df_events,direction='forward',on='index_join',\n",
    "                        by='match_id',suffixes=['','_aerial'])"
   ]
  },
  {
   "cell_type": "code",
   "execution_count": null,
   "metadata": {},
   "outputs": [],
   "source": [
    "len(df_aerial)"
   ]
  },
  {
   "cell_type": "code",
   "execution_count": null,
   "metadata": {},
   "outputs": [],
   "source": [
    "lust[lust.duplicated('id',keep=False)]"
   ]
  },
  {
   "cell_type": "code",
   "execution_count": null,
   "metadata": {},
   "outputs": [],
   "source": [
    "df_related_events[(df_related_events.id_related.isin(df_aerial.id))&(df_related_events['index']<df_related_events['index_related'])]"
   ]
  },
  {
   "cell_type": "code",
   "execution_count": null,
   "metadata": {},
   "outputs": [],
   "source": [
    "df_related_events[(df_related_events.id_related.isin(df_aerial.id))&(df_related_events['index']>df_related_events['index_related'])]"
   ]
  },
  {
   "cell_type": "code",
   "execution_count": null,
   "metadata": {},
   "outputs": [],
   "source": [
    "df_test.player_2_type_name.value_counts()"
   ]
  },
  {
   "cell_type": "code",
   "execution_count": null,
   "metadata": {},
   "outputs": [],
   "source": [
    "df_test.type_name_aerial.value_counts()"
   ]
  },
  {
   "cell_type": "code",
   "execution_count": null,
   "metadata": {},
   "outputs": [],
   "source": [
    "(pd.to_datetime(df_test.timestamp)- pd.to_datetime(df_test.timestamp_aerial)).describe()"
   ]
  },
  {
   "cell_type": "code",
   "execution_count": null,
   "metadata": {},
   "outputs": [],
   "source": [
    "len(df_test)"
   ]
  },
  {
   "cell_type": "code",
   "execution_count": null,
   "metadata": {},
   "outputs": [],
   "source": [
    "len(df_aerial)"
   ]
  },
  {
   "cell_type": "code",
   "execution_count": null,
   "metadata": {},
   "outputs": [],
   "source": [
    "len(df_events)"
   ]
  },
  {
   "cell_type": "code",
   "execution_count": null,
   "metadata": {},
   "outputs": [],
   "source": [
    "df_test.type_name_aerial.value_counts()"
   ]
  },
  {
   "cell_type": "markdown",
   "metadata": {},
   "source": [
    "# seems to be some overlapping ball receipts and aerieal duels? I think the duel is for a previous pass (aerial)"
   ]
  },
  {
   "cell_type": "markdown",
   "metadata": {},
   "source": [
    "# might have to join them seperately and use merge_asof and use index before the duel index"
   ]
  },
  {
   "cell_type": "code",
   "execution_count": null,
   "metadata": {},
   "outputs": [],
   "source": [
    "mask_duel3 = ((df_related_events.type_name_related.isin(['Duel']))&\n",
    "              (df_related_events.type_name.isin(['Clearance','Shot','Miscontrol','Pass'])))"
   ]
  },
  {
   "cell_type": "code",
   "execution_count": null,
   "metadata": {},
   "outputs": [],
   "source": [
    "df_player_2_events[df_player_2_events.id.duplicated(keep=False)].sort_values('id').dropna(axis=1,how='all').type_name.value_counts()"
   ]
  },
  {
   "cell_type": "code",
   "execution_count": null,
   "metadata": {
    "scrolled": true
   },
   "outputs": [],
   "source": [
    "df_related_events[df_related_events.id=='0d4e1ef1-9a3d-4da4-9aeb-336dbf504898']"
   ]
  },
  {
   "cell_type": "markdown",
   "metadata": {},
   "source": [
    "### looks to be a few carries where the events aren't in the dataframe. need to establish why (duel, foul committed)"
   ]
  },
  {
   "cell_type": "code",
   "execution_count": null,
   "metadata": {},
   "outputs": [],
   "source": [
    "to_check = df_related_events[(df_related_events.type_name_related=='Carry')&\n",
    "                             (df_related_events.type_name!='Pressure')&\n",
    "                  (~((df_related_events.id.isin(df_events.id))|(df_related_events.id.isin(df_events.id_2))))].id"
   ]
  },
  {
   "cell_type": "code",
   "execution_count": null,
   "metadata": {},
   "outputs": [],
   "source": [
    "df_related_events[df_related_events.id=='6afdb817-a9be-487a-abaa-e6b1d8665770']"
   ]
  },
  {
   "cell_type": "code",
   "execution_count": null,
   "metadata": {},
   "outputs": [],
   "source": [
    "df_events.player_2_type_name.value_counts()"
   ]
  },
  {
   "cell_type": "code",
   "execution_count": null,
   "metadata": {},
   "outputs": [],
   "source": [
    "df_events.type_name.value_counts()"
   ]
  },
  {
   "cell_type": "code",
   "execution_count": null,
   "metadata": {},
   "outputs": [],
   "source": [
    "aerial_to_check = df_events_other.loc[df_events_other.duel_type_name=='Aerial Lost','id']"
   ]
  },
  {
   "cell_type": "code",
   "execution_count": null,
   "metadata": {},
   "outputs": [],
   "source": [
    "to_check2 = df_related_events[(df_related_events.id.isin(aerial_to_check))&\n",
    "                              (df_related_events.type_name_related.isin(['Pass','Clearance',\n",
    "                                                                         'Shot','Miscontrol']))].id"
   ]
  },
  {
   "cell_type": "code",
   "execution_count": null,
   "metadata": {},
   "outputs": [],
   "source": [
    "df_related_events[(df_related_events.type_name=='Duel')&\n",
    "                  (df_related_events.type_name_related.isin(['Pass','Clearance','Shot','Miscontrol']))]"
   ]
  },
  {
   "cell_type": "code",
   "execution_count": null,
   "metadata": {},
   "outputs": [],
   "source": [
    "aerial_to_check"
   ]
  },
  {
   "cell_type": "code",
   "execution_count": null,
   "metadata": {},
   "outputs": [],
   "source": [
    "to_check2"
   ]
  },
  {
   "cell_type": "code",
   "execution_count": null,
   "metadata": {},
   "outputs": [],
   "source": [
    "df_related_events[(df_related_events.id.isin(aerial_to_check))&(~df_related_events.id.isin(to_check2))].sort_values('id')"
   ]
  },
  {
   "cell_type": "code",
   "execution_count": null,
   "metadata": {},
   "outputs": [],
   "source": [
    "df_events_other.duel_type_name.value_counts()"
   ]
  },
  {
   "cell_type": "code",
   "execution_count": null,
   "metadata": {},
   "outputs": [],
   "source": [
    "df_events_other[(df_events_other.id.isin(to_check))&(df_events_other.type_name=='Duel')].dropna(axis=1,how='all')"
   ]
  },
  {
   "cell_type": "code",
   "execution_count": null,
   "metadata": {},
   "outputs": [],
   "source": [
    "df_related_events[(df_related_events.type_name_related=='Carry')&\n",
    "                             (df_related_events.type_name!='Pressure')&\n",
    "                  (~((df_related_events.id.isin(df_events.id))|(df_related_events.id.isin(df_events.id_2))))]"
   ]
  },
  {
   "cell_type": "code",
   "execution_count": null,
   "metadata": {},
   "outputs": [],
   "source": [
    "df_related_events[df_related_events.id=='f7d10ba8-41bd-4079-91b9-41829474ab5e']"
   ]
  },
  {
   "cell_type": "code",
   "execution_count": null,
   "metadata": {},
   "outputs": [],
   "source": [
    "df_events_other.id.isin(df_related_events[(df_related_events.type_name_related=='Dribble')&\n",
    "                             (df_related_events.type_name=='Duel')].id_related"
   ]
  },
  {
   "cell_type": "code",
   "execution_count": null,
   "metadata": {},
   "outputs": [],
   "source": [
    "df_events_other[df_events_other.id.isin(df_related_events[(df_related_events.type_name_related=='Dribble')&\n",
    "                             (df_related_events.type_name=='Duel')].id)].dropna(axis=1,how='all')"
   ]
  },
  {
   "cell_type": "code",
   "execution_count": null,
   "metadata": {},
   "outputs": [],
   "source": [
    "df_events[df_events.id.isin(df_related_events[(df_related_events.type_name_related=='Dribble')&\n",
    "                             (df_related_events.type_name=='Duel')].id_related)].dropna(axis=1,how='all').outcome_name.value_counts()"
   ]
  },
  {
   "cell_type": "code",
   "execution_count": null,
   "metadata": {},
   "outputs": [],
   "source": [
    "df_events[(df_events['index'] >= 77)  & (df_events.match_id==7430)].dropna(axis=1,how='all')"
   ]
  },
  {
   "cell_type": "code",
   "execution_count": null,
   "metadata": {},
   "outputs": [],
   "source": [
    "df_events_other[(df_events_other.id.isin(to_check))&(df_events_other.type_name=='Duel')].dropna(axis=1,how='all')"
   ]
  },
  {
   "cell_type": "code",
   "execution_count": null,
   "metadata": {},
   "outputs": [],
   "source": [
    "df_related_events[(df_related_events.type_name_related=='Carry')&\n",
    "                  (~((df_related_events.id.isin(df_events.id))|(df_related_events.id.isin(df_events.id_2))))].type_name.value_counts()"
   ]
  },
  {
   "cell_type": "markdown",
   "metadata": {},
   "source": [
    "### otherwise looks like i can join it to id and id_2"
   ]
  },
  {
   "cell_type": "code",
   "execution_count": null,
   "metadata": {},
   "outputs": [],
   "source": [
    "df_related_events[(df_related_events.type_name_related=='Carry')&\n",
    "                  (df_related_events.id.isin(df_events.id))].type_name.value_counts()"
   ]
  },
  {
   "cell_type": "code",
   "execution_count": null,
   "metadata": {},
   "outputs": [],
   "source": [
    "df_related_events[(df_related_events.type_name_related=='Carry')&\n",
    "                  (df_related_events.id.isin(df_events.id_2))].type_name.value_counts()"
   ]
  },
  {
   "cell_type": "markdown",
   "metadata": {},
   "source": [
    "### After that can add the number of pressures to the events. And possibly create a pressure lookup table like the shots one/ or add them to the dataframe"
   ]
  },
  {
   "cell_type": "code",
   "execution_count": null,
   "metadata": {},
   "outputs": [],
   "source": [
    "df_num_pressures = (df_related_events[df_related_events.type_name_related=='Pressure']\n",
    "                    .groupby('id')\n",
    "                    .id_related.count()\n",
    "                    .reset_index())\n",
    "df_num_pressures.columns = ['id','n_pressures']"
   ]
  },
  {
   "cell_type": "code",
   "execution_count": null,
   "metadata": {},
   "outputs": [],
   "source": [
    "df_num_pressures[df_num_pressures.n_pressures==3]"
   ]
  },
  {
   "cell_type": "code",
   "execution_count": null,
   "metadata": {},
   "outputs": [],
   "source": [
    "df_related_events[df_related_events.id.isin(df_num_pressures[df_num_pressures.n_pressures==2].id)].type_name.value_counts()"
   ]
  },
  {
   "cell_type": "code",
   "execution_count": null,
   "metadata": {},
   "outputs": [],
   "source": [
    "df_events.info(verbose=True,null_counts=True)"
   ]
  },
  {
   "cell_type": "markdown",
   "metadata": {},
   "source": [
    "# Old code"
   ]
  },
  {
   "cell_type": "markdown",
   "metadata": {},
   "source": [
    "reverse events"
   ]
  },
  {
   "cell_type": "code",
   "execution_count": null,
   "metadata": {},
   "outputs": [],
   "source": [
    "#it looks like sometimes there is a reversed event so the set piece out doesn't follow the shiedlded ball\n",
    "# here we reverse the events\n",
    "df_events.loc[df_events.pass_type_name.isin(['Throw-in','Corner','Goal Kick']),'set_piece_out'] = True\n",
    "cols_next = ['type_name','set_piece_out']\n",
    "cols_previous = ['set_piece_out','type_name','id','player_name','index']\n",
    "shift_cols(df_events,cols_next,cols_previous)\n",
    "to_reverse = df_events.loc[(df_events['type_name_previous'] == 'Shield') &\n",
    "                           (df_events['player_name_previous']!=df_events['player_name']) &\n",
    "                           (df_events.set_piece_out.isnull()) & df_events['set_piece_out_next']==True,\n",
    "                           ['id','index','id_previous','index_previous']]\n",
    "df_events.loc[df_events.id.isin(to_reverse.id),'index'] = to_reverse.index_previous\n",
    "df_events.loc[df_events.id.isin(to_reverse.id_previous),'index'] = to_reverse.index"
   ]
  },
  {
   "cell_type": "markdown",
   "metadata": {},
   "source": [
    "Mark passes as Incomplete (instead of null) if the pass is a recovery and the possession changes team"
   ]
  },
  {
   "cell_type": "code",
   "execution_count": null,
   "metadata": {},
   "outputs": [],
   "source": [
    "df_events.loc[(df_events.pass_type_name=='Recovery')&\n",
    "              (df_events.next_change_team==True)&\n",
    "              (df_events.outcome_name.isnull()),'outcome_name'] = 'Incomplete'"
   ]
  },
  {
   "cell_type": "markdown",
   "metadata": {},
   "source": [
    "Get the player_name, id and index in two events time"
   ]
  },
  {
   "cell_type": "code",
   "execution_count": null,
   "metadata": {},
   "outputs": [],
   "source": [
    "type_cols = ['player_name','type_name','id','index','timestamp']\n",
    "type_cols_new = ['next2_'+col for col in type_cols]\n",
    "df_events[type_cols_new] = df_events.groupby(['match_id','period'])[type_cols].shift(-2)"
   ]
  },
  {
   "cell_type": "markdown",
   "metadata": {},
   "source": [
    "Get the player_name in three events time"
   ]
  },
  {
   "cell_type": "code",
   "execution_count": null,
   "metadata": {},
   "outputs": [],
   "source": [
    "df_events['next3_player_name'] = df_events.groupby(['match_id','period'])['player_name'].shift(-3)"
   ]
  },
  {
   "cell_type": "markdown",
   "metadata": {},
   "source": [
    "Swapable events"
   ]
  },
  {
   "cell_type": "code",
   "execution_count": null,
   "metadata": {},
   "outputs": [],
   "source": [
    "first_cols = ['match_id','id','index','period','timestamp','minute','second','possession',\n",
    "              'duration','team_id','team_name','player_name','pass_recipient_name',\n",
    "              'type_id','type_name','outcome_id',\n",
    "              'outcome_name','ball_recovery_recovery_failure','miscontrol_aerial_won','pass_type_name',\n",
    "              'dispossessed_won_out','ball_receipt_incomplete']\n",
    "other_cols = [col for col in df_events.columns if col not in first_cols]\n",
    "first_cols.extend(other_cols)"
   ]
  },
  {
   "cell_type": "code",
   "execution_count": null,
   "metadata": {},
   "outputs": [],
   "source": [
    "mask_possible_swaps = ((df_events.outcome_name.isnull())&(df_events.type_name=='Pass')&\n",
    "                       (df_events.next_change_team==True)&\n",
    "                       (df_events.pass_recipient_name==df_events.next2_player_name)&\n",
    "                       (df_events.next2_player_name!=df_events.next3_player_name) &\n",
    "                       ((df_events.next_player_name==df_events.next3_player_name)|\n",
    "                        (df_events.next_pass_recipient_name==df_events.next3_player_name)))"
   ]
  },
  {
   "cell_type": "markdown",
   "metadata": {},
   "source": [
    "Show possible errors"
   ]
  },
  {
   "cell_type": "code",
   "execution_count": null,
   "metadata": {},
   "outputs": [],
   "source": [
    "mask_potential_problems = ((df_events['next_change_team']==True)&\n",
    "                           (df_events.outcome_name!='Incomplete')&\n",
    "                           (~df_events.type_name.isin(['Miscontrol','Dispossessed','Clearance','Block','Error']))&\n",
    "                           (~((df_events.outcome_name=='Injury Clearance')&(df_events.out==True)))&\n",
    "                           (df_events.next_type_name!='Foul Won')&\n",
    "                           (~(df_events.outcome_name.isin(['Saved','In Play Safe','Wayward','Blocked','Off T','Pass Offside','Injury Clearance'])))&\n",
    "                           (~((df_events.out==True)&(df_events.type_name.isin(['Goal Keeper','Shot']))))&\n",
    "                           (~df_events.outcome_name.isin(['Goal']))&\n",
    "                           (~((df_events.outcome_name.isin(['Out','Unknown']))&(df_events.type_name.isin(['Pass']))))&\n",
    "                           (~((df_events.type_name=='Interception')&(df_events.outcome_name.isin(['Lost In Play','Lost Out']))))&                           \n",
    "                           (~((df_events.type_name=='Goal Keeper')&(df_events.outcome_name.isin(['Touched Out','In Play Danger','Clear','Punched out']))))&\n",
    "                           (~((df_events.goalkeeper_type_name=='Collected')&(df_events.outcome_name.isin(['Fail']))))&\n",
    "                           (~(df_events.ball_receipt_incomplete==True))&\n",
    "                           (~(df_events.ball_recovery_recovery_failure==True)))"
   ]
  },
  {
   "cell_type": "code",
   "execution_count": null,
   "metadata": {},
   "outputs": [],
   "source": [
    "match_id = 7430\n",
    "index_id = 2089"
   ]
  },
  {
   "cell_type": "code",
   "execution_count": null,
   "metadata": {},
   "outputs": [],
   "source": [
    "df_events.loc[(df_events['index']>=(index_id-4))&(df_events['index']<=(index_id+7))&(df_events.match_id==match_id),first_cols].dropna(how='all',axis=1)"
   ]
  },
  {
   "cell_type": "code",
   "execution_count": null,
   "metadata": {},
   "outputs": [],
   "source": [
    "df_events_other[(df_events_other['index']>=index_id)&(df_events_other['index']<=(index_id+4))&(df_events_other.match_id==match_id)].dropna(how='all',axis=1)"
   ]
  },
  {
   "cell_type": "markdown",
   "metadata": {},
   "source": [
    "output a game with coloured bars when the possession changes"
   ]
  },
  {
   "cell_type": "code",
   "execution_count": null,
   "metadata": {},
   "outputs": [],
   "source": [
    "random_game = np.random.choice(df_events.match_id.unique())\n",
    "print(random_game)"
   ]
  },
  {
   "cell_type": "code",
   "execution_count": null,
   "metadata": {},
   "outputs": [],
   "source": [
    "df_one_game = df_events[df_events.match_id==random_game].copy()"
   ]
  },
  {
   "cell_type": "code",
   "execution_count": null,
   "metadata": {},
   "outputs": [],
   "source": [
    "len(df_one_game)"
   ]
  },
  {
   "cell_type": "code",
   "execution_count": null,
   "metadata": {},
   "outputs": [],
   "source": [
    "# reorder\n",
    "first_cols = ['match_id','id','index','period','timestamp','minute','second','possession',\n",
    "              'duration','team_id','team_name','player_name','pass_recipient_name',\n",
    "              'type_id','type_name','outcome_id',\n",
    "              'outcome_name','ball_recovery_recovery_failure','miscontrol_aerial_won','pass_type_name',\n",
    "              'dispossessed_won_out']\n",
    "other_cols = [col for col in df_one_game.columns if col not in first_cols]\n",
    "first_cols.extend(other_cols)\n",
    "df_one_game = df_one_game[first_cols].copy()"
   ]
  },
  {
   "cell_type": "code",
   "execution_count": null,
   "metadata": {},
   "outputs": [],
   "source": [
    "def highlight_home_team(row):\n",
    "    color = 'white'\n",
    "    if row.home == True:\n",
    "        color = 'yellow'\n",
    "    return ['background-color: %s' % color]*len(row.values)"
   ]
  },
  {
   "cell_type": "code",
   "execution_count": null,
   "metadata": {},
   "outputs": [],
   "source": [
    "df_one_game = df_one_game.merge(df_match[['match_id','home_team_name']],\n",
    "                                on='match_id',validate='m:1',how='left')\n",
    "\n",
    "df_one_game['home'] = df_one_game.home_team_name == df_one_game.team_name\n",
    "df_one_game = df_one_game.style.apply(highlight_home_team,axis=1)"
   ]
  },
  {
   "cell_type": "code",
   "execution_count": null,
   "metadata": {},
   "outputs": [],
   "source": [
    "df_one_game.to_excel(\"game_to_check.xlsx\")"
   ]
  },
  {
   "cell_type": "markdown",
   "metadata": {},
   "source": [
    "Create a type column For passes"
   ]
  },
  {
   "cell_type": "code",
   "execution_count": null,
   "metadata": {},
   "outputs": [],
   "source": [
    "mask_pass_success = (df_events.pass_outcome_name.isnull())&(df_events.type_name=='Pass')\n",
    "mask_pass_not_success = df_events.pass_outcome_name == 'Incomplete'\n",
    "mask_pass_out = df_events.pass_outcome_name.isin(['Out','Injury Clearance'])\n",
    "mask_pass_offside = df_events.pass_outcome_name == 'Pass Offside'\n",
    "mask_pass_unknown =  df_events.pass_outcome_name == 'Unknown'"
   ]
  },
  {
   "cell_type": "code",
   "execution_count": null,
   "metadata": {},
   "outputs": [],
   "source": [
    "df_events.loc[mask_pass_success,'type'] = 'pass_success'\n",
    "df_events.loc[mask_pass_not_success,'type'] = 'pass_not_success'\n",
    "df_events.loc[mask_pass_out,'type'] = 'pass_out_of_play'\n",
    "df_events.loc[mask_pass_offside,'type'] = 'pass_offside'\n",
    "df_events.loc[mask_pass_unknown,'type'] = 'pass_unknown'"
   ]
  },
  {
   "cell_type": "markdown",
   "metadata": {},
   "source": [
    "Create a type column For shots"
   ]
  },
  {
   "cell_type": "code",
   "execution_count": null,
   "metadata": {},
   "outputs": [],
   "source": [
    "mask_shot_miss = df_events.shot_outcome_name.isin(['Off T','Wayward','Post','Saved Off Target'])\n",
    "mask_saved = df_events.shot_outcome_name.isin(['Saved','Saved to Post'])\n",
    "mask_blocked = df_events.shot_outcome_name.isin(['Blocked'])\n",
    "mask_goal = df_events.shot_outcome_name.isin(['Goal'])"
   ]
  },
  {
   "cell_type": "code",
   "execution_count": null,
   "metadata": {},
   "outputs": [],
   "source": [
    "df_events.loc[mask_shot_miss,'type'] = 'shot_miss'\n",
    "df_events.loc[mask_saved,'type'] = 'shot_saved'\n",
    "df_events.loc[mask_blocked,'type'] = 'shot_blocked'\n",
    "df_events.loc[mask_goal,'type'] = 'shot_goal'"
   ]
  },
  {
   "cell_type": "markdown",
   "metadata": {},
   "source": [
    "Create a type column For goalkeeper"
   ]
  },
  {
   "cell_type": "code",
   "execution_count": null,
   "metadata": {},
   "outputs": [],
   "source": [
    "mask_save = df_events.goalkeeper_type_name.isin(['Save', 'Shot Saved', 'Shot Saved Off T',\n",
    "                                                 'Shot Saved To Post', 'Saved To Post', 'Penalty Saved To Post',\n",
    "                                                 'Penalty Saved','Shot Saved Off Target',\n",
    "                                                 'Shot Saved to Post','Saved to Post','Penalty Saved to Post'])\n",
    "mask_claim_punch = df_events.goalkeeper_type_name.isin(['Collected', 'Punch','Smother'])\n",
    "mask_clearance_gk = df_events.goalkeeper_type_name.isin(['Keeper Sweeper'])"
   ]
  },
  {
   "cell_type": "code",
   "execution_count": null,
   "metadata": {},
   "outputs": [],
   "source": [
    "df_events.loc[mask_save,'type'] = 'goalkeeper_save'\n",
    "df_events.loc[mask_claim_punch,'type'] = 'goalkeeper_claim_or_punch'\n",
    "df_events.loc[mask_clearance_gk,'type'] = 'goalkeeper_clearance'"
   ]
  },
  {
   "cell_type": "markdown",
   "metadata": {},
   "source": [
    "Create a type column For dribbles"
   ]
  },
  {
   "cell_type": "code",
   "execution_count": null,
   "metadata": {},
   "outputs": [],
   "source": [
    "mask_dribble_success = df_events.dribble_outcome_name=='Complete'\n",
    "mask_dribble_overrun = (df_events.dribble_outcome_name=='Incomplete')&(df_events.dribble_overrun==True)\n",
    "mask_dribble_dispossessed = (df_events.dribble_outcome_name=='Incomplete')&(df_events.dribble_overrun!=True)"
   ]
  },
  {
   "cell_type": "code",
   "execution_count": null,
   "metadata": {},
   "outputs": [],
   "source": [
    "df_events.loc[mask_dribble_success,'type'] = 'dribble_success'\n",
    "df_events.loc[mask_dribble_overrun,'type'] = 'dribble_overrun'\n",
    "df_events.loc[mask_dribble_dispossessed,'type'] = 'dribble_dispossessed'"
   ]
  },
  {
   "cell_type": "markdown",
   "metadata": {},
   "source": [
    "Create a type column For others"
   ]
  },
  {
   "cell_type": "code",
   "execution_count": null,
   "metadata": {},
   "outputs": [],
   "source": [
    "df_events.loc[df_events.type_name.isin(['Interception','Block']),'type'] = 'interception_or_block'\n",
    "df_events.loc[df_events.type_name.isin(['Ball Recovery']),'type'] = 'ball_recovery'\n",
    "df_events.loc[df_events.type_name.isin(['Miscontrol','Error']),'type'] = 'lose_ball'\n",
    "df_events.loc[df_events.type_name.isin(['Duel','50/50']),'type'] = 'duel_50_50'\n",
    "df_events.loc[df_events.type_name.isin(['Own Goal For']),'type'] = 'own_goal'\n",
    "df_events.loc[(df_events.type_name.isin(['Clearance'])),'type'] = 'clearance'\n",
    "df_events.loc[df_events.type_name.isin(['Foul Won']),'type'] = 'fouled'\n",
    "df_events.loc[df_events.type_name.isin(['Dispossessed']),'type'] = 'dispossessed'"
   ]
  },
  {
   "cell_type": "markdown",
   "metadata": {},
   "source": [
    "Set out for events that go out"
   ]
  },
  {
   "cell_type": "code",
   "execution_count": null,
   "metadata": {},
   "outputs": [],
   "source": [
    "df_events.loc[((df_events.type=='pass_out_of_play')|\n",
    "               (df_events.out==1)|\n",
    "               (df_events.duel_outcome_name.isin(['Success Out','Lost Out']))|\n",
    "               (df_events.interception_outcome_name.isin(['Success Out','Lost Out']))|\n",
    "               (df_events.goalkeeper_outcome_name.isin(['Touched Out','Punched out','Lost Out','Success Out']))|\n",
    "               (df_events.goalkeeper_punched_out==True)|\n",
    "               (df_events.goalkeeper_success_out==True)|\n",
    "               (df_events.shot_outcome_name=='Off T')|\n",
    "               (df_events.goalkeeper_lost_out==True)),'out'] = True"
   ]
  },
  {
   "cell_type": "code",
   "execution_count": null,
   "metadata": {},
   "outputs": [],
   "source": [
    "df_events.loc[df_events.pass_type_name.isin(['Throw-in','Goal Kick','Corner']),'deadball'] = True\n",
    "df_events[['out_next','team_next']] = df_events.groupby(['match_id','period'])['deadball','team_name'].shift(-1)\n",
    "mask_to_change = ((df_events['out_next'] == True)&\n",
    "                  (df_events.out.isnull())&\n",
    "                  (df_events.team_name!=df_events.team_next)&\n",
    "                  (~df_events.type.isin(['pass_offside','fouled','shot_goal','pass_success','pass_unknown'])))\n",
    "df_events.loc[mask_to_change,'out'] = True"
   ]
  }
 ],
 "metadata": {
  "kernelspec": {
   "display_name": "Python 3",
   "language": "python",
   "name": "python3"
  },
  "language_info": {
   "codemirror_mode": {
    "name": "ipython",
    "version": 3
   },
   "file_extension": ".py",
   "mimetype": "text/x-python",
   "name": "python",
   "nbconvert_exporter": "python",
   "pygments_lexer": "ipython3",
   "version": "3.7.5"
  }
 },
 "nbformat": 4,
 "nbformat_minor": 2
}
