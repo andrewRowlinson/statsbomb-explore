{
 "cells": [
  {
   "cell_type": "code",
   "execution_count": 1,
   "metadata": {},
   "outputs": [],
   "source": [
    "import pandas as pd\n",
    "import numpy as np\n",
    "import os"
   ]
  },
  {
   "cell_type": "code",
   "execution_count": 2,
   "metadata": {},
   "outputs": [],
   "source": [
    "pd.set_option('display.max_columns', 500)"
   ]
  },
  {
   "cell_type": "markdown",
   "metadata": {},
   "source": [
    "# Load dataset"
   ]
  },
  {
   "cell_type": "code",
   "execution_count": 3,
   "metadata": {},
   "outputs": [
    {
     "name": "stderr",
     "output_type": "stream",
     "text": [
      "/home/andy/anaconda3/envs/statsbomb-explore/lib/python3.7/site-packages/pyarrow/pandas_compat.py:752: FutureWarning: .labels was deprecated in version 0.24.0. Use .codes instead.\n",
      "  labels, = index.labels\n"
     ]
    }
   ],
   "source": [
    "DATA_PATH = os.path.join(os.getcwd(),'data')\n",
    "EVENTS_PATH = os.path.join(DATA_PATH,'events')\n",
    "df_events = pd.read_feather(EVENTS_PATH)"
   ]
  },
  {
   "cell_type": "code",
   "execution_count": 4,
   "metadata": {},
   "outputs": [],
   "source": [
    "RELATED_PATH = os.path.join(DATA_PATH,'related_events')\n",
    "df_related_events = pd.read_feather(RELATED_PATH)"
   ]
  },
  {
   "cell_type": "code",
   "execution_count": 5,
   "metadata": {},
   "outputs": [],
   "source": [
    "MATCH_PATH = os.path.join(DATA_PATH,'match')\n",
    "df_match = pd.read_feather(MATCH_PATH)"
   ]
  },
  {
   "cell_type": "markdown",
   "metadata": {},
   "source": [
    "# Create definition of on ball event types and seperate the data"
   ]
  },
  {
   "cell_type": "code",
   "execution_count": 6,
   "metadata": {},
   "outputs": [],
   "source": [
    "n_events = len(df_events)"
   ]
  },
  {
   "cell_type": "code",
   "execution_count": 7,
   "metadata": {},
   "outputs": [
    {
     "name": "stdout",
     "output_type": "stream",
     "text": [
      "Check only 50/50 left out: {'50/50'}\n"
     ]
    }
   ],
   "source": [
    "# Passive/ defensive event types\n",
    "off_ball = ['Ball Receipt','Carry','Duel','Pressure','Foul Committed','Dribbled Past',\n",
    "            'Bad Behaviour','Player Off','Player On',\n",
    "            'Offside','Own Goal For','Substitution',\n",
    "            'Camera On','Half Start','Half End','Injury Stoppage','Starting XI','Tactical Shift',\n",
    "            'Camera off',]\n",
    "# note Referee Ball-Drop/ Shield added in temporarily so we can easily set a flag on the next event\n",
    "on_ball = ['Ball Recovery','Block','Clearance','Dispossessed','Dribble','Referee Ball-Drop','Shield',\n",
    "           'Error','Foul Won','Goal Keeper','Interception','Miscontrol','Own Goal Against','Pass','Shot']\n",
    "print('Check only 50/50 left out:',\n",
    "      set(df_events.type_name.unique()) - set(off_ball) - set(on_ball))"
   ]
  },
  {
   "cell_type": "code",
   "execution_count": 8,
   "metadata": {},
   "outputs": [],
   "source": [
    "# won 50/50s\n",
    "mask_50_50_success = ((df_events.type_name=='50/50')&\n",
    "                      (df_events['50_50_outcome_name'].isin(['Won','Success To Team','Success To Opposition'])))\n",
    "# lost 50/50s\n",
    "mask_50_50_lost = (df_events.type_name=='50/50')&(df_events['50_50_outcome_name']=='Lost')\n",
    "# off ball\n",
    "mask_goalkeeper_off_ball = df_events.goalkeeper_type_name.isin(['Shot Faced','Goal Conceded',\n",
    "                                                                'Penalty Conceded','Smother'])\n",
    "mask_off_ball_all = (df_events.type_name.isin(off_ball))|(mask_goalkeeper_off_ball)|(mask_50_50_success)\n",
    "# on ball\n",
    "mask_on_ball = ((df_events.type_name.isin(on_ball))&(~mask_goalkeeper_off_ball))|(mask_50_50_lost)"
   ]
  },
  {
   "cell_type": "code",
   "execution_count": 9,
   "metadata": {},
   "outputs": [],
   "source": [
    "# seperate off_ball events and remove null columns\n",
    "df_events_other = df_events[mask_off_ball_all].copy()\n",
    "df_events_other.dropna(how='all',axis=1,inplace=True)\n",
    "# seperate on_ball events and remove null columns\n",
    "df_events = df_events[mask_on_ball].copy()\n",
    "df_events.dropna(how='all',axis=1,inplace=True)"
   ]
  },
  {
   "cell_type": "code",
   "execution_count": 10,
   "metadata": {},
   "outputs": [
    {
     "data": {
      "text/plain": [
       "True"
      ]
     },
     "execution_count": 10,
     "metadata": {},
     "output_type": "execute_result"
    }
   ],
   "source": [
    "n_events == (len(df_events_other)+len(df_events))"
   ]
  },
  {
   "cell_type": "markdown",
   "metadata": {},
   "source": [
    "# Function to shift columns easily"
   ]
  },
  {
   "cell_type": "code",
   "execution_count": 11,
   "metadata": {},
   "outputs": [],
   "source": [
    "def shift_cols(df_events,cols_next=None,cols_previous=None):\n",
    "    if cols_next is not None:\n",
    "        for col in cols_next:\n",
    "            df_events[col+'_next'] = df_events.groupby(['match_id','period'])[col].shift(-1)\n",
    "    if cols_previous is not None:\n",
    "        for col in cols_previous:\n",
    "            df_events[col+'_previous'] = df_events.groupby(['match_id','period'])[col].shift(1)"
   ]
  },
  {
   "cell_type": "markdown",
   "metadata": {},
   "source": [
    "# Function fo fill na easily"
   ]
  },
  {
   "cell_type": "code",
   "execution_count": 12,
   "metadata": {},
   "outputs": [],
   "source": [
    "def fill_na(col1,col2,to_remove):\n",
    "    df_events[col1] = df_events[col1].fillna(df_events[col2])\n",
    "    to_remove.extend([col2])"
   ]
  },
  {
   "cell_type": "markdown",
   "metadata": {},
   "source": [
    "# Simplify outcome columns"
   ]
  },
  {
   "cell_type": "code",
   "execution_count": 13,
   "metadata": {},
   "outputs": [],
   "source": [
    "df_events['outcome_id'] = np.nan\n",
    "df_events['outcome_id'] = (df_events['pass_outcome_id']\n",
    "                             .fillna(df_events['dribble_outcome_id'])\n",
    "                             .fillna(df_events['shot_outcome_id'])\n",
    "                             .fillna(df_events['interception_outcome_id'])\n",
    "                             .fillna(df_events['goalkeeper_outcome_id']))\n",
    "df_events['outcome_name'] = None\n",
    "df_events['outcome_name'] = (df_events['pass_outcome_name']\n",
    "                             .fillna(df_events['dribble_outcome_name'])\n",
    "                             .fillna(df_events['shot_outcome_name'])\n",
    "                             .fillna(df_events['interception_outcome_name'])\n",
    "                             .fillna(df_events['goalkeeper_outcome_name']))\n",
    "cols = ['pass_outcome_id','dribble_outcome_id','shot_outcome_id',\n",
    "        'interception_outcome_id','goalkeeper_outcome_id','pass_outcome_name','dribble_outcome_name',\n",
    "        'shot_outcome_name','interception_outcome_name','goalkeeper_outcome_name']\n",
    "df_events.drop(cols,axis=1,inplace=True)"
   ]
  },
  {
   "cell_type": "markdown",
   "metadata": {},
   "source": [
    "# Simplify body part columns"
   ]
  },
  {
   "cell_type": "code",
   "execution_count": 14,
   "metadata": {},
   "outputs": [],
   "source": [
    "df_events['body_part_id'] = np.nan\n",
    "df_events['body_part_id'] = (df_events['body_part_id']\n",
    "                             .fillna(df_events['clearance_body_part_id'])\n",
    "                             .fillna(df_events['goalkeeper_body_part_id'])\n",
    "                             .fillna(df_events['pass_body_part_id'])\n",
    "                             .fillna(df_events['shot_body_part_id']))\n",
    "df_events['body_part_name'] = None\n",
    "df_events['body_part_name'] = (df_events['body_part_name']\n",
    "                             .fillna(df_events['clearance_body_part_name'])\n",
    "                             .fillna(df_events['goalkeeper_body_part_name'])\n",
    "                             .fillna(df_events['pass_body_part_name'])\n",
    "                             .fillna(df_events['shot_body_part_name']))\n",
    "cols = ['clearance_right_foot','clearance_body_part_id','clearance_body_part_name','clearance_left_foot',\n",
    "       'clearance_head','goalkeeper_body_part_id','goalkeeper_body_part_name','pass_body_part_id',\n",
    "       'pass_body_part_name','shot_body_part_id','shot_body_part_name']\n",
    "df_events.drop(cols,axis=1,inplace=True)"
   ]
  },
  {
   "cell_type": "markdown",
   "metadata": {},
   "source": [
    "# Add shielded ball"
   ]
  },
  {
   "cell_type": "markdown",
   "metadata": {},
   "source": [
    "First remove shielded events that do not lead to the ball going out"
   ]
  },
  {
   "cell_type": "code",
   "execution_count": 15,
   "metadata": {},
   "outputs": [],
   "source": [
    "# remove shield events that do not lead to the ball going outn - i.e. unsuccesful shields?\n",
    "df_events.loc[df_events.pass_type_name.isin(['Throw-in','Corner','Goal Kick']),'set_piece_out'] = True\n",
    "cols_next = ['type_name','set_piece_out']\n",
    "shift_cols(df_events,cols_next=cols_next)\n",
    "mask_shield_remove = ((df_events.type_name=='Shield')&\n",
    "                      (df_events.set_piece_out_next.isnull())&(df_events.type_name_next.notnull()))\n",
    "cols_to_remove = ['type_name_next','set_piece_out_next','set_piece_out']\n",
    "df_events.drop(cols_to_remove,axis=1,inplace=True)\n",
    "df_shield = df_events[mask_shield_remove].copy()\n",
    "df_events = df_events[~mask_shield_remove].copy()\n",
    "df_events_other = pd.concat([df_events_other,df_shield],axis=0,sort=False)"
   ]
  },
  {
   "cell_type": "markdown",
   "metadata": {},
   "source": [
    "Then shift up the shield event to the previous event and delete the seperate shield event"
   ]
  },
  {
   "cell_type": "code",
   "execution_count": 16,
   "metadata": {},
   "outputs": [],
   "source": [
    "# shift the columns so we can see if the next event is a shield event\n",
    "cols_next = ['timestamp','index','id','type_name','player_id','player_name','team_id','team_name']\n",
    "shift_cols(df_events,cols_next=cols_next)\n",
    "# set the shifted columns to null if the next event isn't a shield event\n",
    "mask_shield = df_events.type_name_next == 'Shield'\n",
    "to_change = [col+'_next' for col in cols_next]\n",
    "df_events.loc[~mask_shield,to_change] = np.nan\n",
    "# rename the shifted columns to shield_...\n",
    "rename_dict = dict(zip(to_change,['shield_'+col for col in cols_next]))\n",
    "df_events.rename(rename_dict,axis=1,inplace=True)\n",
    "df_events.loc[mask_shield,'shield'] = True\n",
    "df_events.drop('shield_type_name',axis=1,inplace=True)\n",
    "# remove shielded events, as now they are next to the previous event\n",
    "df_events = df_events[~(df_events.type_name=='Shield')].copy()"
   ]
  },
  {
   "cell_type": "markdown",
   "metadata": {},
   "source": [
    "# Add ball recovery flag, either when a player attempts a ball recovery or from a recovery pass"
   ]
  },
  {
   "cell_type": "code",
   "execution_count": 17,
   "metadata": {},
   "outputs": [],
   "source": [
    "mask_recovery = (df_events.pass_type_name=='Recovery')|(df_events.type_name=='Ball Recovery')\n",
    "df_events.loc[mask_recovery,'recovery'] = mask_recovery"
   ]
  },
  {
   "cell_type": "markdown",
   "metadata": {},
   "source": [
    "# Add ball drop info to previous event"
   ]
  },
  {
   "cell_type": "code",
   "execution_count": 18,
   "metadata": {},
   "outputs": [],
   "source": [
    "df_events.loc[df_events.type_name=='Referee Ball-Drop','ball_drop'] = True\n",
    "df_events['ball_drop'] = df_events.groupby(['match_id','period']).ball_drop.shift(1)\n",
    "df_events = df_events[df_events.type_name!='Referee Ball-Drop'].copy()"
   ]
  },
  {
   "cell_type": "markdown",
   "metadata": {},
   "source": [
    "# Add ball receipt to pass"
   ]
  },
  {
   "cell_type": "code",
   "execution_count": 19,
   "metadata": {},
   "outputs": [],
   "source": [
    "# drop pass_recipient_id/ pass_recipient_name as we will get it from the ball receipt, with additional info\n",
    "df_events.drop(['pass_recipient_id','pass_recipient_name'],axis=1,inplace=True)"
   ]
  },
  {
   "cell_type": "code",
   "execution_count": 20,
   "metadata": {},
   "outputs": [],
   "source": [
    "df_pass_receipt_related = df_related_events.loc[(df_related_events.type_name_related.isin(['Ball Receipt']))&\n",
    "                                                (df_related_events.type_name=='Pass'),['id','id_related']]\n",
    "to_keep = ['id','index','timestamp','minute','second','under_pressure','duration',\n",
    "          'ball_receipt_outcome_id','ball_receipt_outcome_name','player_id','player_name',\n",
    "          'position_id','position_name','team_id','team_name','type_id','type_name','x','y']\n",
    "df_pass_receipt = (df_events_other.loc[df_events_other.type_name=='Ball Receipt',to_keep]\n",
    "                   .rename({'id':'id_related'},axis=1))\n",
    "df_pass_receipt = df_pass_receipt.merge(df_pass_receipt_related,on='id_related',validate='1:1')\n",
    "df_events = df_events.merge(df_pass_receipt,on='id',how='left',validate='1:1',suffixes=['','_related'])"
   ]
  },
  {
   "cell_type": "code",
   "execution_count": 21,
   "metadata": {},
   "outputs": [],
   "source": [
    "df_events.rename({'id_related':'id_2',\n",
    "                  'index_related':'index_2',\n",
    "                  'timestamp_related':'timestamp_2',\n",
    "                  'minute_related':'minute_2',\n",
    "                  'second_related':'second_2',\n",
    "                  'duration_related':'duration_2',\n",
    "                  'player_id_related':'player_2_id',\n",
    "                  'player_name_related':'player_2_name',\n",
    "                  'position_id_related':'player_2_position_id',\n",
    "                  'position_name_related':'player_2_position_name',\n",
    "                  'team_id_related':'player_2_team_id',\n",
    "                  'team_name_related':'player_2_team_name',\n",
    "                  'type_id_related':'player_2_action_id',\n",
    "                  'type_name_related':'player_2_action_name',\n",
    "                  'type_id_related':'player_2_type_id',\n",
    "                  'type_name_related':'player_2_type_name',\n",
    "                  'counterpress_related':'player_2_counterpress',\n",
    "                  'under_pressure_related':'player_2_under_pressure',\n",
    "                  'ball_receipt_outcome_id':'player_2_outcome_id',\n",
    "                  'ball_receipt_outcome_name':'player_2_outcome_name',\n",
    "                  'x_related':'player_2_x',\n",
    "                  'y_related':'player_2_y'},axis=1,inplace=True)"
   ]
  },
  {
   "cell_type": "markdown",
   "metadata": {},
   "source": [
    "# Add Dribbled past"
   ]
  },
  {
   "cell_type": "code",
   "execution_count": 22,
   "metadata": {},
   "outputs": [],
   "source": [
    "to_keep = ['id','index','timestamp','minute','second','duration',\n",
    "           'off_camera','under_pressure','counterpress','player_id','player_name',\n",
    "          'position_id','position_name','team_id','team_name','type_id','type_name','x','y']\n",
    "df_dribble_related = df_related_events.loc[(df_related_events.type_name_related.isin(['Dribbled Past']))&\n",
    "                                           (df_related_events.type_name=='Dribble'),['id','id_related']]\n",
    "df_dribble = (df_events_other.loc[df_events_other.type_name=='Dribbled Past',to_keep]\n",
    "              .rename({'id':'id_related'},axis=1))\n",
    "df_dribble = df_dribble.merge(df_dribble_related,on='id_related',validate='1:1')\n",
    "df_events = df_events.merge(df_dribble,on='id',how='left',validate='1:1',suffixes=['','_related'])"
   ]
  },
  {
   "cell_type": "code",
   "execution_count": 23,
   "metadata": {},
   "outputs": [],
   "source": [
    "to_remove = []\n",
    "fill_na('id_2','id_related',to_remove)\n",
    "fill_na('index_2','index_related',to_remove)\n",
    "fill_na('timestamp_2','timestamp_related',to_remove)\n",
    "fill_na('minute_2','minute_related',to_remove)\n",
    "fill_na('second_2','second_related',to_remove)\n",
    "fill_na('duration_2','duration_related',to_remove)\n",
    "fill_na('off_camera','off_camera_related',to_remove)\n",
    "fill_na('player_2_under_pressure','under_pressure_related',to_remove)\n",
    "fill_na('counterpress','counterpress_related',to_remove)\n",
    "fill_na('player_2_id','player_id_related',to_remove)\n",
    "fill_na('player_2_name','player_name_related',to_remove)\n",
    "fill_na('player_2_position_id','position_id_related',to_remove)\n",
    "fill_na('player_2_position_name','position_name_related',to_remove)\n",
    "fill_na('player_2_team_id','team_id_related',to_remove)\n",
    "fill_na('player_2_team_name','team_name_related',to_remove)\n",
    "fill_na('player_2_type_id','type_id_related',to_remove)\n",
    "fill_na('player_2_type_name','type_name_related',to_remove)\n",
    "fill_na('player_2_x','x_related',to_remove)\n",
    "fill_na('player_2_y','y_related',to_remove)\n",
    "df_events.drop(to_remove,axis=1,inplace=True)"
   ]
  },
  {
   "cell_type": "markdown",
   "metadata": {},
   "source": [
    "# Add 50/50 info"
   ]
  },
  {
   "cell_type": "code",
   "execution_count": 24,
   "metadata": {},
   "outputs": [],
   "source": [
    "to_keep = ['id','index','timestamp','minute','second','duration',\n",
    "           'off_camera','out','under_pressure','counterpress','player_id','player_name',\n",
    "          'position_id','position_name','team_id','team_name','type_id','type_name','x','y',\n",
    "          '50_50_outcome_id','50_50_outcome_name']\n",
    "df_50_related = df_related_events.loc[(df_related_events.type_name_related=='50/50')&\n",
    "                                      (df_related_events.type_name=='50/50'),['id','id_related']]\n",
    "df_50 = (df_events_other.loc[df_events_other.type_name=='50/50',to_keep]\n",
    "         .rename({'id':'id_related'},axis=1))\n",
    "df_50 = df_50.merge(df_50_related,on='id_related',validate='1:1')\n",
    "df_events = df_events.merge(df_50,on='id',how='left',validate='1:1',suffixes=['','_related'])"
   ]
  },
  {
   "cell_type": "code",
   "execution_count": 25,
   "metadata": {},
   "outputs": [],
   "source": [
    "to_remove = []\n",
    "fill_na('id_2','id_related',to_remove)\n",
    "fill_na('index_2','index_related',to_remove)\n",
    "fill_na('timestamp_2','timestamp_related',to_remove)\n",
    "fill_na('minute_2','minute_related',to_remove)\n",
    "fill_na('second_2','second_related',to_remove)\n",
    "fill_na('duration_2','duration_related',to_remove)\n",
    "fill_na('off_camera','off_camera_related',to_remove)\n",
    "fill_na('out','out_related',to_remove)\n",
    "fill_na('counterpress','counterpress_related',to_remove)\n",
    "fill_na('player_2_under_pressure','under_pressure_related',to_remove)\n",
    "fill_na('counterpress','counterpress_related',to_remove)\n",
    "fill_na('player_2_id','player_id_related',to_remove)\n",
    "fill_na('player_2_name','player_name_related',to_remove)\n",
    "fill_na('player_2_position_id','position_id_related',to_remove)\n",
    "fill_na('player_2_position_name','position_name_related',to_remove)\n",
    "fill_na('player_2_team_id','team_id_related',to_remove)\n",
    "fill_na('player_2_team_name','team_name_related',to_remove)\n",
    "fill_na('player_2_type_id','type_id_related',to_remove)\n",
    "fill_na('player_2_type_name','type_name_related',to_remove)\n",
    "fill_na('player_2_x','x_related',to_remove)\n",
    "fill_na('player_2_y','y_related',to_remove)\n",
    "fill_na('player_2_x','50_50_outcome_id_related',to_remove)\n",
    "fill_na('player_2_y','50_50_outcome_name_related',to_remove)\n",
    "df_events.drop(to_remove,axis=1,inplace=True)"
   ]
  },
  {
   "cell_type": "markdown",
   "metadata": {},
   "source": [
    "# Foul Committed"
   ]
  },
  {
   "cell_type": "code",
   "execution_count": 26,
   "metadata": {},
   "outputs": [],
   "source": [
    "cols_to_keep = ['id','index','timestamp','minute','second','duration','off_camera','under_pressure',\n",
    "                'counterpress','player_id','player_name','position_id','position_name','team_id','team_name',\n",
    "                'foul_committed_offensive','foul_committed_type_id','foul_committed_type_name',\n",
    "                'foul_committed_card_id','foul_committed_card_name','foul_committed_penalty',\n",
    "                'foul_committed_advantage','type_id','type_name','x','y']\n",
    "df_foul_related = df_related_events.loc[(df_related_events.type_name_related=='Foul Committed')&\n",
    "                                        (df_related_events.type_name=='Foul Won'),['id','id_related']]\n",
    "df_foul = (df_events_other.loc[df_events_other.type_name=='Foul Committed',cols_to_keep]\n",
    "           .rename({'id':'id_related'},axis=1))\n",
    "df_foul = df_foul.merge(df_foul_related,on='id_related',validate='1:1')\n",
    "df_events = df_events.merge(df_foul,on='id',how='left',validate='1:1',suffixes=['','_related'])"
   ]
  },
  {
   "cell_type": "code",
   "execution_count": 27,
   "metadata": {},
   "outputs": [],
   "source": [
    "to_remove = []\n",
    "fill_na('id_2','id_related',to_remove)\n",
    "fill_na('index_2','index_related',to_remove)\n",
    "fill_na('timestamp_2','timestamp_related',to_remove)\n",
    "fill_na('minute_2','minute_related',to_remove)\n",
    "fill_na('second_2','second_related',to_remove)\n",
    "fill_na('duration_2','duration_related',to_remove)\n",
    "fill_na('off_camera','off_camera_related',to_remove)\n",
    "fill_na('player_2_under_pressure','under_pressure_related',to_remove)\n",
    "fill_na('counterpress','counterpress_related',to_remove)\n",
    "fill_na('player_2_id','player_id_related',to_remove)\n",
    "fill_na('player_2_name','player_name_related',to_remove)\n",
    "fill_na('player_2_position_id','position_id_related',to_remove)\n",
    "fill_na('player_2_position_name','position_name_related',to_remove)\n",
    "fill_na('player_2_team_id','team_id_related',to_remove)\n",
    "fill_na('player_2_team_name','team_name_related',to_remove)\n",
    "fill_na('player_2_type_id','type_id_related',to_remove)\n",
    "fill_na('player_2_type_name','type_name_related',to_remove)\n",
    "fill_na('player_2_x','x_related',to_remove)\n",
    "fill_na('player_2_y','y_related',to_remove)\n",
    "df_events.drop(to_remove,axis=1,inplace=True)"
   ]
  },
  {
   "cell_type": "markdown",
   "metadata": {},
   "source": [
    "# Add duel to dispossed"
   ]
  },
  {
   "cell_type": "code",
   "execution_count": 28,
   "metadata": {},
   "outputs": [],
   "source": [
    "cols_to_keep = ['id','index','timestamp','minute','second','duration',\n",
    "                'off_camera','counterpress','duel_type_id',\n",
    "                'duel_type_name','duel_outcome_id','duel_outcome_name',\n",
    "                'player_id','player_name','position_id','position_name','team_id','team_name',\n",
    "                'type_id','type_name','x','y']\n",
    "df_duel_related = df_related_events.loc[(df_related_events.type_name_related.isin(['Duel','Goal Keeper']))&\n",
    "                                        (df_related_events.type_name=='Dispossessed'),['id','id_related']]\n",
    "df_duel = (df_events_other.loc[df_events_other.type_name=='Duel',cols_to_keep]\n",
    "           .rename({'id':'id_related'},axis=1))\n",
    "df_duel = df_duel.merge(df_duel_related,on='id_related',validate='1:1')\n",
    "df_events = df_events.merge(df_duel,on='id',how='left',validate='1:1',suffixes=['','_related'])"
   ]
  },
  {
   "cell_type": "code",
   "execution_count": 29,
   "metadata": {},
   "outputs": [],
   "source": [
    "to_remove = []\n",
    "fill_na('id_2','id_related',to_remove)\n",
    "fill_na('index_2','index_related',to_remove)\n",
    "fill_na('timestamp_2','timestamp_related',to_remove)\n",
    "fill_na('minute_2','minute_related',to_remove)\n",
    "fill_na('second_2','second_related',to_remove)\n",
    "fill_na('duration_2','duration_related',to_remove)\n",
    "fill_na('off_camera','off_camera_related',to_remove)\n",
    "fill_na('counterpress','counterpress_related',to_remove)\n",
    "fill_na('player_2_id','player_id_related',to_remove)\n",
    "fill_na('player_2_name','player_name_related',to_remove)\n",
    "fill_na('player_2_position_id','position_id_related',to_remove)\n",
    "fill_na('player_2_position_name','position_name_related',to_remove)\n",
    "fill_na('player_2_team_id','team_id_related',to_remove)\n",
    "fill_na('player_2_team_name','team_name_related',to_remove)\n",
    "fill_na('player_2_type_id','type_id_related',to_remove)\n",
    "fill_na('player_2_type_name','type_name_related',to_remove)\n",
    "fill_na('player_2_x','x_related',to_remove)\n",
    "fill_na('player_2_y','y_related',to_remove)\n",
    "fill_na('player_2_outcome_id','duel_outcome_id',to_remove)\n",
    "fill_na('player_2_outcome_name','duel_outcome_name',to_remove)\n",
    "df_events.drop(to_remove,axis=1,inplace=True)\n",
    "mask_duel = df_events.duel_type_name.notnull()\n",
    "df_events.loc[mask_duel,'player_2_type_id'] = df_events.loc[mask_duel,'duel_type_id']\n",
    "df_events.loc[mask_duel,'player_2_type_name'] = df_events.loc[mask_duel,'duel_type_name']\n",
    "df_events.drop(['duel_type_id','duel_type_name'],axis=1,inplace=True)"
   ]
  },
  {
   "cell_type": "markdown",
   "metadata": {},
   "source": [
    "# Add goalkeeper smother"
   ]
  },
  {
   "cell_type": "code",
   "execution_count": 30,
   "metadata": {},
   "outputs": [],
   "source": [
    "cols_to_keep = ['id','index','timestamp','minute','second','duration',\n",
    "                'goalkeeper_type_id','goalkeeper_type_name','goalkeeper_outcome_id',\n",
    "                'goalkeeper_outcome_name',\n",
    "                'player_id','player_name','position_id','position_name','team_id','team_name',\n",
    "                'type_id','type_name','x','y']\n",
    "df_smother_related = df_related_events.loc[(df_related_events.type_name.isin(['Dribble','Dispossessed']))\n",
    "                                           & (df_related_events.type_name_related=='Goal Keeper'),['id','id_related']]\n",
    "df_smother = (df_events_other.loc[df_events_other.goalkeeper_type_name=='Smother',cols_to_keep]\n",
    "              .rename({'id':'id_related'},axis=1))\n",
    "df_smother = df_smother.merge(df_smother_related,on='id_related',validate='1:1')\n",
    "df_events = df_events.merge(df_smother,on='id',how='left',validate='1:1',suffixes=['','_related'])"
   ]
  },
  {
   "cell_type": "code",
   "execution_count": 31,
   "metadata": {},
   "outputs": [],
   "source": [
    "to_remove = []\n",
    "fill_na('id_2','id_related',to_remove)\n",
    "fill_na('index_2','index_related',to_remove)\n",
    "fill_na('timestamp_2','timestamp_related',to_remove)\n",
    "fill_na('minute_2','minute_related',to_remove)\n",
    "fill_na('second_2','second_related',to_remove)\n",
    "fill_na('duration_2','duration_related',to_remove)\n",
    "fill_na('goalkeeper_type_id','goalkeeper_type_id_related',to_remove)\n",
    "fill_na('goalkeeper_type_name','goalkeeper_type_name_related',to_remove)\n",
    "fill_na('player_2_outcome_id','goalkeeper_outcome_id',to_remove)\n",
    "fill_na('player_2_outcome_name','goalkeeper_outcome_name',to_remove)\n",
    "fill_na('player_2_id','player_id_related',to_remove)\n",
    "fill_na('player_2_name','player_name_related',to_remove)\n",
    "fill_na('player_2_position_id','position_id_related',to_remove)\n",
    "fill_na('player_2_position_name','position_name_related',to_remove)\n",
    "fill_na('player_2_team_id','team_id_related',to_remove)\n",
    "fill_na('player_2_team_name','team_name_related',to_remove)\n",
    "fill_na('player_2_type_id','type_id_related',to_remove)\n",
    "fill_na('player_2_type_name','type_name_related',to_remove)\n",
    "fill_na('player_2_x','x_related',to_remove)\n",
    "fill_na('player_2_y','y_related',to_remove)\n",
    "df_events.drop(to_remove,axis=1,inplace=True)"
   ]
  },
  {
   "cell_type": "markdown",
   "metadata": {},
   "source": [
    "# Change goal keeper types to the goal keeper types (goalkeeper_type_id/name)"
   ]
  },
  {
   "cell_type": "code",
   "execution_count": 32,
   "metadata": {},
   "outputs": [],
   "source": [
    "# player 1\n",
    "mask_goal_keeper = df_events.type_name == 'Goal Keeper'\n",
    "df_events.loc[mask_goal_keeper,'type_id'] = df_events.loc[mask_goal_keeper,'goalkeeper_type_id']\n",
    "df_events.loc[mask_goal_keeper,'type_name'] = df_events.loc[mask_goal_keeper,'goalkeeper_type_name']\n",
    "# player 2\n",
    "mask_goal_keeper = df_events.player_2_type_name == 'Goal Keeper'\n",
    "df_events.loc[mask_goal_keeper,'player_2_type_id'] = df_events.loc[mask_goal_keeper,'goalkeeper_type_id']\n",
    "df_events.loc[mask_goal_keeper,'player_2_type_name'] = df_events.loc[mask_goal_keeper,'goalkeeper_type_name']\n",
    "df_events.drop(['goalkeeper_type_id','goalkeeper_type_name'],axis=1,inplace=True)"
   ]
  },
  {
   "cell_type": "code",
   "execution_count": 33,
   "metadata": {},
   "outputs": [
    {
     "name": "stdout",
     "output_type": "stream",
     "text": [
      "<class 'pandas.core.frame.DataFrame'>\n",
      "Int64Index: 1053279 entries, 0 to 1053278\n",
      "Data columns (total 136 columns):\n",
      "id                                  1053279 non-null object\n",
      "index                               1053279 non-null int64\n",
      "period                              1053279 non-null int64\n",
      "timestamp                           1053279 non-null object\n",
      "minute                              1053279 non-null int64\n",
      "second                              1053279 non-null int64\n",
      "possession                          1053279 non-null int64\n",
      "duration                            1031424 non-null float64\n",
      "off_camera                          26771 non-null float64\n",
      "out                                 16326 non-null float64\n",
      "under_pressure                      243968 non-null float64\n",
      "counterpress                        29273 non-null float64\n",
      "ball_recovery_offensive             296 non-null object\n",
      "ball_recovery_recovery_failure      6309 non-null object\n",
      "block_save_block                    176 non-null object\n",
      "block_offensive                     422 non-null object\n",
      "clearance_aerial_won                4870 non-null object\n",
      "dribble_overrun                     1944 non-null object\n",
      "foul_won_defensive                  5418 non-null object\n",
      "foul_won_penalty                    191 non-null object\n",
      "goalkeeper_position_id              5156 non-null float64\n",
      "goalkeeper_position_name            5156 non-null object\n",
      "goalkeeper_technique_id             5156 non-null float64\n",
      "goalkeeper_technique_name           5156 non-null object\n",
      "miscontrol_aerial_won               723 non-null object\n",
      "pass_length                         768827 non-null float64\n",
      "pass_angle                          768827 non-null float64\n",
      "pass_height_id                      768827 non-null float64\n",
      "pass_height_name                    768827 non-null object\n",
      "pass_type_id                        150803 non-null float64\n",
      "pass_type_name                      150803 non-null object\n",
      "pass_cross                          16520 non-null object\n",
      "pass_assisted_shot_id               13974 non-null object\n",
      "pass_shot_assist                    12325 non-null object\n",
      "pass_switch                         20879 non-null object\n",
      "pass_aerial_won                     11204 non-null object\n",
      "pass_goal_assist                    1649 non-null object\n",
      "pass_no_touch                       506 non-null object\n",
      "pass_inswinging                     1865 non-null object\n",
      "pass_technique_id                   8977 non-null float64\n",
      "pass_technique_name                 8977 non-null object\n",
      "pass_cut_back                       1441 non-null object\n",
      "pass_straight                       520 non-null object\n",
      "pass_through_ball                   4998 non-null object\n",
      "pass_outswinging                    1594 non-null object\n",
      "play_pattern_id                     1053279 non-null int64\n",
      "play_pattern_name                   1053279 non-null object\n",
      "player_id                           1053279 non-null float64\n",
      "player_name                         1053279 non-null object\n",
      "position_id                         1053279 non-null float64\n",
      "position_name                       1053279 non-null object\n",
      "possession_team_id                  1053279 non-null int64\n",
      "possession_team_name                1053279 non-null object\n",
      "shot_statsbomb_xg                   19917 non-null float64\n",
      "shot_key_pass_id                    13974 non-null object\n",
      "shot_aerial_won                     1209 non-null object\n",
      "shot_type_id                        19917 non-null float64\n",
      "shot_type_name                      19917 non-null object\n",
      "shot_technique_id                   19917 non-null float64\n",
      "shot_technique_name                 19917 non-null object\n",
      "shot_first_time                     5270 non-null object\n",
      "shot_one_on_one                     1237 non-null object\n",
      "team_id                             1053279 non-null int64\n",
      "team_name                           1053279 non-null object\n",
      "type_id                             1053279 non-null float64\n",
      "type_name                           1053279 non-null object\n",
      "x                                   1053215 non-null float64\n",
      "y                                   1053215 non-null float64\n",
      "pass_end_x                          768827 non-null float64\n",
      "pass_end_y                          768827 non-null float64\n",
      "shot_end_x                          19917 non-null float64\n",
      "shot_end_y                          19917 non-null float64\n",
      "shot_end_z                          14408 non-null float64\n",
      "match_id                            1053279 non-null int64\n",
      "50_50_outcome_id                    619 non-null float64\n",
      "50_50_outcome_name                  619 non-null object\n",
      "dribble_nutmeg                      1061 non-null object\n",
      "foul_won_advantage                  3033 non-null object\n",
      "pass_miscommunication               475 non-null object\n",
      "pass_backheel                       978 non-null object\n",
      "block_deflection                    849 non-null object\n",
      "dribble_no_touch                    84 non-null object\n",
      "pass_deflected                      874 non-null object\n",
      "shot_deflected                      195 non-null object\n",
      "clearance_other                     141 non-null object\n",
      "shot_open_goal                      236 non-null object\n",
      "goalkeeper_punched_out              90 non-null object\n",
      "shot_redirect                       63 non-null object\n",
      "goalkeeper_shot_saved_off_target    72 non-null object\n",
      "shot_saved_off_target               72 non-null object\n",
      "shot_follows_dribble                17 non-null object\n",
      "goalkeeper_shot_saved_to_post       54 non-null object\n",
      "shot_saved_to_post                  49 non-null object\n",
      "goalkeeper_saved_to_post            2 non-null object\n",
      "goalkeeper_penalty_saved_to_post    1 non-null object\n",
      "shot_kick_off                       1 non-null object\n",
      "outcome_id                          239674 non-null float64\n",
      "outcome_name                        239674 non-null object\n",
      "body_part_id                        775345 non-null float64\n",
      "body_part_name                      775345 non-null object\n",
      "shield_timestamp                    698 non-null object\n",
      "shield_index                        698 non-null float64\n",
      "shield_id                           698 non-null object\n",
      "shield_player_id                    698 non-null float64\n",
      "shield_player_name                  698 non-null object\n",
      "shield_team_id                      698 non-null float64\n",
      "shield_team_name                    698 non-null object\n",
      "shield                              698 non-null object\n",
      "recovery                            152735 non-null object\n",
      "ball_drop                           440 non-null object\n",
      "id_2                                778877 non-null object\n",
      "index_2                             778877 non-null float64\n",
      "timestamp_2                         778877 non-null object\n",
      "minute_2                            778877 non-null float64\n",
      "second_2                            778877 non-null float64\n",
      "player_2_under_pressure             74822 non-null float64\n",
      "duration_2                          58211 non-null float64\n",
      "player_2_outcome_id                 129880 non-null float64\n",
      "player_2_outcome_name               129880 non-null object\n",
      "player_2_id                         778877 non-null float64\n",
      "player_2_name                       778877 non-null object\n",
      "player_2_position_id                778877 non-null float64\n",
      "player_2_position_name              778877 non-null object\n",
      "player_2_team_id                    778877 non-null float64\n",
      "player_2_team_name                  778877 non-null object\n",
      "player_2_type_id                    778877 non-null float64\n",
      "player_2_type_name                  778877 non-null object\n",
      "player_2_x                          778877 non-null float64\n",
      "player_2_y                          778877 non-null float64\n",
      "foul_committed_offensive            545 non-null object\n",
      "foul_committed_type_id              289 non-null float64\n",
      "foul_committed_type_name            289 non-null object\n",
      "foul_committed_card_id              2318 non-null float64\n",
      "foul_committed_card_name            2318 non-null object\n",
      "foul_committed_penalty              189 non-null object\n",
      "foul_committed_advantage            2893 non-null object\n",
      "dtypes: float64(45), int64(9), object(82)\n",
      "memory usage: 1.1+ GB\n"
     ]
    }
   ],
   "source": [
    "df_events.info(verbose=True,null_counts=True)"
   ]
  },
  {
   "cell_type": "code",
   "execution_count": 40,
   "metadata": {},
   "outputs": [
    {
     "data": {
      "text/plain": [
       "Ball Receipt    110094\n",
       "Tackle           19682\n",
       "Smother            104\n",
       "Name: player_2_type_name, dtype: int64"
      ]
     },
     "execution_count": 40,
     "metadata": {},
     "output_type": "execute_result"
    }
   ],
   "source": [
    "df_events[(df_events.player_2_outcome_name.notnull())&(df_events.player_2_name.notnull())].player_2_type_name.value_counts()"
   ]
  },
  {
   "cell_type": "code",
   "execution_count": 41,
   "metadata": {},
   "outputs": [
    {
     "data": {
      "text/plain": [
       "Ball Recovery            83377\n",
       "Pass                     53311\n",
       "Clearance                34384\n",
       "Block                    27336\n",
       "Miscontrol               21002\n",
       "Shot                     19917\n",
       "Interception             15193\n",
       "Dribble                  10704\n",
       "Shot Saved                4922\n",
       "Collected                 1731\n",
       "Keeper Sweeper             888\n",
       "Punch                      853\n",
       "Error                      463\n",
       "Own Goal Against            87\n",
       "Shot Saved Off Target       72\n",
       "Penalty Saved               55\n",
       "Shot Saved to Post          54\n",
       "Save                        44\n",
       "50/50                        6\n",
       "Saved to Post                2\n",
       "Penalty Saved to Post        1\n",
       "Name: type_name, dtype: int64"
      ]
     },
     "execution_count": 41,
     "metadata": {},
     "output_type": "execute_result"
    }
   ],
   "source": [
    "df_events[df_events.id_2.isnull()].type_name.value_counts()"
   ]
  },
  {
   "cell_type": "markdown",
   "metadata": {},
   "source": [
    "# To do add other event outcomes to event dataframe"
   ]
  },
  {
   "cell_type": "markdown",
   "metadata": {},
   "source": [
    "- refactor to make the table joining in one\n",
    "- add on carry/ pressure"
   ]
  },
  {
   "cell_type": "markdown",
   "metadata": {},
   "source": [
    "- <del> Ball Receipt         715516\n",
    "- Carry                637463\n",
    "- Pressure             256187\n",
    "- <del> Duel                  48365\n",
    "- <del> Foul Committed        22324\n",
    "- <del> Dribbled Past         21769\n",
    "- <del> Goal Keeper           14915\n",
    "- <del> Substitution           4289\n",
    "- <del> Half End               3150\n",
    "- <del> Half Start             3150\n",
    "- <del> Injury Stoppage        2430\n",
    "- <del> Shield\n",
    "- <del> Referee Ball-Drop       738\n",
    "- <del> 50/50                   613\n",
    "- <del> Camera On              3822\n",
    "- <del> Starting XI            1554\n",
    "- <del> Tactical Shift         1371\n",
    "- <del> Camera off             1027\n",
    "- <del> Bad Behaviour           543\n",
    "- <del> Player Off              535\n",
    "- <del> Player On               529\n",
    "- <del> Offside                 298   \n",
    "- <del> Own Goal Against         87"
   ]
  },
  {
   "cell_type": "markdown",
   "metadata": {},
   "source": [
    "# Old code"
   ]
  },
  {
   "cell_type": "markdown",
   "metadata": {},
   "source": [
    "reverse events"
   ]
  },
  {
   "cell_type": "code",
   "execution_count": null,
   "metadata": {},
   "outputs": [],
   "source": [
    "#it looks like sometimes there is a reversed event so the set piece out doesn't follow the shiedlded ball\n",
    "# here we reverse the events\n",
    "df_events.loc[df_events.pass_type_name.isin(['Throw-in','Corner','Goal Kick']),'set_piece_out'] = True\n",
    "cols_next = ['type_name','set_piece_out']\n",
    "cols_previous = ['set_piece_out','type_name','id','player_name','index']\n",
    "shift_cols(df_events,cols_next,cols_previous)\n",
    "to_reverse = df_events.loc[(df_events['type_name_previous'] == 'Shield') &\n",
    "                           (df_events['player_name_previous']!=df_events['player_name']) &\n",
    "                           (df_events.set_piece_out.isnull()) & df_events['set_piece_out_next']==True,\n",
    "                           ['id','index','id_previous','index_previous']]\n",
    "df_events.loc[df_events.id.isin(to_reverse.id),'index'] = to_reverse.index_previous\n",
    "df_events.loc[df_events.id.isin(to_reverse.id_previous),'index'] = to_reverse.index"
   ]
  },
  {
   "cell_type": "markdown",
   "metadata": {},
   "source": [
    "Mark passes as Incomplete (instead of null) if the pass is a recovery and the possession changes team"
   ]
  },
  {
   "cell_type": "code",
   "execution_count": null,
   "metadata": {},
   "outputs": [],
   "source": [
    "df_events.loc[(df_events.pass_type_name=='Recovery')&\n",
    "              (df_events.next_change_team==True)&\n",
    "              (df_events.outcome_name.isnull()),'outcome_name'] = 'Incomplete'"
   ]
  },
  {
   "cell_type": "markdown",
   "metadata": {},
   "source": [
    "Get the player_name, id and index in two events time"
   ]
  },
  {
   "cell_type": "code",
   "execution_count": null,
   "metadata": {},
   "outputs": [],
   "source": [
    "type_cols = ['player_name','type_name','id','index','timestamp']\n",
    "type_cols_new = ['next2_'+col for col in type_cols]\n",
    "df_events[type_cols_new] = df_events.groupby(['match_id','period'])[type_cols].shift(-2)"
   ]
  },
  {
   "cell_type": "markdown",
   "metadata": {},
   "source": [
    "Get the player_name in three events time"
   ]
  },
  {
   "cell_type": "code",
   "execution_count": null,
   "metadata": {},
   "outputs": [],
   "source": [
    "df_events['next3_player_name'] = df_events.groupby(['match_id','period'])['player_name'].shift(-3)"
   ]
  },
  {
   "cell_type": "markdown",
   "metadata": {},
   "source": [
    "Swapable events"
   ]
  },
  {
   "cell_type": "code",
   "execution_count": null,
   "metadata": {},
   "outputs": [],
   "source": [
    "first_cols = ['match_id','id','index','period','timestamp','minute','second','possession',\n",
    "              'duration','team_id','team_name','player_name','pass_recipient_name',\n",
    "              'type_id','type_name','outcome_id',\n",
    "              'outcome_name','ball_recovery_recovery_failure','miscontrol_aerial_won','pass_type_name',\n",
    "              'dispossessed_won_out','ball_receipt_incomplete']\n",
    "other_cols = [col for col in df_events.columns if col not in first_cols]\n",
    "first_cols.extend(other_cols)"
   ]
  },
  {
   "cell_type": "code",
   "execution_count": null,
   "metadata": {},
   "outputs": [],
   "source": [
    "mask_possible_swaps = ((df_events.outcome_name.isnull())&(df_events.type_name=='Pass')&\n",
    "                       (df_events.next_change_team==True)&\n",
    "                       (df_events.pass_recipient_name==df_events.next2_player_name)&\n",
    "                       (df_events.next2_player_name!=df_events.next3_player_name) &\n",
    "                       ((df_events.next_player_name==df_events.next3_player_name)|\n",
    "                        (df_events.next_pass_recipient_name==df_events.next3_player_name)))"
   ]
  },
  {
   "cell_type": "markdown",
   "metadata": {},
   "source": [
    "Show possible errors"
   ]
  },
  {
   "cell_type": "code",
   "execution_count": null,
   "metadata": {},
   "outputs": [],
   "source": [
    "mask_potential_problems = ((df_events['next_change_team']==True)&\n",
    "                           (df_events.outcome_name!='Incomplete')&\n",
    "                           (~df_events.type_name.isin(['Miscontrol','Dispossessed','Clearance','Block','Error']))&\n",
    "                           (~((df_events.outcome_name=='Injury Clearance')&(df_events.out==True)))&\n",
    "                           (df_events.next_type_name!='Foul Won')&\n",
    "                           (~(df_events.outcome_name.isin(['Saved','In Play Safe','Wayward','Blocked','Off T','Pass Offside','Injury Clearance'])))&\n",
    "                           (~((df_events.out==True)&(df_events.type_name.isin(['Goal Keeper','Shot']))))&\n",
    "                           (~df_events.outcome_name.isin(['Goal']))&\n",
    "                           (~((df_events.outcome_name.isin(['Out','Unknown']))&(df_events.type_name.isin(['Pass']))))&\n",
    "                           (~((df_events.type_name=='Interception')&(df_events.outcome_name.isin(['Lost In Play','Lost Out']))))&                           \n",
    "                           (~((df_events.type_name=='Goal Keeper')&(df_events.outcome_name.isin(['Touched Out','In Play Danger','Clear','Punched out']))))&\n",
    "                           (~((df_events.goalkeeper_type_name=='Collected')&(df_events.outcome_name.isin(['Fail']))))&\n",
    "                           (~(df_events.ball_receipt_incomplete==True))&\n",
    "                           (~(df_events.ball_recovery_recovery_failure==True)))"
   ]
  },
  {
   "cell_type": "code",
   "execution_count": null,
   "metadata": {},
   "outputs": [],
   "source": [
    "match_id = 7430\n",
    "index_id = 2089"
   ]
  },
  {
   "cell_type": "code",
   "execution_count": null,
   "metadata": {},
   "outputs": [],
   "source": [
    "df_events.loc[(df_events['index']>=(index_id-4))&(df_events['index']<=(index_id+7))&(df_events.match_id==match_id),first_cols].dropna(how='all',axis=1)"
   ]
  },
  {
   "cell_type": "code",
   "execution_count": null,
   "metadata": {},
   "outputs": [],
   "source": [
    "df_events_other[(df_events_other['index']>=index_id)&(df_events_other['index']<=(index_id+4))&(df_events_other.match_id==match_id)].dropna(how='all',axis=1)"
   ]
  },
  {
   "cell_type": "markdown",
   "metadata": {},
   "source": [
    "output a game with coloured bars when the possession changes"
   ]
  },
  {
   "cell_type": "code",
   "execution_count": null,
   "metadata": {},
   "outputs": [],
   "source": [
    "random_game = np.random.choice(df_events.match_id.unique())\n",
    "print(random_game)"
   ]
  },
  {
   "cell_type": "code",
   "execution_count": null,
   "metadata": {},
   "outputs": [],
   "source": [
    "df_one_game = df_events[df_events.match_id==random_game].copy()"
   ]
  },
  {
   "cell_type": "code",
   "execution_count": null,
   "metadata": {},
   "outputs": [],
   "source": [
    "len(df_one_game)"
   ]
  },
  {
   "cell_type": "code",
   "execution_count": null,
   "metadata": {},
   "outputs": [],
   "source": [
    "# reorder\n",
    "first_cols = ['match_id','id','index','period','timestamp','minute','second','possession',\n",
    "              'duration','team_id','team_name','player_name','pass_recipient_name',\n",
    "              'type_id','type_name','outcome_id',\n",
    "              'outcome_name','ball_recovery_recovery_failure','miscontrol_aerial_won','pass_type_name',\n",
    "              'dispossessed_won_out']\n",
    "other_cols = [col for col in df_one_game.columns if col not in first_cols]\n",
    "first_cols.extend(other_cols)\n",
    "df_one_game = df_one_game[first_cols].copy()"
   ]
  },
  {
   "cell_type": "code",
   "execution_count": null,
   "metadata": {},
   "outputs": [],
   "source": [
    "def highlight_home_team(row):\n",
    "    color = 'white'\n",
    "    if row.home == True:\n",
    "        color = 'yellow'\n",
    "    return ['background-color: %s' % color]*len(row.values)"
   ]
  },
  {
   "cell_type": "code",
   "execution_count": null,
   "metadata": {},
   "outputs": [],
   "source": [
    "df_one_game = df_one_game.merge(df_match[['match_id','home_team_name']],\n",
    "                                on='match_id',validate='m:1',how='left')\n",
    "\n",
    "df_one_game['home'] = df_one_game.home_team_name == df_one_game.team_name\n",
    "df_one_game = df_one_game.style.apply(highlight_home_team,axis=1)"
   ]
  },
  {
   "cell_type": "code",
   "execution_count": null,
   "metadata": {},
   "outputs": [],
   "source": [
    "df_one_game.to_excel(\"game_to_check.xlsx\")"
   ]
  },
  {
   "cell_type": "markdown",
   "metadata": {},
   "source": [
    "Create a type column For passes"
   ]
  },
  {
   "cell_type": "code",
   "execution_count": null,
   "metadata": {},
   "outputs": [],
   "source": [
    "mask_pass_success = (df_events.pass_outcome_name.isnull())&(df_events.type_name=='Pass')\n",
    "mask_pass_not_success = df_events.pass_outcome_name == 'Incomplete'\n",
    "mask_pass_out = df_events.pass_outcome_name.isin(['Out','Injury Clearance'])\n",
    "mask_pass_offside = df_events.pass_outcome_name == 'Pass Offside'\n",
    "mask_pass_unknown =  df_events.pass_outcome_name == 'Unknown'"
   ]
  },
  {
   "cell_type": "code",
   "execution_count": null,
   "metadata": {},
   "outputs": [],
   "source": [
    "df_events.loc[mask_pass_success,'type'] = 'pass_success'\n",
    "df_events.loc[mask_pass_not_success,'type'] = 'pass_not_success'\n",
    "df_events.loc[mask_pass_out,'type'] = 'pass_out_of_play'\n",
    "df_events.loc[mask_pass_offside,'type'] = 'pass_offside'\n",
    "df_events.loc[mask_pass_unknown,'type'] = 'pass_unknown'"
   ]
  },
  {
   "cell_type": "markdown",
   "metadata": {},
   "source": [
    "Create a type column For shots"
   ]
  },
  {
   "cell_type": "code",
   "execution_count": null,
   "metadata": {},
   "outputs": [],
   "source": [
    "mask_shot_miss = df_events.shot_outcome_name.isin(['Off T','Wayward','Post','Saved Off Target'])\n",
    "mask_saved = df_events.shot_outcome_name.isin(['Saved','Saved to Post'])\n",
    "mask_blocked = df_events.shot_outcome_name.isin(['Blocked'])\n",
    "mask_goal = df_events.shot_outcome_name.isin(['Goal'])"
   ]
  },
  {
   "cell_type": "code",
   "execution_count": null,
   "metadata": {},
   "outputs": [],
   "source": [
    "df_events.loc[mask_shot_miss,'type'] = 'shot_miss'\n",
    "df_events.loc[mask_saved,'type'] = 'shot_saved'\n",
    "df_events.loc[mask_blocked,'type'] = 'shot_blocked'\n",
    "df_events.loc[mask_goal,'type'] = 'shot_goal'"
   ]
  },
  {
   "cell_type": "markdown",
   "metadata": {},
   "source": [
    "Create a type column For goalkeeper"
   ]
  },
  {
   "cell_type": "code",
   "execution_count": null,
   "metadata": {},
   "outputs": [],
   "source": [
    "mask_save = df_events.goalkeeper_type_name.isin(['Save', 'Shot Saved', 'Shot Saved Off T',\n",
    "                                                 'Shot Saved To Post', 'Saved To Post', 'Penalty Saved To Post',\n",
    "                                                 'Penalty Saved','Shot Saved Off Target',\n",
    "                                                 'Shot Saved to Post','Saved to Post','Penalty Saved to Post'])\n",
    "mask_claim_punch = df_events.goalkeeper_type_name.isin(['Collected', 'Punch','Smother'])\n",
    "mask_clearance_gk = df_events.goalkeeper_type_name.isin(['Keeper Sweeper'])"
   ]
  },
  {
   "cell_type": "code",
   "execution_count": null,
   "metadata": {},
   "outputs": [],
   "source": [
    "df_events.loc[mask_save,'type'] = 'goalkeeper_save'\n",
    "df_events.loc[mask_claim_punch,'type'] = 'goalkeeper_claim_or_punch'\n",
    "df_events.loc[mask_clearance_gk,'type'] = 'goalkeeper_clearance'"
   ]
  },
  {
   "cell_type": "markdown",
   "metadata": {},
   "source": [
    "Create a type column For dribbles"
   ]
  },
  {
   "cell_type": "code",
   "execution_count": null,
   "metadata": {},
   "outputs": [],
   "source": [
    "mask_dribble_success = df_events.dribble_outcome_name=='Complete'\n",
    "mask_dribble_overrun = (df_events.dribble_outcome_name=='Incomplete')&(df_events.dribble_overrun==True)\n",
    "mask_dribble_dispossessed = (df_events.dribble_outcome_name=='Incomplete')&(df_events.dribble_overrun!=True)"
   ]
  },
  {
   "cell_type": "code",
   "execution_count": null,
   "metadata": {},
   "outputs": [],
   "source": [
    "df_events.loc[mask_dribble_success,'type'] = 'dribble_success'\n",
    "df_events.loc[mask_dribble_overrun,'type'] = 'dribble_overrun'\n",
    "df_events.loc[mask_dribble_dispossessed,'type'] = 'dribble_dispossessed'"
   ]
  },
  {
   "cell_type": "markdown",
   "metadata": {},
   "source": [
    "Create a type column For others"
   ]
  },
  {
   "cell_type": "code",
   "execution_count": null,
   "metadata": {},
   "outputs": [],
   "source": [
    "df_events.loc[df_events.type_name.isin(['Interception','Block']),'type'] = 'interception_or_block'\n",
    "df_events.loc[df_events.type_name.isin(['Ball Recovery']),'type'] = 'ball_recovery'\n",
    "df_events.loc[df_events.type_name.isin(['Miscontrol','Error']),'type'] = 'lose_ball'\n",
    "df_events.loc[df_events.type_name.isin(['Duel','50/50']),'type'] = 'duel_50_50'\n",
    "df_events.loc[df_events.type_name.isin(['Own Goal For']),'type'] = 'own_goal'\n",
    "df_events.loc[(df_events.type_name.isin(['Clearance'])),'type'] = 'clearance'\n",
    "df_events.loc[df_events.type_name.isin(['Foul Won']),'type'] = 'fouled'\n",
    "df_events.loc[df_events.type_name.isin(['Dispossessed']),'type'] = 'dispossessed'"
   ]
  },
  {
   "cell_type": "markdown",
   "metadata": {},
   "source": [
    "Set out for events that go out"
   ]
  },
  {
   "cell_type": "code",
   "execution_count": null,
   "metadata": {},
   "outputs": [],
   "source": [
    "df_events.loc[((df_events.type=='pass_out_of_play')|\n",
    "               (df_events.out==1)|\n",
    "               (df_events.duel_outcome_name.isin(['Success Out','Lost Out']))|\n",
    "               (df_events.interception_outcome_name.isin(['Success Out','Lost Out']))|\n",
    "               (df_events.goalkeeper_outcome_name.isin(['Touched Out','Punched out','Lost Out','Success Out']))|\n",
    "               (df_events.goalkeeper_punched_out==True)|\n",
    "               (df_events.goalkeeper_success_out==True)|\n",
    "               (df_events.shot_outcome_name=='Off T')|\n",
    "               (df_events.goalkeeper_lost_out==True)),'out'] = True"
   ]
  },
  {
   "cell_type": "code",
   "execution_count": null,
   "metadata": {},
   "outputs": [],
   "source": [
    "df_events.loc[df_events.pass_type_name.isin(['Throw-in','Goal Kick','Corner']),'deadball'] = True\n",
    "df_events[['out_next','team_next']] = df_events.groupby(['match_id','period'])['deadball','team_name'].shift(-1)\n",
    "mask_to_change = ((df_events['out_next'] == True)&\n",
    "                  (df_events.out.isnull())&\n",
    "                  (df_events.team_name!=df_events.team_next)&\n",
    "                  (~df_events.type.isin(['pass_offside','fouled','shot_goal','pass_success','pass_unknown'])))\n",
    "df_events.loc[mask_to_change,'out'] = True"
   ]
  }
 ],
 "metadata": {
  "kernelspec": {
   "display_name": "Python 3",
   "language": "python",
   "name": "python3"
  },
  "language_info": {
   "codemirror_mode": {
    "name": "ipython",
    "version": 3
   },
   "file_extension": ".py",
   "mimetype": "text/x-python",
   "name": "python",
   "nbconvert_exporter": "python",
   "pygments_lexer": "ipython3",
   "version": "3.7.5"
  }
 },
 "nbformat": 4,
 "nbformat_minor": 2
}
