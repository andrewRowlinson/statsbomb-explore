{
 "cells": [
  {
   "cell_type": "code",
   "execution_count": 1,
   "metadata": {},
   "outputs": [],
   "source": [
    "import pandas as pd\n",
    "import numpy as np\n",
    "from mplsoccer.pitch import Pitch\n",
    "import matplotlib.pyplot as plt\n",
    "import os\n",
    "import matplotlib.gridspec as gridspec"
   ]
  },
  {
   "cell_type": "markdown",
   "metadata": {},
   "source": [
    "# Load datasets"
   ]
  },
  {
   "cell_type": "code",
   "execution_count": 2,
   "metadata": {},
   "outputs": [],
   "source": [
    "#DATA_PATH = os.path.join(os.getcwd(),'data')\n",
    "#EVENTS_PATH = os.path.join(DATA_PATH,'events')\n",
    "#df_events = pd.read_feather(EVENTS_PATH)"
   ]
  },
  {
   "cell_type": "markdown",
   "metadata": {},
   "source": [
    "# Get all passes for Samuel Eto"
   ]
  },
  {
   "cell_type": "code",
   "execution_count": 3,
   "metadata": {},
   "outputs": [],
   "source": [
    "#df_pass = df_events[df_events.type_name=='Pass'].copy()\n",
    "#df_pass = df_pass[['id','player_id','player_name','pass_assisted_shot_id',\n",
    "#                   'x', 'y', 'pass_end_x', 'pass_end_y']].copy()\n",
    "#df_pass = df_pass[df_pass.player_id==19298].copy()"
   ]
  },
  {
   "cell_type": "markdown",
   "metadata": {},
   "source": [
    "# Get all shots and merge onto shots onto passes for outcomes"
   ]
  },
  {
   "cell_type": "code",
   "execution_count": 4,
   "metadata": {},
   "outputs": [],
   "source": [
    "#df_shot = df_events[df_events.type_name=='Shot'].dropna(axis=1,how='all').copy()\n",
    "#df_shot = df_shot[['id','shot_statsbomb_xg','shot_outcome_name']].copy()\n",
    "#df_shot = df_shot.rename({'id':'pass_assisted_shot_id'},axis=1)"
   ]
  },
  {
   "cell_type": "code",
   "execution_count": 5,
   "metadata": {},
   "outputs": [],
   "source": [
    "#df_pass = df_pass.merge(df_shot,on='pass_assisted_shot_id',how='left')\n",
    "# add assist column and drop shot outcome\n",
    "#df_pass['assist'] = df_pass['shot_outcome_name'] == 'Goal'\n",
    "#df_pass.drop('shot_outcome_name',axis=1,inplace=True)"
   ]
  },
  {
   "cell_type": "code",
   "execution_count": 7,
   "metadata": {},
   "outputs": [],
   "source": [
    "df_pass = pd.read_csv('LubalaAssists.csv')"
   ]
  },
  {
   "cell_type": "code",
   "execution_count": 8,
   "metadata": {},
   "outputs": [
    {
     "data": {
      "text/html": [
       "<div>\n",
       "<style scoped>\n",
       "    .dataframe tbody tr th:only-of-type {\n",
       "        vertical-align: middle;\n",
       "    }\n",
       "\n",
       "    .dataframe tbody tr th {\n",
       "        vertical-align: top;\n",
       "    }\n",
       "\n",
       "    .dataframe thead th {\n",
       "        text-align: right;\n",
       "    }\n",
       "</style>\n",
       "<table border=\"1\" class=\"dataframe\">\n",
       "  <thead>\n",
       "    <tr style=\"text-align: right;\">\n",
       "      <th></th>\n",
       "      <th>x_pass_start</th>\n",
       "      <th>y_pass_start</th>\n",
       "      <th>x_pass_end</th>\n",
       "      <th>y_pass_end</th>\n",
       "      <th>xg</th>\n",
       "      <th>assist</th>\n",
       "    </tr>\n",
       "  </thead>\n",
       "  <tbody>\n",
       "    <tr>\n",
       "      <th>0</th>\n",
       "      <td>93.0</td>\n",
       "      <td>47.5</td>\n",
       "      <td>90.1</td>\n",
       "      <td>47.1</td>\n",
       "      <td>0.00</td>\n",
       "      <td>True</td>\n",
       "    </tr>\n",
       "    <tr>\n",
       "      <th>1</th>\n",
       "      <td>83.1</td>\n",
       "      <td>39.3</td>\n",
       "      <td>85.3</td>\n",
       "      <td>53.1</td>\n",
       "      <td>0.19</td>\n",
       "      <td>False</td>\n",
       "    </tr>\n",
       "    <tr>\n",
       "      <th>2</th>\n",
       "      <td>53.2</td>\n",
       "      <td>50.9</td>\n",
       "      <td>40.2</td>\n",
       "      <td>54.0</td>\n",
       "      <td>0.00</td>\n",
       "      <td>False</td>\n",
       "    </tr>\n",
       "    <tr>\n",
       "      <th>3</th>\n",
       "      <td>46.2</td>\n",
       "      <td>52.4</td>\n",
       "      <td>40.5</td>\n",
       "      <td>43.9</td>\n",
       "      <td>0.22</td>\n",
       "      <td>True</td>\n",
       "    </tr>\n",
       "    <tr>\n",
       "      <th>4</th>\n",
       "      <td>84.1</td>\n",
       "      <td>37.9</td>\n",
       "      <td>99.0</td>\n",
       "      <td>19.3</td>\n",
       "      <td>0.00</td>\n",
       "      <td>False</td>\n",
       "    </tr>\n",
       "  </tbody>\n",
       "</table>\n",
       "</div>"
      ],
      "text/plain": [
       "   x_pass_start  y_pass_start  x_pass_end  y_pass_end    xg  assist\n",
       "0          93.0          47.5        90.1        47.1  0.00    True\n",
       "1          83.1          39.3        85.3        53.1  0.19   False\n",
       "2          53.2          50.9        40.2        54.0  0.00   False\n",
       "3          46.2          52.4        40.5        43.9  0.22    True\n",
       "4          84.1          37.9        99.0        19.3  0.00   False"
      ]
     },
     "execution_count": 8,
     "metadata": {},
     "output_type": "execute_result"
    }
   ],
   "source": [
    "df_pass.head()"
   ]
  },
  {
   "cell_type": "markdown",
   "metadata": {},
   "source": [
    "# Subset the data for the lines and shots (assist/ or other)"
   ]
  },
  {
   "cell_type": "code",
   "execution_count": 10,
   "metadata": {},
   "outputs": [],
   "source": [
    "#boolean mask for assists or high xg. Use this to subset data\n",
    "mask_line = (df_pass.assist==True)|(df_pass.xg>=0.1)\n",
    "df_line = df_pass[mask_line].copy()\n",
    "# boolean mask for assists. Use this to subset data\n",
    "mask_assist = (mask_line) & (df_pass.assist==True)\n",
    "df_assist = df_pass[mask_assist].copy()\n",
    "# booelan mask for other passes (no assist/goal). Use this to subset data\n",
    "mask_other = (mask_line) & (df_pass.assist==False)\n",
    "df_other = df_pass[mask_other].copy()"
   ]
  },
  {
   "cell_type": "markdown",
   "metadata": {},
   "source": [
    "# Plot the data"
   ]
  },
  {
   "cell_type": "code",
   "execution_count": 16,
   "metadata": {},
   "outputs": [
    {
     "data": {
      "image/png": "[encoded data removed]",
      "text/plain": [
       "<Figure size 1536x1125 with 3 Axes>"
      ]
     },
     "metadata": {},
     "output_type": "display_data"
    }
   ],
   "source": [
    "pad = 1/72\n",
    "figsize1 = 1536/72\n",
    "figsize2 = 1125/72\n",
    "fig = plt.figure(figsize=(figsize1, figsize2),facecolor='#2f3653') \n",
    "gs = gridspec.GridSpec(2, 2, width_ratios=[3.13, 1])\n",
    "ax1 = plt.subplot(gs[:, 0])\n",
    "ax2 = plt.subplot(gs[0, 1])\n",
    "ax3 = plt.subplot(gs[1, 1])\n",
    "pitch = Pitch(pitch_type='opta',orientation='vertical',view='half',layout=(1,1),figsize=(10,10),\n",
    "              pitch_color='#2f3653',line_color='#82868f',goal_type='box',linewidth=2,\n",
    "              pad_bottom=0.2,pad_top=4)\n",
    "pitch.draw(ax1)\n",
    "pitch.draw(ax2)\n",
    "pitch.draw(ax3)\n",
    "#plot lines\n",
    "pitch.lines(df_line.x_pass_start,df_line.y_pass_start,df_line.x_pass_end,df_line.y_pass_end,\n",
    "            lw=9,transparent=True,comet=True,ax=ax1)\n",
    "pitch.lines(df_line.x_pass_start,df_line.y_pass_start,df_line.x_pass_end,df_line.y_pass_end,\n",
    "            lw=9,transparent=True,comet=True,ax=ax2)\n",
    "# plot assists\n",
    "pitch.plot(df_assist.x_pass_end,df_assist.y_pass_end,\n",
    "           marker='o', color='None',markersize=12,markerfacecolor='#34afed',\n",
    "           linestyle='None',markeredgecolor='#34afed',ax=ax1)\n",
    "pitch.plot(df_assist.x_pass_end,df_assist.y_pass_end,\n",
    "           marker='o', color='None',markersize=7,markerfacecolor='#34afed',\n",
    "           linestyle='None',markeredgecolor='#34afed',ax=ax2)\n",
    "# plot other\n",
    "pitch.plot(df_other.x_pass_end,df_other.y_pass_end,markerfacecolor='#2f3653',\n",
    "           marker='o', color='None',markersize=12,zorder=3,\n",
    "           linestyle='None',markeredgecolor='#34afed',ax=ax1)\n",
    "pitch.plot(df_other.x_pass_end,df_other.y_pass_end,markerfacecolor='#2f3653',\n",
    "           marker='o', color='None',markersize=7,zorder=3,\n",
    "           linestyle='None',markeredgecolor='#34afed',ax=ax2)\n",
    "# plot pass start locations\n",
    "pitch.plot(df_pass.x_pass_start,df_pass.y_pass_start,\n",
    "           marker='o', color='#a43967',markersize=10,alpha=0.25,linestyle='None',ax=ax1)\n",
    "pitch.plot(df_pass.x_pass_start,df_pass.y_pass_start,\n",
    "           marker='o', color='#a43967',markersize=10,alpha=0.1,linestyle='None',ax=ax3)"
   ]
  }
 ],
 "metadata": {
  "kernelspec": {
   "display_name": "Python 3",
   "language": "python",
   "name": "python3"
  },
  "language_info": {
   "codemirror_mode": {
    "name": "ipython",
    "version": 3
   },
   "file_extension": ".py",
   "mimetype": "text/x-python",
   "name": "python",
   "nbconvert_exporter": "python",
   "pygments_lexer": "ipython3",
   "version": "3.8.2"
  }
 },
 "nbformat": 4,
 "nbformat_minor": 2
}
